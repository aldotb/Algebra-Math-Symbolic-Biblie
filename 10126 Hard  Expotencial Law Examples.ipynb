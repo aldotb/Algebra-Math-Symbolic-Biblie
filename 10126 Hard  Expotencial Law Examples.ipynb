{
 "cells": [
  {
   "cell_type": "code",
   "execution_count": 1,
   "id": "f656adec-8517-459f-854c-923d83d3fcba",
   "metadata": {},
   "outputs": [],
   "source": [
    "# These examples was solved  by Mathematician Professor  ROBERTO CARLOS ALCANTARA CONDORI\n",
    "# Link\n",
    "# https://www.youtube.com/watch?v=K9Jms_whis8&list=PLGbSw9USRLuSK4bwHlp_ZCngyyJa58zxB"
   ]
  },
  {
   "cell_type": "code",
   "execution_count": 18,
   "id": "e754801f-b3ed-4b2f-8ea5-e9c387289b9a",
   "metadata": {
    "scrolled": true,
    "tags": []
   },
   "outputs": [],
   "source": [
    "from Libaldomath import *\n",
    "# this cell will be initializing your variables"
   ]
  },
  {
   "attachments": {
    "5cdba332-20d4-417d-b947-9be92022f0fe.png": {
     "image/png": "[encoded data removed]"
    }
   },
   "cell_type": "markdown",
   "id": "d58c30a0-7ba1-499a-b0d7-f71114fdd34f",
   "metadata": {},
   "source": [
    "![image.png](attachment:5cdba332-20d4-417d-b947-9be92022f0fe.png)"
   ]
  },
  {
   "attachments": {
    "dbb46bca-7a6e-4049-b656-defbb113f52b.png": {
     "image/png": "[encoded data removed]"
    }
   },
   "cell_type": "markdown",
   "id": "c7308d38-2726-4aca-8e98-d03a649666ed",
   "metadata": {},
   "source": [
    "![image.png](attachment:dbb46bca-7a6e-4049-b656-defbb113f52b.png)"
   ]
  },
  {
   "cell_type": "code",
   "execution_count": 19,
   "id": "733ab78f-d806-4653-b5eb-1e59dd19fb6c",
   "metadata": {
    "tags": []
   },
   "outputs": [
    {
     "data": {
      "text/latex": [
       "$\\displaystyle P =a^{b^{a + 1}} + b^{a^{b + 1}}$"
      ],
      "text/plain": [
       "<IPython.core.display.Math object>"
      ]
     },
     "metadata": {},
     "output_type": "display_data"
    }
   ],
   "source": [
    "P=MyEq(a**(b**(a+1))+b**(a**(b+1)),'P')"
   ]
  },
  {
   "cell_type": "code",
   "execution_count": 20,
   "id": "42d596b8-0694-4776-9aa2-a46de4233492",
   "metadata": {
    "tags": []
   },
   "outputs": [
    {
     "data": {
      "text/latex": [
       "$\\displaystyle e1 =b^{a + 1}$"
      ],
      "text/plain": [
       "<IPython.core.display.Math object>"
      ]
     },
     "metadata": {},
     "output_type": "display_data"
    },
    {
     "data": {
      "text/latex": [
       "$\\displaystyle e2 =a^{b + 1}$"
      ],
      "text/plain": [
       "<IPython.core.display.Math object>"
      ]
     },
     "metadata": {},
     "output_type": "display_data"
    },
    {
     "data": {
      "text/latex": [
       "$\\displaystyle P =a^{b^{a + 1}} + b^{a^{b + 1}}$"
      ],
      "text/plain": [
       "<IPython.core.display.Math object>"
      ]
     },
     "metadata": {},
     "output_type": "display_data"
    }
   ],
   "source": [
    "e1=MyEq(b**(a+1),'e1')\n",
    "e2=MyEq(a**(b+1),'e2')\n",
    "P=MyEq(a**e1()+b**e2(),'P')"
   ]
  },
  {
   "cell_type": "code",
   "execution_count": 21,
   "id": "25d8e549-9e26-4428-845f-1901ae1083a9",
   "metadata": {
    "tags": []
   },
   "outputs": [
    {
     "data": {
      "text/latex": [
       "$\\displaystyle e1 =b b^{a}$"
      ],
      "text/plain": [
       "<IPython.core.display.Math object>"
      ]
     },
     "metadata": {},
     "output_type": "display_data"
    },
    {
     "data": {
      "text/latex": [
       "$\\displaystyle e2 =a a^{b}$"
      ],
      "text/plain": [
       "<IPython.core.display.Math object>"
      ]
     },
     "metadata": {},
     "output_type": "display_data"
    }
   ],
   "source": [
    "e1.disjoinbase()\n",
    "e2.disjoinbase()"
   ]
  },
  {
   "cell_type": "code",
   "execution_count": 22,
   "id": "f548a0b1-10cc-4939-8d26-542e8cb6d96c",
   "metadata": {
    "tags": []
   },
   "outputs": [
    {
     "data": {
      "text/latex": [
       "$\\displaystyle P =a^{b b^{a}} + b^{a a^{b}}$"
      ],
      "text/plain": [
       "<IPython.core.display.Math object>"
      ]
     },
     "metadata": {},
     "output_type": "display_data"
    }
   ],
   "source": [
    "P=MyEq(a**e1()+b**e2(),'P')"
   ]
  },
  {
   "cell_type": "code",
   "execution_count": 23,
   "id": "0f1350e5-0de0-4313-98b4-09dc64ffb139",
   "metadata": {
    "tags": []
   },
   "outputs": [
    {
     "data": {
      "text/latex": [
       "$\\displaystyle P =\\left(a^{b}\\right)^{b^{a}} + \\left(b^{a}\\right)^{a^{b}}$"
      ],
      "text/plain": [
       "<IPython.core.display.Math object>"
      ]
     },
     "metadata": {},
     "output_type": "display_data"
    }
   ],
   "source": [
    "P.pow2powpow()"
   ]
  },
  {
   "cell_type": "code",
   "execution_count": 24,
   "id": "5c4a4b68-9790-4daa-af09-63fef2cfe2d9",
   "metadata": {
    "tags": []
   },
   "outputs": [
    {
     "data": {
      "text/latex": [
       "$\\displaystyle P =\\left(a^{b}\\right)^{b^{a}} + \\left(b^{a}\\right)^{a^{b}}$"
      ],
      "text/plain": [
       "<IPython.core.display.Math object>"
      ]
     },
     "metadata": {},
     "output_type": "display_data"
    }
   ],
   "source": [
    "P.set(a**b,2)"
   ]
  },
  {
   "cell_type": "code",
   "execution_count": 25,
   "id": "784624a8-b3f3-439e-85c4-4724baa9a7e2",
   "metadata": {
    "tags": []
   },
   "outputs": [
    {
     "data": {
      "text/latex": [
       "$\\displaystyle P =\\left(a^{b}\\right)^{b^{a}} + \\left(b^{a}\\right)^{a^{b}}$"
      ],
      "text/plain": [
       "<IPython.core.display.Math object>"
      ]
     },
     "metadata": {},
     "output_type": "display_data"
    }
   ],
   "source": [
    "P.set(b**a,3)"
   ]
  },
  {
   "cell_type": "code",
   "execution_count": 26,
   "id": "eb963196-91d2-45a7-bf34-bbef03fc730c",
   "metadata": {
    "scrolled": true,
    "tags": []
   },
   "outputs": [],
   "source": [
    "from Libaldomath import *\n",
    "# this cell will be initializing your variables"
   ]
  },
  {
   "attachments": {
    "5cdba332-20d4-417d-b947-9be92022f0fe.png": {
     "image/png": "[encoded data removed]"
    }
   },
   "cell_type": "markdown",
   "id": "b777f144-0aa9-433d-aba5-7b8e4509428a",
   "metadata": {},
   "source": [
    "![image.png](attachment:5cdba332-20d4-417d-b947-9be92022f0fe.png)"
   ]
  },
  {
   "attachments": {
    "881b9ae1-d39c-4e90-9b83-745418b9be50.png": {
     "image/png": "[encoded data removed]"
    }
   },
   "cell_type": "markdown",
   "id": "567985f6-836b-4e77-bec8-f5c66531cfae",
   "metadata": {},
   "source": [
    "![image.png](attachment:881b9ae1-d39c-4e90-9b83-745418b9be50.png)"
   ]
  },
  {
   "cell_type": "code",
   "execution_count": 27,
   "id": "3b283ffb-5246-40ea-96c1-5c864416dbfd",
   "metadata": {
    "tags": []
   },
   "outputs": [
    {
     "data": {
      "text/latex": [
       "$\\displaystyle P =x^{- \\frac{3 x}{2}}$"
      ],
      "text/plain": [
       "<IPython.core.display.Math object>"
      ]
     },
     "metadata": {},
     "output_type": "display_data"
    }
   ],
   "source": [
    "P=MyEq(x**(-3*x/2),'P')"
   ]
  },
  {
   "cell_type": "code",
   "execution_count": 28,
   "id": "a5c2217a-bf24-48ae-9f36-17d614682db3",
   "metadata": {
    "tags": []
   },
   "outputs": [
    {
     "data": {
      "text/latex": [
       "$\\displaystyle P =x^{x z}$"
      ],
      "text/plain": [
       "<IPython.core.display.Math object>"
      ]
     },
     "metadata": {},
     "output_type": "display_data"
    }
   ],
   "source": [
    "# we will set z=-3/2 then\n",
    "P=MyEq(x**(z*x),'P')"
   ]
  },
  {
   "cell_type": "code",
   "execution_count": 29,
   "id": "cc916a7a-409f-460e-bae7-733969db75cf",
   "metadata": {
    "tags": []
   },
   "outputs": [
    {
     "data": {
      "text/latex": [
       "$\\displaystyle P =\\left(x^{x}\\right)^{z}$"
      ],
      "text/plain": [
       "<IPython.core.display.Math object>"
      ]
     },
     "metadata": {},
     "output_type": "display_data"
    }
   ],
   "source": [
    "P.pow2powpow()"
   ]
  },
  {
   "cell_type": "code",
   "execution_count": 30,
   "id": "7c3bcab1-20e0-44a8-b0ef-9e62a759cef1",
   "metadata": {
    "tags": []
   },
   "outputs": [
    {
     "data": {
      "text/latex": [
       "$\\displaystyle P =\\left(x^{x}\\right)^{z}$"
      ],
      "text/plain": [
       "<IPython.core.display.Math object>"
      ]
     },
     "metadata": {},
     "output_type": "display_data"
    }
   ],
   "source": [
    "P.set(x**x,cfrac(1,9))"
   ]
  },
  {
   "cell_type": "code",
   "execution_count": 31,
   "id": "8a7269ce-1e42-45c6-bf77-d415f5525314",
   "metadata": {
    "tags": []
   },
   "outputs": [
    {
     "data": {
      "text/latex": [
       "$\\displaystyle P =\\left(x^{x}\\right)^{z}$"
      ],
      "text/plain": [
       "<IPython.core.display.Math object>"
      ]
     },
     "metadata": {},
     "output_type": "display_data"
    }
   ],
   "source": [
    "P.set(z,cfrac(-3,2))"
   ]
  },
  {
   "cell_type": "code",
   "execution_count": 32,
   "id": "4259b93f-9e6f-4bb4-b8e1-dd72539fe7a6",
   "metadata": {
    "tags": []
   },
   "outputs": [
    {
     "data": {
      "text/latex": [
       "$\\displaystyle P =\\left(x^{x}\\right)^{z}$"
      ],
      "text/plain": [
       "<IPython.core.display.Math object>"
      ]
     },
     "metadata": {},
     "output_type": "display_data"
    }
   ],
   "source": [
    "P.simplify()"
   ]
  },
  {
   "cell_type": "code",
   "execution_count": 33,
   "id": "410a56b9-db65-45fd-a027-dd282b4303f0",
   "metadata": {
    "scrolled": true,
    "tags": []
   },
   "outputs": [],
   "source": [
    "from Libaldomath import *\n",
    "# this cell will be initializing your variables"
   ]
  },
  {
   "attachments": {
    "5cdba332-20d4-417d-b947-9be92022f0fe.png": {
     "image/png": "[encoded data removed]"
    }
   },
   "cell_type": "markdown",
   "id": "de8048cf-0db2-4e3e-b17b-df59b2a2bbd9",
   "metadata": {},
   "source": [
    "![image.png](attachment:5cdba332-20d4-417d-b947-9be92022f0fe.png)"
   ]
  },
  {
   "attachments": {
    "4f599ed3-8998-435e-b125-1cdf02a379a9.png": {
     "image/png": "[encoded data removed]"
    }
   },
   "cell_type": "markdown",
   "id": "2567493b-98c1-44d8-b66d-f0bbf6147527",
   "metadata": {},
   "source": [
    "![image.png](attachment:4f599ed3-8998-435e-b125-1cdf02a379a9.png)"
   ]
  },
  {
   "cell_type": "code",
   "execution_count": 34,
   "id": "98f01e66-c1e9-42d1-bbf5-e294ffa36e26",
   "metadata": {
    "tags": []
   },
   "outputs": [
    {
     "data": {
      "text/latex": [
       "$\\displaystyle P =2^{- n - 2} \\left(- 2^{n + 1} + 2^{n + 2} + 2^{n + 3}\\right)$"
      ],
      "text/plain": [
       "<IPython.core.display.Math object>"
      ]
     },
     "metadata": {},
     "output_type": "display_data"
    }
   ],
   "source": [
    "P=MyEq((2**(n+3)+2**(n+2)-2**(n+1))/(2**(n+2)),'P')"
   ]
  },
  {
   "cell_type": "code",
   "execution_count": 35,
   "id": "ef71bb8d-c649-4ac3-b3a6-d128cf28ff34",
   "metadata": {
    "tags": []
   },
   "outputs": [
    {
     "data": {
      "text/latex": [
       "$\\displaystyle P =\\frac{2^{- n} \\left(- 2^{n + 1} + 2^{n + 2} + 2^{n + 3}\\right)}{4}$"
      ],
      "text/plain": [
       "<IPython.core.display.Math object>"
      ]
     },
     "metadata": {},
     "output_type": "display_data"
    }
   ],
   "source": [
    "P.disjoinbase()"
   ]
  },
  {
   "cell_type": "code",
   "execution_count": 36,
   "id": "a5e62a7f-b868-422d-921a-6396bfd19ace",
   "metadata": {
    "tags": []
   },
   "outputs": [
    {
     "data": {
      "text/latex": [
       "$\\displaystyle P =\\frac{5}{2}$"
      ],
      "text/plain": [
       "<IPython.core.display.Math object>"
      ]
     },
     "metadata": {},
     "output_type": "display_data"
    }
   ],
   "source": [
    "P.factor()"
   ]
  },
  {
   "attachments": {
    "5cdba332-20d4-417d-b947-9be92022f0fe.png": {
     "image/png": "[encoded data removed]"
    }
   },
   "cell_type": "markdown",
   "id": "5701ac97-d862-4a96-bc42-4de62d8dfc41",
   "metadata": {},
   "source": [
    "![image.png](attachment:5cdba332-20d4-417d-b947-9be92022f0fe.png)"
   ]
  },
  {
   "cell_type": "code",
   "execution_count": 37,
   "id": "50ab9d2f-27d3-4a1d-bb52-6840bfced4c3",
   "metadata": {
    "scrolled": true,
    "tags": []
   },
   "outputs": [],
   "source": [
    "from Libaldomath import *\n",
    "# this cell will be initializing your variables"
   ]
  },
  {
   "attachments": {
    "13178c22-b769-4ba0-91dd-23bfd45ea4f0.png": {
     "image/png": "[encoded data removed]"
    }
   },
   "cell_type": "markdown",
   "id": "30236847-7349-457a-8c3a-21de3984c895",
   "metadata": {},
   "source": [
    "![image.png](attachment:13178c22-b769-4ba0-91dd-23bfd45ea4f0.png)"
   ]
  },
  {
   "cell_type": "code",
   "execution_count": 38,
   "id": "9f3338ab-15ba-44bf-b07c-63132630bca2",
   "metadata": {
    "tags": []
   },
   "outputs": [
    {
     "data": {
      "text/latex": [
       "$\\displaystyle P =x^{x^{1 + \\frac{1}{x}} + \\frac{2}{x}}$"
      ],
      "text/plain": [
       "<IPython.core.display.Math object>"
      ]
     },
     "metadata": {},
     "output_type": "display_data"
    }
   ],
   "source": [
    "P=MyEq(x**(x**(1+x**-1)+2*x**-1),'P')"
   ]
  },
  {
   "cell_type": "code",
   "execution_count": 39,
   "id": "ca15a284-9a0c-41b0-9ed6-b6bcf6396d3e",
   "metadata": {
    "tags": []
   },
   "outputs": [],
   "source": [
    "# we will z= (x**(1+x**-1)+2*x**-1)"
   ]
  },
  {
   "cell_type": "code",
   "execution_count": 40,
   "id": "ef864a7d-b879-4454-a1df-60c1d0672e4c",
   "metadata": {
    "tags": []
   },
   "outputs": [
    {
     "data": {
      "text/latex": [
       "$\\displaystyle Q =x^{1 + \\frac{1}{x}} + \\frac{2}{x}$"
      ],
      "text/plain": [
       "<IPython.core.display.Math object>"
      ]
     },
     "metadata": {},
     "output_type": "display_data"
    }
   ],
   "source": [
    "Q=MyEq((x**(1+x**-1)+2*x**-1),'Q')"
   ]
  },
  {
   "cell_type": "code",
   "execution_count": 41,
   "id": "a439eb5c-6185-4b07-9ced-05d1d7ba15a4",
   "metadata": {
    "tags": []
   },
   "outputs": [
    {
     "data": {
      "text/latex": [
       "$\\displaystyle Q =x^{1 + \\frac{1}{x}} + \\frac{2}{x}$"
      ],
      "text/plain": [
       "<IPython.core.display.Math object>"
      ]
     },
     "metadata": {},
     "output_type": "display_data"
    }
   ],
   "source": [
    "Q.set(x**(1+x**-1),2)"
   ]
  },
  {
   "cell_type": "code",
   "execution_count": 42,
   "id": "16f06914-df78-4f89-bfa7-bd88d14b3912",
   "metadata": {
    "scrolled": true,
    "tags": []
   },
   "outputs": [
    {
     "data": {
      "text/latex": [
       "$\\displaystyle Q =\\frac{x x^{1 + \\frac{1}{x}} + 2}{x}$"
      ],
      "text/plain": [
       "<IPython.core.display.Math object>"
      ]
     },
     "metadata": {},
     "output_type": "display_data"
    }
   ],
   "source": [
    "Q.factor()"
   ]
  },
  {
   "cell_type": "code",
   "execution_count": 43,
   "id": "7a9968da-2ea1-4a1c-91f0-52354a39a324",
   "metadata": {
    "tags": []
   },
   "outputs": [
    {
     "data": {
      "text/latex": [
       "$\\displaystyle Q =\\frac{x^{2 + \\frac{1}{x}} + 2}{2 x}$"
      ],
      "text/plain": [
       "<IPython.core.display.Math object>"
      ]
     },
     "metadata": {},
     "output_type": "display_data"
    }
   ],
   "source": [
    "Q.Div(2,'simplify')"
   ]
  },
  {
   "cell_type": "code",
   "execution_count": 44,
   "id": "289cfe2e-4234-48eb-820d-24e22eedc168",
   "metadata": {
    "tags": []
   },
   "outputs": [
    {
     "data": {
      "text/latex": [
       "$\\displaystyle P =x^{\\frac{x^{2 + \\frac{1}{x}} + 2}{2 x}}$"
      ],
      "text/plain": [
       "<IPython.core.display.Math object>"
      ]
     },
     "metadata": {},
     "output_type": "display_data"
    }
   ],
   "source": [
    "P=MyEq(x**Q(),'P')"
   ]
  },
  {
   "cell_type": "code",
   "execution_count": 45,
   "id": "3dc45ad1-c92a-4599-ac86-6735da0770f1",
   "metadata": {
    "tags": []
   },
   "outputs": [
    {
     "data": {
      "text/latex": [
       "$\\displaystyle P =x^{\\frac{x^{2 + \\frac{1}{x}} + 2}{2 x}}$"
      ],
      "text/plain": [
       "<IPython.core.display.Math object>"
      ]
     },
     "metadata": {},
     "output_type": "display_data"
    }
   ],
   "source": [
    "P.set(P(),2)"
   ]
  },
  {
   "cell_type": "code",
   "execution_count": 46,
   "id": "fa697999-ea06-4649-9a81-4b65218f4af2",
   "metadata": {
    "tags": []
   },
   "outputs": [
    {
     "data": {
      "text/latex": [
       "$\\displaystyle P =x^{\\frac{x^{2 + \\frac{1}{x}} + 2}{x}}$"
      ],
      "text/plain": [
       "<IPython.core.display.Math object>"
      ]
     },
     "metadata": {},
     "output_type": "display_data"
    }
   ],
   "source": [
    "P.Pow(2)"
   ]
  },
  {
   "attachments": {
    "5cdba332-20d4-417d-b947-9be92022f0fe.png": {
     "image/png": "[encoded data removed]"
    }
   },
   "cell_type": "markdown",
   "id": "2474d984-4151-4087-9288-452684574611",
   "metadata": {},
   "source": [
    "![image.png](attachment:5cdba332-20d4-417d-b947-9be92022f0fe.png)"
   ]
  },
  {
   "cell_type": "code",
   "execution_count": 47,
   "id": "aca6e409-a9aa-423b-90a3-d29e4f1757c3",
   "metadata": {
    "scrolled": true,
    "tags": []
   },
   "outputs": [],
   "source": [
    "from Libaldomath import *\n",
    "# this cell will be initializing your variables"
   ]
  },
  {
   "attachments": {
    "0dbb83cc-1af3-4b9b-8003-70d3e6eea625.png": {
     "image/png": "[encoded data removed]"
    }
   },
   "cell_type": "markdown",
   "id": "6a0b1c3c-e5bb-4501-aa22-00a7fe03cb47",
   "metadata": {},
   "source": [
    "![image.png](attachment:0dbb83cc-1af3-4b9b-8003-70d3e6eea625.png)"
   ]
  },
  {
   "cell_type": "code",
   "execution_count": 48,
   "id": "84c27426-abba-4995-87e2-ec36914e85f5",
   "metadata": {
    "tags": []
   },
   "outputs": [],
   "source": [
    "def pp(v1,v2):\n",
    "    return (v1**v2)"
   ]
  },
  {
   "cell_type": "code",
   "execution_count": 49,
   "id": "28489d81-f223-4bf0-9512-850ed1205ddd",
   "metadata": {
    "tags": []
   },
   "outputs": [
    {
     "data": {
      "text/latex": [
       "$\\displaystyle M =\\frac{\\frac{1}{b} + \\frac{1}{a}}{- \\frac{1}{b^{2}} + \\frac{1}{a^{2}}}$"
      ],
      "text/plain": [
       "<IPython.core.display.Math object>"
      ]
     },
     "metadata": {},
     "output_type": "display_data"
    }
   ],
   "source": [
    "M=MyEq(((a**-2-b**-2)/(a**-1+b**-1))**-1,'M') "
   ]
  },
  {
   "cell_type": "code",
   "execution_count": 50,
   "id": "f4b1c97f-cbb1-4d95-a53b-60a016a8311e",
   "metadata": {
    "tags": []
   },
   "outputs": [
    {
     "data": {
      "text/latex": [
       "$\\displaystyle M =- \\frac{a b}{a - b}$"
      ],
      "text/plain": [
       "<IPython.core.display.Math object>"
      ]
     },
     "metadata": {},
     "output_type": "display_data"
    }
   ],
   "source": [
    "M.simplify()"
   ]
  },
  {
   "cell_type": "code",
   "execution_count": 51,
   "id": "26355c3d-7bd3-42d7-9a26-e95345faf39e",
   "metadata": {
    "tags": []
   },
   "outputs": [
    {
     "data": {
      "text/latex": [
       "$\\displaystyle N =\\frac{1}{a^{2} b^{2} \\left(- \\frac{1}{b} + \\frac{1}{a}\\right)}$"
      ],
      "text/plain": [
       "<IPython.core.display.Math object>"
      ]
     },
     "metadata": {},
     "output_type": "display_data"
    }
   ],
   "source": [
    "N=MyEq(((a**-1-b**-1)/(a**-2*b**-2))**-1,'N') "
   ]
  },
  {
   "cell_type": "code",
   "execution_count": 52,
   "id": "a90e3904-87a6-4dce-970f-e1e95e6412ee",
   "metadata": {
    "tags": []
   },
   "outputs": [
    {
     "data": {
      "text/latex": [
       "$\\displaystyle N =- \\frac{1}{a b \\left(a - b\\right)}$"
      ],
      "text/plain": [
       "<IPython.core.display.Math object>"
      ]
     },
     "metadata": {},
     "output_type": "display_data"
    }
   ],
   "source": [
    "N.simplify()"
   ]
  },
  {
   "cell_type": "code",
   "execution_count": 53,
   "id": "d70d9521-ac62-4425-ad9f-bf6dce27afe4",
   "metadata": {
    "tags": []
   },
   "outputs": [
    {
     "data": {
      "text/latex": [
       "$\\displaystyle MN =\\frac{1}{\\left(a - b\\right)^{2}}$"
      ],
      "text/plain": [
       "<IPython.core.display.Math object>"
      ]
     },
     "metadata": {},
     "output_type": "display_data"
    }
   ],
   "source": [
    "MN=MyEq(M*N,'MN')"
   ]
  },
  {
   "attachments": {
    "5cdba332-20d4-417d-b947-9be92022f0fe.png": {
     "image/png": "[encoded data removed]"
    }
   },
   "cell_type": "markdown",
   "id": "1acfc64d-dfca-4a4f-a530-6c10c3215118",
   "metadata": {},
   "source": [
    "![image.png](attachment:5cdba332-20d4-417d-b947-9be92022f0fe.png)"
   ]
  },
  {
   "cell_type": "code",
   "execution_count": 54,
   "id": "85f55979-5c2b-408a-a993-408e8a4d0696",
   "metadata": {
    "scrolled": true,
    "tags": []
   },
   "outputs": [],
   "source": [
    "from Libaldomath import *\n",
    "# this cell will be initializing your variables"
   ]
  },
  {
   "attachments": {
    "8f555282-bb65-4f5d-a57f-570483a59e53.png": {
     "image/png": "[encoded data removed]"
    }
   },
   "cell_type": "markdown",
   "id": "c9d9e68c-2d86-4c45-a417-290848068b47",
   "metadata": {},
   "source": [
    "![image.png](attachment:8f555282-bb65-4f5d-a57f-570483a59e53.png)"
   ]
  },
  {
   "cell_type": "code",
   "execution_count": 55,
   "id": "2ef01778-ed58-4d72-8875-ce8fa6db5289",
   "metadata": {
    "scrolled": true,
    "tags": []
   },
   "outputs": [
    {
     "data": {
      "text/latex": [
       "$\\displaystyle a + b + c = 1$"
      ],
      "text/plain": [
       "<IPython.core.display.Math object>"
      ]
     },
     "metadata": {},
     "output_type": "display_data"
    },
    {
     "data": {
      "text/latex": [
       "$\\displaystyle a b + a c + b c = 2$"
      ],
      "text/plain": [
       "<IPython.core.display.Math object>"
      ]
     },
     "metadata": {},
     "output_type": "display_data"
    },
    {
     "data": {
      "text/latex": [
       "$\\displaystyle a b c = 3$"
      ],
      "text/plain": [
       "<IPython.core.display.Math object>"
      ]
     },
     "metadata": {},
     "output_type": "display_data"
    },
    {
     "data": {
      "text/latex": [
       "$\\displaystyle P = \\frac{a}{a + b c} + \\frac{b}{a c + b} + \\frac{c}{a b + c}$"
      ],
      "text/plain": [
       "<IPython.core.display.Math object>"
      ]
     },
     "metadata": {},
     "output_type": "display_data"
    }
   ],
   "source": [
    "A=MQ(a+b+c,1)\n",
    "B=MQ(a*b+a*c+b*c,2)\n",
    "C=MQ(a*b*c,3)\n",
    "F=MQ(P,a/(a+b*c)+b/(b+a*c)+c/(c+a*b))"
   ]
  },
  {
   "cell_type": "code",
   "execution_count": 56,
   "id": "12583994-c232-43d2-9885-1d4885e70f1c",
   "metadata": {
    "scrolled": true
   },
   "outputs": [
    {
     "data": {
      "text/latex": [
       "$\\displaystyle P \\left(a + b c\\right) \\left(a b + c\\right) \\left(a c + b\\right) = a^{3} b c + 2 a^{2} b^{2} + 2 a^{2} c^{2} + a b^{3} c + a b c^{3} + 3 a b c + 2 b^{2} c^{2}$"
      ],
      "text/plain": [
       "<IPython.core.display.Math object>"
      ]
     },
     "metadata": {},
     "output_type": "display_data"
    }
   ],
   "source": [
    "F.crossmul()"
   ]
  },
  {
   "cell_type": "code",
   "execution_count": 57,
   "id": "8b3cbc33-fc9a-484b-98f0-d3e498c48aed",
   "metadata": {},
   "outputs": [
    {
     "data": {
      "text/latex": [
       "$\\displaystyle P \\left(a + b c\\right) \\left(a b + c\\right) \\left(a c + b\\right) = 2 a^{2} b^{2} + 2 a^{2} c^{2} + 2 b^{2} c^{2} + a b c \\left(a^{2} + b^{2} + c^{2} + 3\\right)$"
      ],
      "text/plain": [
       "<IPython.core.display.Math object>"
      ]
     },
     "metadata": {},
     "output_type": "display_data"
    }
   ],
   "source": [
    "F.factors(a*b*c)"
   ]
  },
  {
   "cell_type": "code",
   "execution_count": 58,
   "id": "fe4e209a-7fb5-47ba-bce5-3140f058cfa8",
   "metadata": {},
   "outputs": [
    {
     "data": {
      "text/latex": [
       "$\\displaystyle \\left(a + b + c\\right)^{2} = 1$"
      ],
      "text/plain": [
       "<IPython.core.display.Math object>"
      ]
     },
     "metadata": {},
     "output_type": "display_data"
    }
   ],
   "source": [
    "A.Pow(2)"
   ]
  },
  {
   "cell_type": "code",
   "execution_count": 59,
   "id": "c96fefb9-b1ca-4150-97ae-d0e6d9b5581e",
   "metadata": {},
   "outputs": [
    {
     "data": {
      "text/latex": [
       "$\\displaystyle a^{2} + 2 a b + 2 a c + b^{2} + 2 b c + c^{2} = 1$"
      ],
      "text/plain": [
       "<IPython.core.display.Math object>"
      ]
     },
     "metadata": {},
     "output_type": "display_data"
    }
   ],
   "source": [
    "A.expand()"
   ]
  },
  {
   "cell_type": "code",
   "execution_count": 60,
   "id": "380fb583-6b8b-4d20-8124-a41072247f50",
   "metadata": {},
   "outputs": [
    {
     "data": {
      "text/latex": [
       "$\\displaystyle a^{2} + b^{2} + c^{2} = - 2 a b - 2 a c - 2 b c + 1$"
      ],
      "text/plain": [
       "<IPython.core.display.Math object>"
      ]
     },
     "metadata": {},
     "output_type": "display_data"
    }
   ],
   "source": [
    "A.Substrac(2*B.L)"
   ]
  },
  {
   "cell_type": "code",
   "execution_count": 61,
   "id": "2fe06496-4522-4ce7-891a-f7bc98f65185",
   "metadata": {},
   "outputs": [
    {
     "data": {
      "text/latex": [
       "$\\displaystyle a^{2} + b^{2} + c^{2} = 1 - 2 \\left(a b + a c + b c\\right)$"
      ],
      "text/plain": [
       "<IPython.core.display.Math object>"
      ]
     },
     "metadata": {},
     "output_type": "display_data"
    }
   ],
   "source": [
    "A.factors(-2)"
   ]
  },
  {
   "cell_type": "code",
   "execution_count": 62,
   "id": "19d1a15b-18b7-4ce2-9bc9-facd89c87d66",
   "metadata": {},
   "outputs": [
    {
     "data": {
      "text/latex": [
       "$\\displaystyle a^{2} + b^{2} + c^{2} = -3$"
      ],
      "text/plain": [
       "<IPython.core.display.Math object>"
      ]
     },
     "metadata": {},
     "output_type": "display_data"
    }
   ],
   "source": [
    "A.subs(B.L,2)"
   ]
  },
  {
   "cell_type": "code",
   "execution_count": 63,
   "id": "2cac2c0b-6bfa-45ac-922d-6cbc30d4ba69",
   "metadata": {},
   "outputs": [
    {
     "data": {
      "text/latex": [
       "$\\displaystyle P \\left(a + b c\\right) \\left(a b + c\\right) \\left(a c + b\\right) = 2 a^{2} b^{2} + 2 a^{2} c^{2} + 2 b^{2} c^{2} + a b c \\left(a^{2} + b^{2} + c^{2} + 3\\right)$"
      ],
      "text/plain": [
       "<IPython.core.display.Math object>"
      ]
     },
     "metadata": {},
     "output_type": "display_data"
    }
   ],
   "source": [
    "F.s()"
   ]
  },
  {
   "cell_type": "code",
   "execution_count": 64,
   "id": "c1d57c7f-5018-4ac1-b0c0-48870b94d06c",
   "metadata": {},
   "outputs": [
    {
     "data": {
      "text/latex": [
       "$\\displaystyle P \\left(a + b c\\right) \\left(a b + c\\right) \\left(a c + b\\right) = 2 a^{2} b^{2} + 2 a^{2} c^{2} + 2 b^{2} c^{2}$"
      ],
      "text/plain": [
       "<IPython.core.display.Math object>"
      ]
     },
     "metadata": {},
     "output_type": "display_data"
    }
   ],
   "source": [
    "F.subs(A.L,A.R)"
   ]
  },
  {
   "cell_type": "code",
   "execution_count": 65,
   "id": "781dc206-637e-4465-93ba-9510b8cc1015",
   "metadata": {},
   "outputs": [
    {
     "data": {
      "text/latex": [
       "$\\displaystyle P \\left(a + b c\\right) \\left(a b + c\\right) \\left(a c + b\\right) = 2 \\left(a^{2} b^{2} + a^{2} c^{2} + b^{2} c^{2}\\right)$"
      ],
      "text/plain": [
       "<IPython.core.display.Math object>"
      ]
     },
     "metadata": {},
     "output_type": "display_data"
    }
   ],
   "source": [
    "F.factors(2)"
   ]
  },
  {
   "cell_type": "code",
   "execution_count": 66,
   "id": "209291a2-c015-4378-9860-36898a6a65b9",
   "metadata": {},
   "outputs": [
    {
     "data": {
      "text/latex": [
       "$\\displaystyle \\left(a b + a c + b c\\right)^{2} = 4$"
      ],
      "text/plain": [
       "<IPython.core.display.Math object>"
      ]
     },
     "metadata": {},
     "output_type": "display_data"
    }
   ],
   "source": [
    "B.Pow(2)"
   ]
  },
  {
   "cell_type": "code",
   "execution_count": 67,
   "id": "56eb730c-9a56-420b-b742-75b9587722c9",
   "metadata": {},
   "outputs": [
    {
     "data": {
      "text/latex": [
       "$\\displaystyle a^{2} b^{2} + 2 a^{2} b c + a^{2} c^{2} + 2 a b^{2} c + 2 a b c^{2} + b^{2} c^{2} = 4$"
      ],
      "text/plain": [
       "<IPython.core.display.Math object>"
      ]
     },
     "metadata": {},
     "output_type": "display_data"
    }
   ],
   "source": [
    "B.expand()"
   ]
  },
  {
   "cell_type": "code",
   "execution_count": 68,
   "id": "f274e570-fc7f-490c-bec2-310d07499428",
   "metadata": {},
   "outputs": [
    {
     "data": {
      "text/latex": [
       "$\\displaystyle a^{2} b^{2} + a^{2} c^{2} + b^{2} c^{2} + a b c \\left(2 a + 2 b + 2 c\\right) = 4$"
      ],
      "text/plain": [
       "<IPython.core.display.Math object>"
      ]
     },
     "metadata": {},
     "output_type": "display_data"
    }
   ],
   "source": [
    "B.factors(a*b*c)"
   ]
  },
  {
   "cell_type": "code",
   "execution_count": 69,
   "id": "cfba29ea-28a7-4c99-b788-1885c6ca19f6",
   "metadata": {},
   "outputs": [
    {
     "data": {
      "text/latex": [
       "$\\displaystyle a^{2} b^{2} + a^{2} c^{2} + 6 a + b^{2} c^{2} + 6 b + 6 c = 4$"
      ],
      "text/plain": [
       "<IPython.core.display.Math object>"
      ]
     },
     "metadata": {},
     "output_type": "display_data"
    }
   ],
   "source": [
    "B.subs(a*b*c,3)"
   ]
  },
  {
   "cell_type": "code",
   "execution_count": 70,
   "id": "663dc9c5-9506-4ac8-8387-f684e209887f",
   "metadata": {},
   "outputs": [
    {
     "data": {
      "text/latex": [
       "$\\displaystyle a^{2} b^{2} + a^{2} c^{2} + b^{2} c^{2} + 6 \\left(a + b + c\\right) = 4$"
      ],
      "text/plain": [
       "<IPython.core.display.Math object>"
      ]
     },
     "metadata": {},
     "output_type": "display_data"
    }
   ],
   "source": [
    "B.factors(6)"
   ]
  },
  {
   "cell_type": "code",
   "execution_count": 71,
   "id": "434e7249-9200-4c48-8575-71f183bd4c0b",
   "metadata": {},
   "outputs": [
    {
     "data": {
      "text/latex": [
       "$\\displaystyle a^{2} b^{2} + a^{2} c^{2} + b^{2} c^{2} + 6 = 4$"
      ],
      "text/plain": [
       "<IPython.core.display.Math object>"
      ]
     },
     "metadata": {},
     "output_type": "display_data"
    }
   ],
   "source": [
    "B.subs(a+b+c,1)"
   ]
  },
  {
   "cell_type": "code",
   "execution_count": 72,
   "id": "aa3149e3-2039-495c-9263-b4984b17742e",
   "metadata": {
    "scrolled": true
   },
   "outputs": [
    {
     "data": {
      "text/latex": [
       "$\\displaystyle a^{2} b^{2} + a^{2} c^{2} + b^{2} c^{2} = -2$"
      ],
      "text/plain": [
       "<IPython.core.display.Math object>"
      ]
     },
     "metadata": {},
     "output_type": "display_data"
    }
   ],
   "source": [
    "B.Substrac(6) "
   ]
  },
  {
   "cell_type": "code",
   "execution_count": 73,
   "id": "963a6c95-ef7b-4476-b4cc-4821757a0c68",
   "metadata": {},
   "outputs": [
    {
     "data": {
      "text/latex": [
       "$\\displaystyle P \\left(a + b c\\right) \\left(a b + c\\right) \\left(a c + b\\right) = 2 \\left(a^{2} b^{2} + a^{2} c^{2} + b^{2} c^{2}\\right)$"
      ],
      "text/plain": [
       "<IPython.core.display.Math object>"
      ]
     },
     "metadata": {},
     "output_type": "display_data"
    }
   ],
   "source": [
    "F.s()"
   ]
  },
  {
   "cell_type": "code",
   "execution_count": 74,
   "id": "0be53ace-3553-4d6b-86f6-ed5447ccf796",
   "metadata": {},
   "outputs": [
    {
     "data": {
      "text/latex": [
       "$\\displaystyle P \\left(a + b c\\right) \\left(a b + c\\right) \\left(a c + b\\right) = 2 \\left(a^{2} b^{2} + a^{2} c^{2} + b^{2} c^{2}\\right)$"
      ],
      "text/plain": [
       "<IPython.core.display.Math object>"
      ]
     },
     "metadata": {},
     "output_type": "display_data"
    }
   ],
   "source": [
    "F.factors(2)"
   ]
  },
  {
   "cell_type": "code",
   "execution_count": 75,
   "id": "4ddebf07-e2e1-429a-a7ec-0f11cf9786c8",
   "metadata": {},
   "outputs": [
    {
     "data": {
      "text/latex": [
       "$\\displaystyle P \\left(a + b c\\right) \\left(a b + c\\right) \\left(a c + b\\right) = -4$"
      ],
      "text/plain": [
       "<IPython.core.display.Math object>"
      ]
     },
     "metadata": {},
     "output_type": "display_data"
    }
   ],
   "source": [
    "F.subs(B.L,B.R)"
   ]
  },
  {
   "cell_type": "code",
   "execution_count": 76,
   "id": "29a17e43-9702-481f-a073-da6a3b9fdaa0",
   "metadata": {},
   "outputs": [
    {
     "data": {
      "text/latex": [
       "$\\displaystyle P = - \\frac{4}{a^{3} b c + a^{2} b^{2} c^{2} + a^{2} b^{2} + a^{2} c^{2} + a b^{3} c + a b c^{3} + a b c + b^{2} c^{2}}$"
      ],
      "text/plain": [
       "<IPython.core.display.Math object>"
      ]
     },
     "metadata": {},
     "output_type": "display_data"
    }
   ],
   "source": [
    "F.alone(P)"
   ]
  },
  {
   "cell_type": "code",
   "execution_count": 77,
   "id": "62d50cf7-9567-4b88-85b7-9da50d86c36c",
   "metadata": {},
   "outputs": [
    {
     "data": {
      "text/latex": [
       "$\\displaystyle P = - \\frac{4}{a^{2} b^{2} + a^{2} c^{2} + b^{2} c^{2} + a b c \\left(a^{2} + a b c + b^{2} + c^{2} + 1\\right)}$"
      ],
      "text/plain": [
       "<IPython.core.display.Math object>"
      ]
     },
     "metadata": {},
     "output_type": "display_data"
    }
   ],
   "source": [
    "F.factors(a*b*c)"
   ]
  },
  {
   "cell_type": "code",
   "execution_count": 78,
   "id": "6a5ad21d-5992-4877-ac5b-df57f7011281",
   "metadata": {},
   "outputs": [
    {
     "data": {
      "text/latex": [
       "$\\displaystyle P = - \\frac{4}{a^{2} b^{2} + a^{2} c^{2} + 3 a^{2} + b^{2} c^{2} + 3 b^{2} + 3 c^{2} + 12}$"
      ],
      "text/plain": [
       "<IPython.core.display.Math object>"
      ]
     },
     "metadata": {},
     "output_type": "display_data"
    }
   ],
   "source": [
    "F.subs(a*b*c,3)"
   ]
  },
  {
   "cell_type": "code",
   "execution_count": 79,
   "id": "04fa4db4-d193-4f98-8065-d75259a82a1c",
   "metadata": {},
   "outputs": [
    {
     "data": {
      "text/latex": [
       "$\\displaystyle P = - \\frac{4}{a^{2} b^{2} + a^{2} c^{2} + b^{2} c^{2} + 3 \\left(a^{2} + b^{2} + c^{2} + 4\\right)}$"
      ],
      "text/plain": [
       "<IPython.core.display.Math object>"
      ]
     },
     "metadata": {},
     "output_type": "display_data"
    }
   ],
   "source": [
    "F.factors(3)"
   ]
  },
  {
   "cell_type": "code",
   "execution_count": 80,
   "id": "500eb1c4-73f2-4cd0-9247-320a8d5e69aa",
   "metadata": {},
   "outputs": [
    {
     "data": {
      "text/latex": [
       "$\\displaystyle P = - \\frac{4}{a^{2} b^{2} + a^{2} c^{2} + b^{2} c^{2} + 3}$"
      ],
      "text/plain": [
       "<IPython.core.display.Math object>"
      ]
     },
     "metadata": {},
     "output_type": "display_data"
    }
   ],
   "source": [
    "F.subs(a*a+b*b+c*c+4,1)"
   ]
  },
  {
   "cell_type": "code",
   "execution_count": 81,
   "id": "e2359bbd-480e-494e-b829-5ba75996e9bd",
   "metadata": {},
   "outputs": [
    {
     "data": {
      "text/latex": [
       "$\\displaystyle P = -4$"
      ],
      "text/plain": [
       "<IPython.core.display.Math object>"
      ]
     },
     "metadata": {},
     "output_type": "display_data"
    }
   ],
   "source": [
    "F.subs(B.L,B.R)"
   ]
  },
  {
   "cell_type": "code",
   "execution_count": null,
   "id": "a6c6eb89-f030-49c4-8470-4f3a7fc32545",
   "metadata": {},
   "outputs": [],
   "source": []
  },
  {
   "cell_type": "code",
   "execution_count": null,
   "id": "4fbbc6f8-637a-41aa-af21-b75058a9d3eb",
   "metadata": {},
   "outputs": [],
   "source": []
  },
  {
   "cell_type": "code",
   "execution_count": null,
   "id": "a070c3e1-714f-4f90-a590-a37b21ce0444",
   "metadata": {},
   "outputs": [],
   "source": []
  }
 ],
 "metadata": {
  "kernelspec": {
   "display_name": "Python 3 (ipykernel)",
   "language": "python",
   "name": "python3"
  },
  "language_info": {
   "codemirror_mode": {
    "name": "ipython",
    "version": 3
   },
   "file_extension": ".py",
   "mimetype": "text/x-python",
   "name": "python",
   "nbconvert_exporter": "python",
   "pygments_lexer": "ipython3",
   "version": "3.9.0"
  }
 },
 "nbformat": 4,
 "nbformat_minor": 5
}
