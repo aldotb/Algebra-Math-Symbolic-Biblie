{
 "cells": [
  {
   "cell_type": "code",
   "execution_count": 1,
   "id": "72c37d49-ad96-4630-8eed-6cbe5a642e56",
   "metadata": {},
   "outputs": [],
   "source": [
    "# These examples was solved  by Mathematician Professor  ROBERTO CARLOS ALCANTARA CONDORI\n",
    "# Link\n",
    "# https://www.youtube.com/watch?v=K9Jms_whis8&list=PLGbSw9USRLuSK4bwHlp_ZCngyyJa58zxB"
   ]
  },
  {
   "cell_type": "markdown",
   "id": "42808ce5-9b3d-4ad6-abf5-ba832fb3a599",
   "metadata": {},
   "source": [
    "#### Library :  Libaldo.py\n",
    "* This library include:\n",
    "  * sympy.py The best symbolic math library for me\n",
    "  * numpy as np, matplotlib.pyplot as plt IPython.display  \n",
    "  * libaldo_math2.py this module have some util tools for classic math functions  \n",
    "  * libaldo_algorith.py some algorith to manage simple math functions\n",
    "  * lib_MyEq , this module manage maths Eq\n",
    "  * lib_MyEqEq , this module will be MyEq=MyEq\n",
    "* Also include the most used variables like   ,x,y,z,alpha,mu..   etc... mayby 150 variables  "
   ]
  },
  {
   "cell_type": "code",
   "execution_count": 2,
   "id": "acd130f9-7310-4fca-8ec1-a894bf7361e3",
   "metadata": {
    "tags": []
   },
   "outputs": [],
   "source": [
    "from  Libaldomath  import *\n",
    "# this cell will be initializing your variables,get help run helplib"
   ]
  },
  {
   "attachments": {
    "c15905fe-892f-41fe-a113-d535d29cda49.png": {
     "image/png": "[encoded data removed]"
    }
   },
   "cell_type": "markdown",
   "id": "481cec55-af44-4dc0-8abe-da357e6eebca",
   "metadata": {},
   "source": [
    "![image.png](attachment:c15905fe-892f-41fe-a113-d535d29cda49.png)"
   ]
  },
  {
   "attachments": {
    "54df9e1e-714e-4371-a5f2-ffb26663218e.png": {
     "image/png": "[encoded data removed]"
    }
   },
   "cell_type": "markdown",
   "id": "c4ae9f2c-d86a-4f59-a6b5-a77643485227",
   "metadata": {},
   "source": [
    "![image.png](attachment:54df9e1e-714e-4371-a5f2-ffb26663218e.png)"
   ]
  },
  {
   "attachments": {
    "c72f9718-3788-401b-92ec-b5c1ed4b1e1f.png": {
     "image/png": "[encoded data removed]"
    }
   },
   "cell_type": "markdown",
   "id": "62113f01-2b30-4c22-ae09-0fafadcc309f",
   "metadata": {},
   "source": [
    "![image.png](attachment:c72f9718-3788-401b-92ec-b5c1ed4b1e1f.png)"
   ]
  },
  {
   "cell_type": "code",
   "execution_count": 3,
   "id": "07375c4f-06d8-43b0-a7bd-750668b85603",
   "metadata": {
    "tags": []
   },
   "outputs": [
    {
     "data": {
      "text/latex": [
       "$\\displaystyle e1 =x + y$"
      ],
      "text/plain": [
       "<IPython.core.display.Math object>"
      ]
     },
     "metadata": {},
     "output_type": "display_data"
    }
   ],
   "source": [
    "e1=MyEq(x+y,'e1') # P=MyEq(expr,'P') return Equation class with name P"
   ]
  },
  {
   "cell_type": "code",
   "execution_count": 4,
   "id": "12c3cba4-4708-45c4-a393-1bf936bdfa83",
   "metadata": {
    "tags": []
   },
   "outputs": [
    {
     "data": {
      "text/latex": [
       "$\\displaystyle e1 =\\left(x + y\\right)^{\\frac{1}{a}}$"
      ],
      "text/plain": [
       "<IPython.core.display.Math object>"
      ]
     },
     "metadata": {},
     "output_type": "display_data"
    }
   ],
   "source": [
    "e1.Rpow(a) # rpow(e1,a) return e1**1/a , e1= symmbol, class, numeric..  wathever"
   ]
  },
  {
   "cell_type": "code",
   "execution_count": 5,
   "id": "51803d24-ba2e-4424-8e01-abfb31fbf960",
   "metadata": {
    "tags": []
   },
   "outputs": [
    {
     "data": {
      "text/latex": [
       "$\\displaystyle e2 =\\left|{x + y}\\right|$"
      ],
      "text/plain": [
       "<IPython.core.display.Math object>"
      ]
     },
     "metadata": {},
     "output_type": "display_data"
    }
   ],
   "source": [
    "e2=MyEq(abs(x+y),'e2')"
   ]
  },
  {
   "cell_type": "code",
   "execution_count": 6,
   "id": "8c059a12-eed8-43db-acbb-ac24264e7107",
   "metadata": {
    "tags": []
   },
   "outputs": [
    {
     "data": {
      "image/png": "[encoded data removed]",
      "text/latex": [
       "$\\displaystyle x + y$"
      ],
      "text/plain": [
       "x + y"
      ]
     },
     "execution_count": 6,
     "metadata": {},
     "output_type": "execute_result"
    }
   ],
   "source": [
    "kilabs(e2) # killabs(|e1|) return e1  , e1= symmbol, class, numeric..  wathever"
   ]
  },
  {
   "cell_type": "code",
   "execution_count": 7,
   "id": "5effde09-5aac-493a-ad0a-efa8893e00e7",
   "metadata": {
    "tags": []
   },
   "outputs": [
    {
     "data": {
      "text/latex": [
       "$\\displaystyle e3 =\\sqrt{3 x + y^{z}}$"
      ],
      "text/plain": [
       "<IPython.core.display.Math object>"
      ]
     },
     "metadata": {},
     "output_type": "display_data"
    }
   ],
   "source": [
    "e3=MyEq(rpow(3*x+y**z),'e3') # P=MyEq(expr,'P') return Equation class with name P"
   ]
  },
  {
   "cell_type": "code",
   "execution_count": 8,
   "id": "51f6aaf0-2179-46a6-b5c6-1e2bc912b730",
   "metadata": {
    "tags": []
   },
   "outputs": [
    {
     "data": {
      "image/png": "[encoded data removed]",
      "text/latex": [
       "$\\displaystyle 3 x + y^{z}$"
      ],
      "text/plain": [
       "       z\n",
       "3⋅x + y "
      ]
     },
     "execution_count": 8,
     "metadata": {},
     "output_type": "execute_result"
    }
   ],
   "source": [
    "insideroot(e3) # insideroot(sqrt(a)) return a  , a= symmbol, class, numeric..  wathever"
   ]
  },
  {
   "cell_type": "code",
   "execution_count": 9,
   "id": "2ed06843-ee44-4e47-b84e-641836145724",
   "metadata": {
    "tags": []
   },
   "outputs": [
    {
     "data": {
      "text/latex": [
       "$\\displaystyle e4 =\\left(3 x + y\\right)^{z}$"
      ],
      "text/plain": [
       "<IPython.core.display.Math object>"
      ]
     },
     "metadata": {},
     "output_type": "display_data"
    }
   ],
   "source": [
    "e4=MyEq((3*x+y)**z,'e4')"
   ]
  },
  {
   "cell_type": "code",
   "execution_count": 10,
   "id": "619cd25e-75b4-4964-aed8-8575295ffdc3",
   "metadata": {
    "tags": []
   },
   "outputs": [
    {
     "data": {
      "image/png": "[encoded data removed]",
      "text/latex": [
       "$\\displaystyle z$"
      ],
      "text/plain": [
       "z"
      ]
     },
     "execution_count": 10,
     "metadata": {},
     "output_type": "execute_result"
    }
   ],
   "source": [
    "getexponent(e4()) # getexponent(a**b) return b  "
   ]
  },
  {
   "cell_type": "code",
   "execution_count": 11,
   "id": "b1eae486-6cbb-4da1-95fb-5b42595ac9f0",
   "metadata": {
    "tags": []
   },
   "outputs": [
    {
     "data": {
      "image/png": "[encoded data removed]",
      "text/latex": [
       "$\\displaystyle 3 x + y$"
      ],
      "text/plain": [
       "3⋅x + y"
      ]
     },
     "execution_count": 11,
     "metadata": {},
     "output_type": "execute_result"
    }
   ],
   "source": [
    "getbase(e4()) # getbase(a**b) return a"
   ]
  },
  {
   "attachments": {
    "54df9e1e-714e-4371-a5f2-ffb26663218e.png": {
     "image/png": "[encoded data removed]"
    }
   },
   "cell_type": "markdown",
   "id": "2ea8fdad-5403-40cb-b5c7-77a7caba4e4e",
   "metadata": {},
   "source": [
    "![image.png](attachment:54df9e1e-714e-4371-a5f2-ffb26663218e.png)"
   ]
  },
  {
   "attachments": {
    "c15905fe-892f-41fe-a113-d535d29cda49.png": {
     "image/png": "[encoded data removed]"
    }
   },
   "cell_type": "markdown",
   "id": "6c870575-3af3-4caa-8d98-02af120027d3",
   "metadata": {},
   "source": [
    "![image.png](attachment:c15905fe-892f-41fe-a113-d535d29cda49.png)"
   ]
  },
  {
   "cell_type": "code",
   "execution_count": 12,
   "id": "9f054fb4-7e16-48c2-ad87-43679aa08a48",
   "metadata": {
    "tags": []
   },
   "outputs": [],
   "source": [
    "from  Libaldomath  import *\n",
    "# this cell will be initializing your variables,get help run helplib"
   ]
  },
  {
   "cell_type": "code",
   "execution_count": 13,
   "id": "23363714-2584-45f4-b708-eaa68a8efab8",
   "metadata": {
    "tags": []
   },
   "outputs": [
    {
     "data": {
      "text/latex": [
       "$\\displaystyle e1 =3 x^{a} + 4 y^{b}$"
      ],
      "text/plain": [
       "<IPython.core.display.Math object>"
      ]
     },
     "metadata": {},
     "output_type": "display_data"
    }
   ],
   "source": [
    "e1=MyEq(3*x**a+4*y**b,'e1') # P=MyEq(expr,'P') return Equation class with name P"
   ]
  },
  {
   "cell_type": "code",
   "execution_count": 14,
   "id": "eef30889-aa0c-406a-97a2-fdfbbb3c3c7b",
   "metadata": {
    "tags": []
   },
   "outputs": [
    {
     "data": {
      "image/png": "[encoded data removed]",
      "text/latex": [
       "$\\displaystyle 3 x^{2} + 4 y^{b}$"
      ],
      "text/plain": [
       "   2      b\n",
       "3⋅x  + 4⋅y "
      ]
     },
     "execution_count": 14,
     "metadata": {},
     "output_type": "execute_result"
    }
   ],
   "source": [
    "e1(a=2)"
   ]
  },
  {
   "cell_type": "code",
   "execution_count": 15,
   "id": "aedc5e77-6285-42de-84e5-3b4215021ae3",
   "metadata": {
    "tags": []
   },
   "outputs": [
    {
     "data": {
      "image/png": "[encoded data removed]",
      "text/latex": [
       "$\\displaystyle 3 x^{2} + \\frac{4}{y}$"
      ],
      "text/plain": [
       "   2   4\n",
       "3⋅x  + ─\n",
       "       y"
      ]
     },
     "execution_count": 15,
     "metadata": {},
     "output_type": "execute_result"
    }
   ],
   "source": [
    "e1(a=2,b=-1)"
   ]
  },
  {
   "attachments": {
    "73517cb3-98da-4c40-8d77-21db4972fcb9.png": {
     "image/png": "[encoded data removed]"
    }
   },
   "cell_type": "markdown",
   "id": "ea4f7568-8a10-40ea-9bd1-901f6b98cc82",
   "metadata": {},
   "source": [
    "![image.png](attachment:73517cb3-98da-4c40-8d77-21db4972fcb9.png)"
   ]
  },
  {
   "attachments": {
    "364a3b5a-4f08-44a6-8c43-bd9b032d1eb2.png": {
     "image/png": "[encoded data removed]"
    }
   },
   "cell_type": "markdown",
   "id": "6c980f8f-9767-41e7-a121-721a9944b3f6",
   "metadata": {},
   "source": [
    "![image.png](attachment:364a3b5a-4f08-44a6-8c43-bd9b032d1eb2.png)"
   ]
  },
  {
   "attachments": {
    "18eae8fa-e1f5-494a-bfb4-ff382d9deb43.png": {
     "image/png": "[encoded data removed]"
    }
   },
   "cell_type": "markdown",
   "id": "3c4108bf-78f3-49a0-a7fb-f1b0209deb96",
   "metadata": {},
   "source": [
    "![image.png](attachment:18eae8fa-e1f5-494a-bfb4-ff382d9deb43.png)"
   ]
  },
  {
   "cell_type": "code",
   "execution_count": 16,
   "id": "36306f2c-46aa-4152-bbe9-533e49fd7e0c",
   "metadata": {
    "tags": []
   },
   "outputs": [],
   "source": [
    "# We will find F(x) in the upper example\n",
    "e1=(x+1)**2\n",
    "e2=2*x*x+4*x+5"
   ]
  },
  {
   "cell_type": "code",
   "execution_count": 17,
   "id": "3130c521-4a47-4a1d-9bd8-a54c56de321e",
   "metadata": {
    "tags": []
   },
   "outputs": [
    {
     "data": {
      "image/png": "[encoded data removed]",
      "text/latex": [
       "$\\displaystyle 2 x + 3$"
      ],
      "text/plain": [
       "2⋅x + 3"
      ]
     },
     "execution_count": 17,
     "metadata": {},
     "output_type": "execute_result"
    }
   ],
   "source": [
    "findFunc(2*x*x+4*x+5,['A','P'],[1,2])"
   ]
  },
  {
   "cell_type": "code",
   "execution_count": 18,
   "id": "bf7a45ca-4407-4242-a208-421c93412794",
   "metadata": {
    "tags": []
   },
   "outputs": [
    {
     "data": {
      "text/latex": [
       "$\\displaystyle F =2 x + 3$"
      ],
      "text/plain": [
       "<IPython.core.display.Math object>"
      ]
     },
     "metadata": {},
     "output_type": "display_data"
    }
   ],
   "source": [
    "# now ..we check ...\n",
    "F=MyEq(2*x+3,'F')"
   ]
  },
  {
   "cell_type": "code",
   "execution_count": 19,
   "id": "8d9198d7-ceec-43a1-8cc3-972fccfc3e6f",
   "metadata": {
    "tags": []
   },
   "outputs": [
    {
     "data": {
      "image/png": "[encoded data removed]",
      "text/latex": [
       "$\\displaystyle 2 x^{2} + 4 x + 5$"
      ],
      "text/plain": [
       "   2          \n",
       "2⋅x  + 4⋅x + 5"
      ]
     },
     "execution_count": 19,
     "metadata": {},
     "output_type": "execute_result"
    }
   ],
   "source": [
    "# is ok\n",
    "expand(F(x=(x+1)**2))"
   ]
  },
  {
   "attachments": {
    "73517cb3-98da-4c40-8d77-21db4972fcb9.png": {
     "image/png": "[encoded data removed]"
    }
   },
   "cell_type": "markdown",
   "id": "3a3d1b7a-ac72-4114-8df8-d45dacadc99e",
   "metadata": {},
   "source": [
    "![image.png](attachment:73517cb3-98da-4c40-8d77-21db4972fcb9.png)"
   ]
  },
  {
   "attachments": {
    "d79bf349-e98b-4c1f-8bf3-5fe11659ddb7.png": {
     "image/png": "[encoded data removed]"
    }
   },
   "cell_type": "markdown",
   "id": "415c9ec4-5941-4770-91d8-b8eeb6b4f427",
   "metadata": {},
   "source": [
    "![image.png](attachment:d79bf349-e98b-4c1f-8bf3-5fe11659ddb7.png)"
   ]
  },
  {
   "cell_type": "code",
   "execution_count": 20,
   "id": "c0266a3f-88b0-4b37-b631-2c0835705d74",
   "metadata": {
    "tags": []
   },
   "outputs": [],
   "source": [
    "from  Libaldomath  import *\n",
    "# this cell will be initializing your variables,get help run helplib"
   ]
  },
  {
   "cell_type": "code",
   "execution_count": 21,
   "id": "16733a6b-0b39-4a4b-b916-a9300693c28f",
   "metadata": {
    "tags": []
   },
   "outputs": [
    {
     "data": {
      "text/latex": [
       "$\\displaystyle P = x^{2} - 4 x$"
      ],
      "text/plain": [
       "<IPython.core.display.Math object>"
      ]
     },
     "metadata": {},
     "output_type": "display_data"
    }
   ],
   "source": [
    "Q=MQ(P,x*x-4*x) # Q=MQ(expr1,expr2) return Equation Equallity  class with name Q--> expr1=expr2"
   ]
  },
  {
   "cell_type": "code",
   "execution_count": 22,
   "id": "a0e93dbc-169c-457c-beea-e8768d47484e",
   "metadata": {
    "tags": []
   },
   "outputs": [
    {
     "data": {
      "text/latex": [
       "$\\displaystyle P + 4 = x^{2} - 4 x + 4$"
      ],
      "text/plain": [
       "<IPython.core.display.Math object>"
      ]
     },
     "metadata": {},
     "output_type": "display_data"
    }
   ],
   "source": [
    "Q.Add(4) # Q.Add(a) = Q+a"
   ]
  },
  {
   "cell_type": "code",
   "execution_count": 23,
   "id": "ac458bdf-1cae-4f68-8329-ac75c0525925",
   "metadata": {
    "tags": []
   },
   "outputs": [
    {
     "data": {
      "text/latex": [
       "$\\displaystyle P + 4 = \\left(x - 2\\right)^{2}$"
      ],
      "text/plain": [
       "<IPython.core.display.Math object>"
      ]
     },
     "metadata": {},
     "output_type": "display_data"
    }
   ],
   "source": [
    "Q.factor()"
   ]
  },
  {
   "cell_type": "code",
   "execution_count": 24,
   "id": "bb77003a-f546-4f86-a0e1-9deb58fdfbd1",
   "metadata": {
    "tags": []
   },
   "outputs": [
    {
     "data": {
      "text/latex": [
       "$\\displaystyle P = \\left(x - 2\\right)^{2} - 4$"
      ],
      "text/plain": [
       "<IPython.core.display.Math object>"
      ]
     },
     "metadata": {},
     "output_type": "display_data"
    }
   ],
   "source": [
    "Q.Substrac(4) # Q.Substrac(a) = Q-a"
   ]
  },
  {
   "cell_type": "code",
   "execution_count": 25,
   "id": "9d53317e-52ec-48be-9edd-a63fef49e4b7",
   "metadata": {
    "tags": []
   },
   "outputs": [
    {
     "data": {
      "image/png": "[encoded data removed]",
      "text/latex": [
       "$\\displaystyle - \\sqrt{x + 4}$"
      ],
      "text/plain": [
       "   _______\n",
       "-╲╱ x + 4 "
      ]
     },
     "execution_count": 25,
     "metadata": {},
     "output_type": "execute_result"
    }
   ],
   "source": [
    "findFunc(x-2,['A','P','A'],[-2,2,-4])"
   ]
  },
  {
   "cell_type": "code",
   "execution_count": 26,
   "id": "f8f9a502-1036-4f6b-a945-b29321f073ef",
   "metadata": {
    "tags": []
   },
   "outputs": [
    {
     "data": {
      "text/latex": [
       "$\\displaystyle F =\\sqrt{x + 4}$"
      ],
      "text/plain": [
       "<IPython.core.display.Math object>"
      ]
     },
     "metadata": {},
     "output_type": "display_data"
    }
   ],
   "source": [
    "# now ..we check ...\n",
    "F=MyEq(sqrs(x+4),'F')"
   ]
  },
  {
   "cell_type": "code",
   "execution_count": 27,
   "id": "512c342a-e3fe-4a81-871c-9e3261c7d428",
   "metadata": {
    "tags": []
   },
   "outputs": [
    {
     "data": {
      "text/latex": [
       "$\\displaystyle F2 =\\sqrt{x^{2} - 4 x + 4}$"
      ],
      "text/plain": [
       "<IPython.core.display.Math object>"
      ]
     },
     "metadata": {},
     "output_type": "display_data"
    }
   ],
   "source": [
    "F2=MyEq(F(x*x-4*x),'F2')"
   ]
  },
  {
   "cell_type": "code",
   "execution_count": 28,
   "id": "9026bfba-6b06-47d3-a042-061d385c117a",
   "metadata": {
    "tags": []
   },
   "outputs": [
    {
     "data": {
      "text/latex": [
       "$\\displaystyle F2 =\\sqrt{\\left(x - 2\\right)^{2}}$"
      ],
      "text/plain": [
       "<IPython.core.display.Math object>"
      ]
     },
     "metadata": {},
     "output_type": "display_data"
    }
   ],
   "source": [
    "F2.factor()"
   ]
  },
  {
   "cell_type": "code",
   "execution_count": 29,
   "id": "70f045e4-76c3-4f8a-9a22-b34b932cacd8",
   "metadata": {
    "tags": []
   },
   "outputs": [
    {
     "data": {
      "text/latex": [
       "$\\displaystyle F2 =x - 2$"
      ],
      "text/plain": [
       "<IPython.core.display.Math object>"
      ]
     },
     "metadata": {},
     "output_type": "display_data"
    }
   ],
   "source": [
    "F2.rsimplify()"
   ]
  },
  {
   "attachments": {
    "73517cb3-98da-4c40-8d77-21db4972fcb9.png": {
     "image/png": "[encoded data removed]"
    }
   },
   "cell_type": "markdown",
   "id": "a5c68bf1-78e7-42b7-8d51-cf750948819d",
   "metadata": {},
   "source": [
    "![image.png](attachment:73517cb3-98da-4c40-8d77-21db4972fcb9.png)"
   ]
  },
  {
   "attachments": {
    "e4a9332c-f33d-44f4-99fb-9459d7b2dd5c.png": {
     "image/png": "[encoded data removed]"
    }
   },
   "cell_type": "markdown",
   "id": "56087cd8-6598-489d-8d74-c2e739efd34d",
   "metadata": {},
   "source": [
    "![image.png](attachment:e4a9332c-f33d-44f4-99fb-9459d7b2dd5c.png)"
   ]
  },
  {
   "cell_type": "code",
   "execution_count": 30,
   "id": "01322b1c-0568-4828-a2f3-36e9b7656670",
   "metadata": {
    "tags": []
   },
   "outputs": [],
   "source": [
    "from  Libaldomath  import *\n",
    "# this cell will be initializing your variables,get help run helplib"
   ]
  },
  {
   "cell_type": "code",
   "execution_count": 31,
   "id": "5b98cb52-b1d0-4908-b6ba-44dab6e832cd",
   "metadata": {
    "tags": []
   },
   "outputs": [],
   "source": [
    "def P(x):\n",
    "    return a*x+b"
   ]
  },
  {
   "cell_type": "code",
   "execution_count": 32,
   "id": "d44ed0d7-7f10-478a-a899-5b26c16f8432",
   "metadata": {
    "tags": []
   },
   "outputs": [
    {
     "data": {
      "text/latex": [
       "$\\displaystyle a \\left(a \\left(a x + b\\right) + b\\right) + b = 8 x + 7$"
      ],
      "text/plain": [
       "<IPython.core.display.Math object>"
      ]
     },
     "metadata": {},
     "output_type": "display_data"
    }
   ],
   "source": [
    "Q=MyEqEq(P(P(P(x))),8*x+7)"
   ]
  },
  {
   "cell_type": "code",
   "execution_count": 33,
   "id": "5c5ecc71-4997-4845-ae47-8187f9fab730",
   "metadata": {
    "tags": []
   },
   "outputs": [
    {
     "data": {
      "text/latex": [
       "$\\displaystyle a^{3} x + a^{2} b + a b + b = 8 x + 7$"
      ],
      "text/plain": [
       "<IPython.core.display.Math object>"
      ]
     },
     "metadata": {},
     "output_type": "display_data"
    }
   ],
   "source": [
    "Q.expand()"
   ]
  },
  {
   "cell_type": "code",
   "execution_count": 34,
   "id": "f6fa3672-350d-456c-8d7d-3e17e8305443",
   "metadata": {
    "tags": []
   },
   "outputs": [
    {
     "data": {
      "text/latex": [
       "$\\displaystyle 7 b + 8 x = 8 x + 7$"
      ],
      "text/plain": [
       "<IPython.core.display.Math object>"
      ]
     },
     "metadata": {},
     "output_type": "display_data"
    }
   ],
   "source": [
    "# deducce that a =2..then\n",
    "Q.set(a=2)"
   ]
  },
  {
   "cell_type": "code",
   "execution_count": 35,
   "id": "b8c6c345-117f-48f4-b3c7-851164ecf7b5",
   "metadata": {
    "tags": []
   },
   "outputs": [
    {
     "data": {
      "text/latex": [
       "$\\displaystyle b=1$"
      ],
      "text/plain": [
       "<IPython.core.display.Math object>"
      ]
     },
     "metadata": {},
     "output_type": "display_data"
    }
   ],
   "source": [
    "b=Q.solve(b)"
   ]
  },
  {
   "cell_type": "code",
   "execution_count": 36,
   "id": "3e0df002-ebd0-4abf-9072-6a32cf0cd5f3",
   "metadata": {
    "tags": []
   },
   "outputs": [
    {
     "data": {
      "text/latex": [
       "$\\displaystyle P2 =a x + 1$"
      ],
      "text/plain": [
       "<IPython.core.display.Math object>"
      ]
     },
     "metadata": {},
     "output_type": "display_data"
    }
   ],
   "source": [
    "P2=MyEq(P(x),'P2')"
   ]
  },
  {
   "cell_type": "code",
   "execution_count": 37,
   "id": "ba89d30b-b961-43ef-a23b-d91d6a853e6d",
   "metadata": {
    "tags": []
   },
   "outputs": [
    {
     "data": {
      "text/latex": [
       "$\\displaystyle P2 =2 x + 1$"
      ],
      "text/plain": [
       "<IPython.core.display.Math object>"
      ]
     },
     "metadata": {},
     "output_type": "display_data"
    }
   ],
   "source": [
    "P2.set(a=2)"
   ]
  },
  {
   "attachments": {
    "73517cb3-98da-4c40-8d77-21db4972fcb9.png": {
     "image/png": "[encoded data removed]"
    }
   },
   "cell_type": "markdown",
   "id": "d44c64f5-075c-4025-ab61-a3de42185d0a",
   "metadata": {},
   "source": [
    "![image.png](attachment:73517cb3-98da-4c40-8d77-21db4972fcb9.png)"
   ]
  },
  {
   "attachments": {
    "4f9d63fe-76eb-4b0c-8711-394904505eb2.png": {
     "image/png": "[encoded data removed]"
    }
   },
   "cell_type": "markdown",
   "id": "a83c8712-d2f2-4afd-8b75-41223a9648db",
   "metadata": {},
   "source": [
    "![image.png](attachment:4f9d63fe-76eb-4b0c-8711-394904505eb2.png)"
   ]
  },
  {
   "cell_type": "code",
   "execution_count": 38,
   "id": "834e498d-60d1-4b95-8038-ba6c3ea81d96",
   "metadata": {
    "tags": []
   },
   "outputs": [],
   "source": [
    "from  Libaldomath  import *\n",
    "# this cell will be initializing your variables,get help run helplib"
   ]
  },
  {
   "cell_type": "code",
   "execution_count": 39,
   "id": "febde9e3-7ba1-422d-ae3a-c8fa495a158b",
   "metadata": {},
   "outputs": [
    {
     "data": {
      "text/latex": [
       "$\\displaystyle x^{m} + 1 = y$"
      ],
      "text/plain": [
       "<IPython.core.display.Math object>"
      ]
     },
     "metadata": {},
     "output_type": "display_data"
    }
   ],
   "source": [
    "Q=MQ(x**m+1,y) # Q=MQ(expr1,expr2) return Equation Equallity  class with name Q--> expr1=expr2"
   ]
  },
  {
   "cell_type": "code",
   "execution_count": 40,
   "id": "b7e1e01b-24fa-431c-8669-4287d9628514",
   "metadata": {},
   "outputs": [
    {
     "data": {
      "text/latex": [
       "$\\displaystyle x^{m} = y - 1$"
      ],
      "text/plain": [
       "<IPython.core.display.Math object>"
      ]
     },
     "metadata": {},
     "output_type": "display_data"
    }
   ],
   "source": [
    "Q.Add(-1) # Q.Add(a) = Q+a"
   ]
  },
  {
   "cell_type": "code",
   "execution_count": 41,
   "id": "78309a96-e607-4f81-80f5-56e0d9306bb9",
   "metadata": {},
   "outputs": [
    {
     "data": {
      "text/latex": [
       "$\\displaystyle \\left(x^{m}\\right)^{\\frac{1}{m}} = \\left(y - 1\\right)^{\\frac{1}{m}}$"
      ],
      "text/plain": [
       "<IPython.core.display.Math object>"
      ]
     },
     "metadata": {},
     "output_type": "display_data"
    }
   ],
   "source": [
    "Q.Rpow(m) # Q.Rpow(a) = Q**(1/a)"
   ]
  },
  {
   "cell_type": "code",
   "execution_count": 42,
   "id": "3ca70a18-b2a2-4c0c-9532-745d5ccdc994",
   "metadata": {},
   "outputs": [
    {
     "data": {
      "text/latex": [
       "$\\displaystyle x = \\left(y - 1\\right)^{\\frac{1}{m}}$"
      ],
      "text/plain": [
       "<IPython.core.display.Math object>"
      ]
     },
     "metadata": {},
     "output_type": "display_data"
    }
   ],
   "source": [
    "Q.mulexpo() # Q.mulexp() if Q=(x**a)**b return x**(a*b)"
   ]
  },
  {
   "cell_type": "code",
   "execution_count": 43,
   "id": "31127df6-82f5-450d-9211-833bb1d18454",
   "metadata": {},
   "outputs": [
    {
     "data": {
      "text/latex": [
       "$\\displaystyle Y =\\left(y - 1\\right)^{\\frac{1}{m}} - 1$"
      ],
      "text/plain": [
       "<IPython.core.display.Math object>"
      ]
     },
     "metadata": {},
     "output_type": "display_data"
    }
   ],
   "source": [
    "# Q.L = return Q left side\n",
    "# Q.R = return Q right side\n",
    "Y=MyEq(Q.R-1,'Y',var2=y) # var main default is x, change to y"
   ]
  },
  {
   "cell_type": "code",
   "execution_count": 44,
   "id": "bcb8adf1-4a5b-47f1-9f4a-45d303ee669a",
   "metadata": {},
   "outputs": [
    {
     "data": {
      "text/latex": [
       "$\\displaystyle \\left(y - 1\\right)^{\\frac{1}{m}} - 1 = - \\frac{7}{8}$"
      ],
      "text/plain": [
       "<IPython.core.display.Math object>"
      ]
     },
     "metadata": {},
     "output_type": "display_data"
    }
   ],
   "source": [
    "# cfrac(a,b) return a/b without mat solve\n",
    "Q2=MQ(Y(3),cfrac(-7,8))"
   ]
  },
  {
   "cell_type": "code",
   "execution_count": 45,
   "id": "19c7edc7-1b3d-4c6d-a27d-73a8594b03c8",
   "metadata": {},
   "outputs": [
    {
     "data": {
      "text/latex": [
       "$\\displaystyle \\left(y - 1\\right)^{\\frac{1}{m}} = \\frac{1}{8}$"
      ],
      "text/plain": [
       "<IPython.core.display.Math object>"
      ]
     },
     "metadata": {},
     "output_type": "display_data"
    }
   ],
   "source": [
    "Q2.Add(1) # Q.Add(a) = Q+a"
   ]
  },
  {
   "cell_type": "code",
   "execution_count": 46,
   "id": "eb9924bf-ee3a-4dde-becb-11c97a075eee",
   "metadata": {},
   "outputs": [
    {
     "data": {
      "text/latex": [
       "$\\displaystyle m=- \\frac{\\log{\\left(y - 1 \\right)}}{\\log{\\left(8 \\right)}}$"
      ],
      "text/plain": [
       "<IPython.core.display.Math object>"
      ]
     },
     "metadata": {},
     "output_type": "display_data"
    }
   ],
   "source": [
    "m=Q2.solve(m)"
   ]
  },
  {
   "attachments": {
    "73517cb3-98da-4c40-8d77-21db4972fcb9.png": {
     "image/png": "[encoded data removed]"
    }
   },
   "cell_type": "markdown",
   "id": "8cb76680-dc3e-48aa-a9db-4d2c1a65f02c",
   "metadata": {},
   "source": [
    "![image.png](attachment:73517cb3-98da-4c40-8d77-21db4972fcb9.png)"
   ]
  },
  {
   "attachments": {
    "70776850-5863-406f-9b1b-3b6d6489d0f0.png": {
     "image/png": "[encoded data removed]"
    }
   },
   "cell_type": "markdown",
   "id": "60ad879e-34ad-4948-aed9-db18b8b745b5",
   "metadata": {},
   "source": [
    "![image.png](attachment:70776850-5863-406f-9b1b-3b6d6489d0f0.png)"
   ]
  },
  {
   "cell_type": "code",
   "execution_count": 47,
   "id": "0b029001-3996-4871-bb0b-22a283fc89fe",
   "metadata": {
    "tags": []
   },
   "outputs": [],
   "source": [
    "from  Libaldomath  import *\n",
    "# this cell will be initializing your variables,get help run helplib"
   ]
  },
  {
   "cell_type": "code",
   "execution_count": 48,
   "id": "91865cc8-af49-47c2-8dbf-b21b1dac040e",
   "metadata": {
    "tags": []
   },
   "outputs": [
    {
     "data": {
      "text/latex": [
       "$\\displaystyle g =- x^{2} - x + \\frac{x \\left(x^{2} + 1\\right)}{x - 1} - 1$"
      ],
      "text/plain": [
       "<IPython.core.display.Math object>"
      ]
     },
     "metadata": {},
     "output_type": "display_data"
    }
   ],
   "source": [
    "g=MyEq(x*(1+x*x)/(x-1)-x*x-x-1,'g')"
   ]
  },
  {
   "cell_type": "code",
   "execution_count": 49,
   "id": "4c0c3562-5627-4cf4-b62c-cb71f9f6707f",
   "metadata": {
    "tags": []
   },
   "outputs": [
    {
     "data": {
      "image/png": "[encoded data removed]",
      "text/latex": [
       "$\\displaystyle \\frac{x + 1}{x - 1}$"
      ],
      "text/plain": [
       "x + 1\n",
       "─────\n",
       "x - 1"
      ]
     },
     "execution_count": 49,
     "metadata": {},
     "output_type": "execute_result"
    }
   ],
   "source": [
    "#m=1\n",
    "simplify(g(x))"
   ]
  },
  {
   "cell_type": "code",
   "execution_count": 50,
   "id": "6a82a5a6-ce35-40d9-850a-27e078efc228",
   "metadata": {
    "tags": []
   },
   "outputs": [
    {
     "data": {
      "image/png": "[encoded data removed]",
      "text/latex": [
       "$\\displaystyle x$"
      ],
      "text/plain": [
       "x"
      ]
     },
     "execution_count": 50,
     "metadata": {},
     "output_type": "execute_result"
    }
   ],
   "source": [
    "#m=2\n",
    "simplify(g(g(x)))"
   ]
  },
  {
   "cell_type": "code",
   "execution_count": 51,
   "id": "6b47aa64-0d2b-475a-9b9b-2343e7ee696b",
   "metadata": {
    "tags": []
   },
   "outputs": [
    {
     "data": {
      "image/png": "[encoded data removed]",
      "text/latex": [
       "$\\displaystyle \\frac{x + 1}{x - 1}$"
      ],
      "text/plain": [
       "x + 1\n",
       "─────\n",
       "x - 1"
      ]
     },
     "execution_count": 51,
     "metadata": {},
     "output_type": "execute_result"
    }
   ],
   "source": [
    "#m=3\n",
    "simplify(g(g(g(x))))"
   ]
  },
  {
   "cell_type": "code",
   "execution_count": 52,
   "id": "a5495bcc-44d5-430b-8d8b-207a26cd1d90",
   "metadata": {
    "tags": []
   },
   "outputs": [
    {
     "data": {
      "text/latex": [
       "$\\displaystyle \\frac{x + 1}{x - 1} = \\frac{a x + b + 1}{a x - b + 1}$"
      ],
      "text/plain": [
       "<IPython.core.display.Math object>"
      ]
     },
     "metadata": {},
     "output_type": "display_data"
    }
   ],
   "source": [
    "Q=MQ(simplify(g(g(g(x)))),(a*x+b+1)/(a*x-b+1))"
   ]
  },
  {
   "cell_type": "code",
   "execution_count": 53,
   "id": "1ccdef60-7c68-47f9-a2d3-7594d12a329a",
   "metadata": {
    "tags": []
   },
   "outputs": [
    {
     "data": {
      "text/latex": [
       "$\\displaystyle \\left(x + 1\\right) \\left(a x - b + 1\\right) = \\left(x - 1\\right) \\left(a x + b + 1\\right)$"
      ],
      "text/plain": [
       "<IPython.core.display.Math object>"
      ]
     },
     "metadata": {},
     "output_type": "display_data"
    }
   ],
   "source": [
    "Q.crossMul()"
   ]
  },
  {
   "cell_type": "code",
   "execution_count": 54,
   "id": "e3f1c9ff-8b79-486d-99aa-52446eafa4ba",
   "metadata": {
    "tags": []
   },
   "outputs": [
    {
     "data": {
      "text/latex": [
       "$\\displaystyle a x^{2} + a x - b x - b + x + 1 = a x^{2} - a x + b x - b + x - 1$"
      ],
      "text/plain": [
       "<IPython.core.display.Math object>"
      ]
     },
     "metadata": {},
     "output_type": "display_data"
    }
   ],
   "source": [
    "Q.expand()"
   ]
  },
  {
   "cell_type": "code",
   "execution_count": 55,
   "id": "77a41ff4-0520-4de6-970d-cb9b5174c29b",
   "metadata": {
    "tags": []
   },
   "outputs": [
    {
     "data": {
      "text/latex": [
       "$\\displaystyle a x - b x + 1 = - a x + b x - 1$"
      ],
      "text/plain": [
       "<IPython.core.display.Math object>"
      ]
     },
     "metadata": {},
     "output_type": "display_data"
    }
   ],
   "source": [
    "Q.simplify()"
   ]
  },
  {
   "cell_type": "code",
   "execution_count": 56,
   "id": "3ecbc9d5-0f38-4718-87a5-f3770ca9d769",
   "metadata": {
    "tags": []
   },
   "outputs": [
    {
     "data": {
      "text/latex": [
       "$\\displaystyle - a x^{2} + a x - b x + b - x + 1 = - a x^{2} - a x + b x + b - x - 1$"
      ],
      "text/plain": [
       "<IPython.core.display.Math object>"
      ]
     },
     "metadata": {},
     "output_type": "display_data"
    }
   ],
   "source": [
    "Q.Add(-a*x*x+b-x)"
   ]
  },
  {
   "cell_type": "code",
   "execution_count": 57,
   "id": "858418d9-3ac2-451f-861a-6bd7a7301751",
   "metadata": {
    "tags": []
   },
   "outputs": [
    {
     "data": {
      "text/latex": [
       "$\\displaystyle x=- \\frac{1}{a - b}$"
      ],
      "text/plain": [
       "<IPython.core.display.Math object>"
      ]
     },
     "metadata": {},
     "output_type": "display_data"
    }
   ],
   "source": [
    "x=Q.solve(x)"
   ]
  },
  {
   "attachments": {
    "73517cb3-98da-4c40-8d77-21db4972fcb9.png": {
     "image/png": "[encoded data removed]"
    }
   },
   "cell_type": "markdown",
   "id": "3fb9c8f2-0932-41b4-b12f-7f30fa13bba4",
   "metadata": {},
   "source": [
    "![image.png](attachment:73517cb3-98da-4c40-8d77-21db4972fcb9.png)"
   ]
  },
  {
   "attachments": {
    "f20bb931-d137-424e-9a10-891563c402aa.png": {
     "image/png": "[encoded data removed]"
    }
   },
   "cell_type": "markdown",
   "id": "5bd3f1a3-6019-4ba6-bb21-5546f255adea",
   "metadata": {},
   "source": [
    "![image.png](attachment:f20bb931-d137-424e-9a10-891563c402aa.png)"
   ]
  },
  {
   "cell_type": "code",
   "execution_count": 58,
   "id": "18579c93-ec9f-4c10-a09f-63151d1c2838",
   "metadata": {
    "tags": []
   },
   "outputs": [],
   "source": [
    "from  Libaldomath  import *\n",
    "# this cell will be initializing your variables,get help run helplib"
   ]
  },
  {
   "cell_type": "code",
   "execution_count": 59,
   "id": "ad77ebb1-c976-457e-9216-e88fc64f86aa",
   "metadata": {
    "tags": []
   },
   "outputs": [
    {
     "data": {
      "text/latex": [
       "$\\displaystyle \\frac{x}{2 y} + \\frac{2 y}{x} = 2$"
      ],
      "text/plain": [
       "<IPython.core.display.Math object>"
      ]
     },
     "metadata": {},
     "output_type": "display_data"
    }
   ],
   "source": [
    "P=MQ(cfrac(x,2*y)+cfrac(2*y,x),2)"
   ]
  },
  {
   "cell_type": "code",
   "execution_count": 60,
   "id": "5072d8d0-e9f8-4611-9868-6aa56f46fd70",
   "metadata": {
    "tags": []
   },
   "outputs": [
    {
     "data": {
      "text/latex": [
       "$\\displaystyle 2 x y \\left(\\frac{x}{2 y} + \\frac{2 y}{x}\\right) = 4 x y$"
      ],
      "text/plain": [
       "<IPython.core.display.Math object>"
      ]
     },
     "metadata": {},
     "output_type": "display_data"
    }
   ],
   "source": [
    "P.Mul(2*x*y)"
   ]
  },
  {
   "cell_type": "code",
   "execution_count": 61,
   "id": "7e41044f-8708-4b54-8b80-f5d3eebc686a",
   "metadata": {
    "tags": []
   },
   "outputs": [
    {
     "data": {
      "text/latex": [
       "$\\displaystyle 2 x y \\left(\\frac{x}{2 y} + \\frac{2 y}{x}\\right) - 4 x y = 0$"
      ],
      "text/plain": [
       "<IPython.core.display.Math object>"
      ]
     },
     "metadata": {},
     "output_type": "display_data"
    }
   ],
   "source": [
    "P.Substrac(4*x*y)"
   ]
  },
  {
   "cell_type": "code",
   "execution_count": 62,
   "id": "f38bc875-4319-42e3-b489-526fccbcf279",
   "metadata": {
    "tags": []
   },
   "outputs": [
    {
     "data": {
      "text/latex": [
       "$\\displaystyle \\left(x - 2 y\\right)^{2} = 0$"
      ],
      "text/plain": [
       "<IPython.core.display.Math object>"
      ]
     },
     "metadata": {},
     "output_type": "display_data"
    }
   ],
   "source": [
    "P.factor()"
   ]
  },
  {
   "cell_type": "code",
   "execution_count": 63,
   "id": "a0d9fae9-d4aa-4a94-b61e-b112c64d11ff",
   "metadata": {
    "tags": []
   },
   "outputs": [
    {
     "data": {
      "text/latex": [
       "$\\displaystyle \\sqrt{\\left(x - 2 y\\right)^{2}} = 0$"
      ],
      "text/plain": [
       "<IPython.core.display.Math object>"
      ]
     },
     "metadata": {},
     "output_type": "display_data"
    }
   ],
   "source": [
    "P.Rpow(2)"
   ]
  },
  {
   "cell_type": "code",
   "execution_count": 64,
   "id": "242b5619-965e-4179-afd8-15e42aa167d8",
   "metadata": {
    "tags": []
   },
   "outputs": [
    {
     "data": {
      "text/latex": [
       "$\\displaystyle \\sqrt{\\left(x - 2 y\\right)^{2}} = 0$"
      ],
      "text/plain": [
       "<IPython.core.display.Math object>"
      ]
     },
     "metadata": {},
     "output_type": "display_data"
    }
   ],
   "source": [
    "P.simplify()"
   ]
  },
  {
   "cell_type": "code",
   "execution_count": 65,
   "id": "75cace02-b7f4-449f-8349-e48b7d979b5a",
   "metadata": {
    "tags": []
   },
   "outputs": [
    {
     "data": {
      "text/latex": [
       "$\\displaystyle x - 2 y = 0$"
      ],
      "text/plain": [
       "<IPython.core.display.Math object>"
      ]
     },
     "metadata": {},
     "output_type": "display_data"
    }
   ],
   "source": [
    "P.rsimplify()"
   ]
  },
  {
   "cell_type": "code",
   "execution_count": 66,
   "id": "bad822f1-dbd2-49bb-a89a-e69f147d535d",
   "metadata": {
    "tags": []
   },
   "outputs": [
    {
     "data": {
      "text/latex": [
       "$\\displaystyle x = 2 y$"
      ],
      "text/plain": [
       "<IPython.core.display.Math object>"
      ]
     },
     "metadata": {},
     "output_type": "display_data"
    }
   ],
   "source": [
    "P.Add(2*y)"
   ]
  },
  {
   "cell_type": "code",
   "execution_count": 67,
   "id": "46b01d22-ff1f-47ba-8c62-431c68dfaae8",
   "metadata": {
    "tags": []
   },
   "outputs": [
    {
     "data": {
      "text/latex": [
       "$\\displaystyle \\frac{x}{y} = 2$"
      ],
      "text/plain": [
       "<IPython.core.display.Math object>"
      ]
     },
     "metadata": {},
     "output_type": "display_data"
    }
   ],
   "source": [
    "P.Div(y)"
   ]
  },
  {
   "cell_type": "code",
   "execution_count": 68,
   "id": "2bc16726-66db-4641-814e-7a257d9ec56c",
   "metadata": {
    "tags": []
   },
   "outputs": [
    {
     "data": {
      "text/latex": [
       "$\\displaystyle \\frac{x^{8}}{y^{8}} = 256$"
      ],
      "text/plain": [
       "<IPython.core.display.Math object>"
      ]
     },
     "metadata": {},
     "output_type": "display_data"
    }
   ],
   "source": [
    "P.Pow(8)"
   ]
  },
  {
   "attachments": {
    "73517cb3-98da-4c40-8d77-21db4972fcb9.png": {
     "image/png": "[encoded data removed]"
    }
   },
   "cell_type": "markdown",
   "id": "67c23f07-b248-4c1d-ac86-18304db5b949",
   "metadata": {},
   "source": [
    "![image.png](attachment:73517cb3-98da-4c40-8d77-21db4972fcb9.png)"
   ]
  },
  {
   "attachments": {
    "ee98dee9-c41f-4fe1-bf36-11e628efaf67.png": {
     "image/png": "[encoded data removed]"
    }
   },
   "cell_type": "markdown",
   "id": "b07a2a3f-a8e0-4220-9090-052ac8d3e43d",
   "metadata": {},
   "source": [
    "![image.png](attachment:ee98dee9-c41f-4fe1-bf36-11e628efaf67.png)"
   ]
  },
  {
   "cell_type": "code",
   "execution_count": 69,
   "id": "feced242-2d7e-4952-a4e0-b13733eac72b",
   "metadata": {
    "tags": []
   },
   "outputs": [],
   "source": [
    "from  Libaldomath  import *\n",
    "# this cell will be initializing your variables,get help run helplib"
   ]
  },
  {
   "cell_type": "code",
   "execution_count": 70,
   "id": "3e34c75c-f07e-42ef-b571-8758c21b8749",
   "metadata": {
    "tags": []
   },
   "outputs": [
    {
     "data": {
      "text/latex": [
       "$\\displaystyle P =\\frac{2}{x - 3}$"
      ],
      "text/plain": [
       "<IPython.core.display.Math object>"
      ]
     },
     "metadata": {},
     "output_type": "display_data"
    }
   ],
   "source": [
    "P=MyEq(findFunc(x,['D','P','A'],[2,-1,3]),'P')"
   ]
  },
  {
   "cell_type": "code",
   "execution_count": 71,
   "id": "f0e33fc3-2831-4d83-ac58-9faa9473b68c",
   "metadata": {
    "tags": []
   },
   "outputs": [
    {
     "data": {
      "image/png": "[encoded data removed]",
      "text/latex": [
       "$\\displaystyle x$"
      ],
      "text/plain": [
       "x"
      ]
     },
     "execution_count": 71,
     "metadata": {},
     "output_type": "execute_result"
    }
   ],
   "source": [
    "P(2/x+3)"
   ]
  },
  {
   "cell_type": "code",
   "execution_count": 72,
   "id": "1986c162-b800-4712-988a-3588eab1cbec",
   "metadata": {
    "tags": []
   },
   "outputs": [
    {
     "data": {
      "image/png": "[encoded data removed]",
      "text/latex": [
       "$\\displaystyle 2$"
      ],
      "text/plain": [
       "2"
      ]
     },
     "execution_count": 72,
     "metadata": {},
     "output_type": "execute_result"
    }
   ],
   "source": [
    "P(4) "
   ]
  },
  {
   "cell_type": "code",
   "execution_count": 73,
   "id": "c96d882d-069b-4716-8d99-372cf24f730d",
   "metadata": {
    "tags": []
   },
   "outputs": [
    {
     "data": {
      "image/png": "[encoded data removed]",
      "text/latex": [
       "$\\displaystyle 1$"
      ],
      "text/plain": [
       "1"
      ]
     },
     "execution_count": 73,
     "metadata": {},
     "output_type": "execute_result"
    }
   ],
   "source": [
    "P(5) "
   ]
  },
  {
   "cell_type": "code",
   "execution_count": 74,
   "id": "99f0a1a7-aa10-488c-8aad-0f9646dc9b86",
   "metadata": {
    "tags": []
   },
   "outputs": [
    {
     "data": {
      "image/png": "[encoded data removed]",
      "text/latex": [
       "$\\displaystyle \\frac{1}{2}$"
      ],
      "text/plain": [
       "1/2"
      ]
     },
     "execution_count": 74,
     "metadata": {},
     "output_type": "execute_result"
    }
   ],
   "source": [
    "P(7) "
   ]
  },
  {
   "cell_type": "code",
   "execution_count": 75,
   "id": "d17fba22-b4df-497d-9455-2ce2a0fd166c",
   "metadata": {
    "tags": []
   },
   "outputs": [
    {
     "data": {
      "image/png": "[encoded data removed]",
      "text/latex": [
       "$\\displaystyle \\frac{1}{3}$"
      ],
      "text/plain": [
       "1/3"
      ]
     },
     "execution_count": 75,
     "metadata": {},
     "output_type": "execute_result"
    }
   ],
   "source": [
    "P(9) "
   ]
  },
  {
   "cell_type": "code",
   "execution_count": 76,
   "id": "db1faae1-3189-4a22-b800-27edfbf29ea6",
   "metadata": {
    "tags": []
   },
   "outputs": [
    {
     "data": {
      "image/png": "[encoded data removed]",
      "text/latex": [
       "$\\displaystyle \\frac{1}{4}$"
      ],
      "text/plain": [
       "1/4"
      ]
     },
     "execution_count": 76,
     "metadata": {},
     "output_type": "execute_result"
    }
   ],
   "source": [
    "P(11) "
   ]
  },
  {
   "cell_type": "code",
   "execution_count": 77,
   "id": "9599ea9e-a92d-4705-b0d8-dc0e7960247c",
   "metadata": {
    "tags": []
   },
   "outputs": [
    {
     "data": {
      "image/png": "[encoded data removed]",
      "text/latex": [
       "$\\displaystyle \\frac{1}{5}$"
      ],
      "text/plain": [
       "1/5"
      ]
     },
     "execution_count": 77,
     "metadata": {},
     "output_type": "execute_result"
    }
   ],
   "source": [
    "P(13) "
   ]
  },
  {
   "cell_type": "code",
   "execution_count": 79,
   "id": "929bf326-d490-4778-9fa5-809646349217",
   "metadata": {
    "tags": []
   },
   "outputs": [
    {
     "data": {
      "image/png": "[encoded data removed]",
      "text/latex": [
       "$\\displaystyle \\infty$"
      ],
      "text/plain": [
       "∞"
      ]
     },
     "execution_count": 79,
     "metadata": {},
     "output_type": "execute_result"
    }
   ],
   "source": [
    "summation(1/n, (n, 1, oo))"
   ]
  },
  {
   "attachments": {
    "73517cb3-98da-4c40-8d77-21db4972fcb9.png": {
     "image/png": "[encoded data removed]"
    }
   },
   "cell_type": "markdown",
   "id": "3b73197a-17e9-47f3-addc-48bcfd1d8473",
   "metadata": {},
   "source": [
    "![image.png](attachment:73517cb3-98da-4c40-8d77-21db4972fcb9.png)"
   ]
  },
  {
   "attachments": {
    "b01d67d8-e757-467d-999f-01e484a728f6.png": {
     "image/png": "[encoded data removed]"
    }
   },
   "cell_type": "markdown",
   "id": "922f422d-6618-46ec-b6f3-2b81d371ecd6",
   "metadata": {},
   "source": [
    "![image.png](attachment:b01d67d8-e757-467d-999f-01e484a728f6.png)"
   ]
  },
  {
   "cell_type": "code",
   "execution_count": 80,
   "id": "d4341442-4d13-4b54-918f-b91993069241",
   "metadata": {
    "tags": []
   },
   "outputs": [],
   "source": [
    "from  Libaldomath  import *\n",
    "# this cell will be initializing your variables,get help run helplib"
   ]
  },
  {
   "cell_type": "code",
   "execution_count": 81,
   "id": "66767ec7-ce36-4711-a383-d3ad41c41962",
   "metadata": {
    "tags": []
   },
   "outputs": [
    {
     "data": {
      "image/png": "[encoded data removed]",
      "text/latex": [
       "$\\displaystyle \\sqrt{a + x}$"
      ],
      "text/plain": [
       "  _______\n",
       "╲╱ a + x "
      ]
     },
     "execution_count": 81,
     "metadata": {},
     "output_type": "execute_result"
    }
   ],
   "source": [
    "e1=sqrs(a+x);e1"
   ]
  },
  {
   "cell_type": "code",
   "execution_count": 82,
   "id": "1a0081d5-e641-43dd-a0e1-edf971523a2a",
   "metadata": {
    "tags": []
   },
   "outputs": [
    {
     "data": {
      "image/png": "[encoded data removed]",
      "text/latex": [
       "$\\displaystyle \\sqrt{a - x}$"
      ],
      "text/plain": [
       "  _______\n",
       "╲╱ a - x "
      ]
     },
     "execution_count": 82,
     "metadata": {},
     "output_type": "execute_result"
    }
   ],
   "source": [
    "e2=sqrs(a-x);e2"
   ]
  },
  {
   "cell_type": "code",
   "execution_count": 83,
   "id": "83e9d9eb-324b-425e-99a5-41c50b0aa9e5",
   "metadata": {
    "tags": []
   },
   "outputs": [
    {
     "data": {
      "text/latex": [
       "$\\displaystyle \\sqrt{a - x} + \\sqrt{a + x} = 2 x$"
      ],
      "text/plain": [
       "<IPython.core.display.Math object>"
      ]
     },
     "metadata": {},
     "output_type": "display_data"
    }
   ],
   "source": [
    "Q1=MQ(e1+e2,2*x) # Q=MQ(expr1,expr2) return Equation Equallity  class with name Q--> expr1=expr2"
   ]
  },
  {
   "cell_type": "code",
   "execution_count": 84,
   "id": "709e1474-5c3e-4573-abdf-8eac727ffa7c",
   "metadata": {
    "tags": []
   },
   "outputs": [
    {
     "data": {
      "text/latex": [
       "$\\displaystyle - \\sqrt{a - x} + \\sqrt{a + x} = H$"
      ],
      "text/plain": [
       "<IPython.core.display.Math object>"
      ]
     },
     "metadata": {},
     "output_type": "display_data"
    }
   ],
   "source": [
    "Q2=MQ(e1-e2,H)"
   ]
  },
  {
   "cell_type": "markdown",
   "id": "8a7b60b3-44f3-401b-905a-5ca422b87a40",
   "metadata": {},
   "source": [
    "##### If Q1= MQ(a,b) and Q2= MQ(c,d) we handle... two Eq with..\n",
    "     Q1.Add(Q2) => a+c=b+d\n",
    "     Q1.Mul(Q2) => a*c=b*d\n",
    "     Q1.Div(Q2) => a/c=b/d"
   ]
  },
  {
   "cell_type": "code",
   "execution_count": 85,
   "id": "d1f2554e-6396-49b2-92b8-127404500bcd",
   "metadata": {
    "tags": []
   },
   "outputs": [
    {
     "data": {
      "text/latex": [
       "$\\displaystyle \\left(- \\sqrt{a - x} + \\sqrt{a + x}\\right) \\left(\\sqrt{a - x} + \\sqrt{a + x}\\right) = 2 H x$"
      ],
      "text/plain": [
       "<IPython.core.display.Math object>"
      ]
     },
     "metadata": {},
     "output_type": "display_data"
    }
   ],
   "source": [
    "Q1.Mul(Q2)  "
   ]
  },
  {
   "cell_type": "code",
   "execution_count": 86,
   "id": "dd6b01f9-4b38-4494-89b0-cdbf73311e7e",
   "metadata": {
    "tags": []
   },
   "outputs": [
    {
     "data": {
      "text/latex": [
       "$\\displaystyle H=1$"
      ],
      "text/plain": [
       "<IPython.core.display.Math object>"
      ]
     },
     "metadata": {},
     "output_type": "display_data"
    }
   ],
   "source": [
    "H=Q1.solve(H)"
   ]
  },
  {
   "attachments": {
    "73517cb3-98da-4c40-8d77-21db4972fcb9.png": {
     "image/png": "[encoded data removed]"
    }
   },
   "cell_type": "markdown",
   "id": "aefeccc5-0c2b-4f99-9592-cae660282337",
   "metadata": {},
   "source": [
    "![image.png](attachment:73517cb3-98da-4c40-8d77-21db4972fcb9.png)"
   ]
  },
  {
   "attachments": {
    "d080d00a-f383-4733-bc4e-92ba47e877c8.png": {
     "image/png": "[encoded data removed]"
    }
   },
   "cell_type": "markdown",
   "id": "bfc191ad-361f-4012-9b15-2176e3bb3fb5",
   "metadata": {},
   "source": [
    "![image.png](attachment:d080d00a-f383-4733-bc4e-92ba47e877c8.png)"
   ]
  },
  {
   "cell_type": "code",
   "execution_count": 87,
   "id": "6310b793-2bbe-490b-9f94-21a1cf863cf0",
   "metadata": {
    "tags": []
   },
   "outputs": [],
   "source": [
    "from  Libaldomath  import *\n",
    "# this cell will be initializing your variables,get help run helplib"
   ]
  },
  {
   "cell_type": "code",
   "execution_count": 88,
   "id": "46e2555c-b0c7-4c6f-89e5-dfe191053e33",
   "metadata": {
    "tags": []
   },
   "outputs": [
    {
     "data": {
      "text/latex": [
       "$\\displaystyle a^{m} b^{- m} + a^{- m} b^{m} = 11$"
      ],
      "text/plain": [
       "<IPython.core.display.Math object>"
      ]
     },
     "metadata": {},
     "output_type": "display_data"
    }
   ],
   "source": [
    "am=a**m\n",
    "bm=b**m\n",
    "Q=MQ(cfrac(am,bm)+cfrac(bm,am),11)"
   ]
  },
  {
   "cell_type": "code",
   "execution_count": 89,
   "id": "9f3b9635-0532-4fef-8708-0c5db475f2fe",
   "metadata": {
    "tags": []
   },
   "outputs": [
    {
     "data": {
      "text/latex": [
       "$\\displaystyle a^{m} \\left(a^{m} b^{- m} + a^{- m} b^{m}\\right) = 11 a^{m}$"
      ],
      "text/plain": [
       "<IPython.core.display.Math object>"
      ]
     },
     "metadata": {},
     "output_type": "display_data"
    }
   ],
   "source": [
    "Q.Mul(a**m)"
   ]
  },
  {
   "cell_type": "code",
   "execution_count": 90,
   "id": "e837acb6-8041-4b46-bf21-ecfc2069da2c",
   "metadata": {
    "tags": []
   },
   "outputs": [
    {
     "data": {
      "text/latex": [
       "$\\displaystyle a^{2 m} b^{- m} + b^{m} = 11 a^{m}$"
      ],
      "text/plain": [
       "<IPython.core.display.Math object>"
      ]
     },
     "metadata": {},
     "output_type": "display_data"
    }
   ],
   "source": [
    "Q.expand()"
   ]
  },
  {
   "cell_type": "code",
   "execution_count": 91,
   "id": "8e8c29ae-6b73-4069-b405-6aabee1f5adb",
   "metadata": {
    "tags": []
   },
   "outputs": [
    {
     "data": {
      "text/latex": [
       "$\\displaystyle b^{m} \\left(a^{2 m} b^{- m} + b^{m}\\right) = 11 a^{m} b^{m}$"
      ],
      "text/plain": [
       "<IPython.core.display.Math object>"
      ]
     },
     "metadata": {},
     "output_type": "display_data"
    }
   ],
   "source": [
    "Q.Mul(b**m)"
   ]
  },
  {
   "cell_type": "code",
   "execution_count": 92,
   "id": "0ac2ce22-5bec-4cc1-aea5-f2cee07319b1",
   "metadata": {
    "tags": []
   },
   "outputs": [
    {
     "data": {
      "text/latex": [
       "$\\displaystyle a^{2 m} + b^{2 m} = 11 a^{m} b^{m}$"
      ],
      "text/plain": [
       "<IPython.core.display.Math object>"
      ]
     },
     "metadata": {},
     "output_type": "display_data"
    }
   ],
   "source": [
    "Q.expand()"
   ]
  },
  {
   "cell_type": "code",
   "execution_count": 93,
   "id": "4d4f0086-09f2-46e3-895b-8a248967e732",
   "metadata": {
    "tags": []
   },
   "outputs": [
    {
     "data": {
      "text/latex": [
       "$\\displaystyle P = a^{- \\frac{m}{2}} b^{- \\frac{m}{2}} \\left(a^{m} - b^{m}\\right)$"
      ],
      "text/plain": [
       "<IPython.core.display.Math object>"
      ]
     },
     "metadata": {},
     "output_type": "display_data"
    }
   ],
   "source": [
    "F=MQ(P,(a**m-b**m)/(a**(m/2)*b**(m/2)))"
   ]
  },
  {
   "cell_type": "code",
   "execution_count": 94,
   "id": "b359ea80-797d-482c-8860-b05ce4941be9",
   "metadata": {
    "tags": []
   },
   "outputs": [
    {
     "data": {
      "text/latex": [
       "$\\displaystyle P a^{\\frac{m}{2}} = b^{- \\frac{m}{2}} \\left(a^{m} - b^{m}\\right)$"
      ],
      "text/plain": [
       "<IPython.core.display.Math object>"
      ]
     },
     "metadata": {},
     "output_type": "display_data"
    }
   ],
   "source": [
    "F.Mul(a**(m/2))"
   ]
  },
  {
   "cell_type": "code",
   "execution_count": 95,
   "id": "b326f23b-57a8-4170-b823-9f82b99bd9bf",
   "metadata": {
    "tags": []
   },
   "outputs": [
    {
     "data": {
      "text/latex": [
       "$\\displaystyle P a^{\\frac{m}{2}} b^{\\frac{m}{2}} = a^{m} - b^{m}$"
      ],
      "text/plain": [
       "<IPython.core.display.Math object>"
      ]
     },
     "metadata": {},
     "output_type": "display_data"
    }
   ],
   "source": [
    "F.Mul(b**(m/2))"
   ]
  },
  {
   "cell_type": "code",
   "execution_count": 96,
   "id": "44ad6689-ee15-4fda-9127-02ec848662a2",
   "metadata": {
    "tags": []
   },
   "outputs": [
    {
     "data": {
      "text/latex": [
       "$\\displaystyle P^{2} a^{m} b^{m} = \\left(a^{m} - b^{m}\\right)^{2}$"
      ],
      "text/plain": [
       "<IPython.core.display.Math object>"
      ]
     },
     "metadata": {},
     "output_type": "display_data"
    }
   ],
   "source": [
    "F.Pow(2)"
   ]
  },
  {
   "cell_type": "code",
   "execution_count": 97,
   "id": "45c15386-325f-4120-a79a-666c1a80bc2f",
   "metadata": {
    "tags": []
   },
   "outputs": [
    {
     "data": {
      "text/latex": [
       "$\\displaystyle P^{2} a^{m} b^{m} = a^{2 m} - 2 a^{m} b^{m} + b^{2 m}$"
      ],
      "text/plain": [
       "<IPython.core.display.Math object>"
      ]
     },
     "metadata": {},
     "output_type": "display_data"
    }
   ],
   "source": [
    "F.expand()"
   ]
  },
  {
   "cell_type": "code",
   "execution_count": 98,
   "id": "9a50e690-8c96-4c8d-931e-9b851b045859",
   "metadata": {
    "tags": []
   },
   "outputs": [
    {
     "data": {
      "text/latex": [
       "$\\displaystyle P^{2} a^{m} b^{m} + 2 a^{m} b^{m} = a^{2 m} + b^{2 m}$"
      ],
      "text/plain": [
       "<IPython.core.display.Math object>"
      ]
     },
     "metadata": {},
     "output_type": "display_data"
    }
   ],
   "source": [
    "F.Add(2*a**m*b**m)"
   ]
  },
  {
   "cell_type": "code",
   "execution_count": 99,
   "id": "cba28a19-df61-4056-9080-fe4c4b95e3a9",
   "metadata": {
    "tags": []
   },
   "outputs": [
    {
     "data": {
      "text/latex": [
       "$\\displaystyle P^{2} a^{m} b^{m} + 2 a^{m} b^{m} = 11 a^{m} b^{m}$"
      ],
      "text/plain": [
       "<IPython.core.display.Math object>"
      ]
     },
     "metadata": {},
     "output_type": "display_data"
    }
   ],
   "source": [
    "F.setR(Q.R)"
   ]
  },
  {
   "cell_type": "code",
   "execution_count": 100,
   "id": "2b4f56a4-5072-4d94-aed8-415a54eae49e",
   "metadata": {
    "tags": []
   },
   "outputs": [
    {
     "data": {
      "text/latex": [
       "$\\displaystyle P^{2} a^{m} b^{m} = 9 a^{m} b^{m}$"
      ],
      "text/plain": [
       "<IPython.core.display.Math object>"
      ]
     },
     "metadata": {},
     "output_type": "display_data"
    }
   ],
   "source": [
    "F.Substrac(2*a**m*b**m)"
   ]
  },
  {
   "cell_type": "code",
   "execution_count": 101,
   "id": "da3701a9-0315-44aa-92ed-19d365ffe19b",
   "metadata": {
    "tags": []
   },
   "outputs": [
    {
     "data": {
      "text/latex": [
       "$\\displaystyle P^{2} = 9$"
      ],
      "text/plain": [
       "<IPython.core.display.Math object>"
      ]
     },
     "metadata": {},
     "output_type": "display_data"
    }
   ],
   "source": [
    "F.simplify()"
   ]
  },
  {
   "cell_type": "code",
   "execution_count": 102,
   "id": "9ef9464e-84e7-41ca-9383-ab397a0fef26",
   "metadata": {
    "tags": []
   },
   "outputs": [
    {
     "data": {
      "text/latex": [
       "$\\displaystyle P1=-3$"
      ],
      "text/plain": [
       "<IPython.core.display.Math object>"
      ]
     },
     "metadata": {},
     "output_type": "display_data"
    },
    {
     "data": {
      "text/latex": [
       "$\\displaystyle P2=3$"
      ],
      "text/plain": [
       "<IPython.core.display.Math object>"
      ]
     },
     "metadata": {},
     "output_type": "display_data"
    }
   ],
   "source": [
    "P=F.solve(P)"
   ]
  },
  {
   "cell_type": "code",
   "execution_count": null,
   "id": "e3c2d432-03af-449b-8880-55e29121b640",
   "metadata": {},
   "outputs": [],
   "source": []
  }
 ],
 "metadata": {
  "kernelspec": {
   "display_name": "Python 3 (ipykernel)",
   "language": "python",
   "name": "python3"
  },
  "language_info": {
   "codemirror_mode": {
    "name": "ipython",
    "version": 3
   },
   "file_extension": ".py",
   "mimetype": "text/x-python",
   "name": "python",
   "nbconvert_exporter": "python",
   "pygments_lexer": "ipython3",
   "version": "3.9.0"
  }
 },
 "nbformat": 4,
 "nbformat_minor": 5
}
