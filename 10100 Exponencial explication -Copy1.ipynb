{
 "cells": [
  {
   "cell_type": "markdown",
   "id": "42808ce5-9b3d-4ad6-abf5-ba832fb3a599",
   "metadata": {
    "tags": []
   },
   "source": [
    "#### Library :  Libaldo.py\n",
    "* This library include:\n",
    "  * sympy.py The best symbolic math library for me\n",
    "  * numpy as np, matplotlib.pyplot as plt IPython.display  \n",
    "  * libaldo_math2.py this module have some util tools for classic math functions  \n",
    "  * libaldo_algorith.py some algorith to manage simple math functions\n",
    "  * mathbasic.py include basic math\n",
    "  * mathexponencial all exponencial math procedures\n",
    "  * lib_MyEq , this module manage maths Eq\n",
    "  * lib_MyEqEq , this module will be MyEq=MyEq\n",
    "* Also include the most used variables like   ,x,y,z,alpha,mu..   etc... mayby 150 variables  "
   ]
  },
  {
   "attachments": {
    "88ad5e4c-afa2-450d-9622-62851c582729.png": {
     "image/png": "[encoded data removed]"
    }
   },
   "cell_type": "markdown",
   "id": "722e0ae5-96d0-4d2d-bd78-f9f7150c814a",
   "metadata": {},
   "source": [
    "![image.png](attachment:88ad5e4c-afa2-450d-9622-62851c582729.png)"
   ]
  },
  {
   "cell_type": "code",
   "execution_count": 1,
   "id": "e8a0fea3-7645-432a-a56f-6578ce8373f0",
   "metadata": {
    "tags": []
   },
   "outputs": [],
   "source": [
    "from  Libaldomath  import *\n",
    "# this cell will be initializing your variables"
   ]
  },
  {
   "cell_type": "code",
   "execution_count": 2,
   "id": "6ffee2c9-7da6-4aed-95f3-e70ad57688f8",
   "metadata": {
    "tags": []
   },
   "outputs": [
    {
     "data": {
      "text/latex": [
       "$\\displaystyle P =x + 3 y z^{2}$"
      ],
      "text/plain": [
       "<IPython.core.display.Math object>"
      ]
     },
     "metadata": {},
     "output_type": "display_data"
    }
   ],
   "source": [
    "P=MyEq(x+y*z*(3*z),'P')"
   ]
  },
  {
   "attachments": {
    "20e0cd2a-95b2-4f69-8c93-5299e944d921.png": {
     "image/png": "[encoded data removed]"
    }
   },
   "cell_type": "markdown",
   "id": "481cec55-af44-4dc0-8abe-da357e6eebca",
   "metadata": {},
   "source": [
    "![image.png](attachment:20e0cd2a-95b2-4f69-8c93-5299e944d921.png)"
   ]
  },
  {
   "attachments": {
    "54df9e1e-714e-4371-a5f2-ffb26663218e.png": {
     "image/png": "[encoded data removed]"
    }
   },
   "cell_type": "markdown",
   "id": "c4ae9f2c-d86a-4f59-a6b5-a77643485227",
   "metadata": {},
   "source": [
    "![image.png](attachment:54df9e1e-714e-4371-a5f2-ffb26663218e.png)"
   ]
  },
  {
   "attachments": {
    "20e0cd2a-95b2-4f69-8c93-5299e944d921.png": {
     "image/png": "[encoded data removed]"
    }
   },
   "cell_type": "markdown",
   "id": "1f65cc1e-1953-4164-a309-54cd7f4cb23c",
   "metadata": {},
   "source": [
    "![image.png](attachment:20e0cd2a-95b2-4f69-8c93-5299e944d921.png)"
   ]
  },
  {
   "attachments": {
    "9546bf35-6d24-4e04-ac6f-9cac811d5701.png": {
     "image/png": "[encoded data removed]"
    }
   },
   "cell_type": "markdown",
   "id": "62113f01-2b30-4c22-ae09-0fafadcc309f",
   "metadata": {},
   "source": [
    "![image.png](attachment:9546bf35-6d24-4e04-ac6f-9cac811d5701.png)"
   ]
  },
  {
   "cell_type": "code",
   "execution_count": 3,
   "id": "047abbc4-5026-4ecf-9634-8c69bd158784",
   "metadata": {
    "tags": []
   },
   "outputs": [
    {
     "data": {
      "image/png": "[encoded data removed]",
      "text/latex": [
       "$\\displaystyle x^{2}$"
      ],
      "text/plain": [
       " 2\n",
       "x "
      ]
     },
     "execution_count": 3,
     "metadata": {},
     "output_type": "execute_result"
    }
   ],
   "source": [
    "ppow(x)"
   ]
  },
  {
   "cell_type": "code",
   "execution_count": 4,
   "id": "a3505056-9928-47df-86d8-40f1998a0b6e",
   "metadata": {
    "tags": []
   },
   "outputs": [
    {
     "data": {
      "image/png": "[encoded data removed]",
      "text/latex": [
       "$\\displaystyle 9$"
      ],
      "text/plain": [
       "9"
      ]
     },
     "execution_count": 4,
     "metadata": {},
     "output_type": "execute_result"
    }
   ],
   "source": [
    "ppow(3)"
   ]
  },
  {
   "cell_type": "code",
   "execution_count": 5,
   "id": "aef24743-e480-4435-9b9d-46e2ee1446a1",
   "metadata": {
    "scrolled": true,
    "tags": []
   },
   "outputs": [
    {
     "data": {
      "image/png": "[encoded data removed]",
      "text/latex": [
       "$\\displaystyle \\frac{x^{2}}{y^{2} - 4 y + 4} + \\frac{4 x}{y^{2} - 4 y + 4} + \\frac{4}{y^{2} - 4 y + 4}$"
      ],
      "text/plain": [
       "      2                                   \n",
       "     x             4⋅x             4      \n",
       "──────────── + ──────────── + ────────────\n",
       " 2              2              2          \n",
       "y  - 4⋅y + 4   y  - 4⋅y + 4   y  - 4⋅y + 4"
      ]
     },
     "execution_count": 5,
     "metadata": {},
     "output_type": "execute_result"
    }
   ],
   "source": [
    "expand((expand(ppow(x+2))/(y-2)**2))"
   ]
  },
  {
   "cell_type": "code",
   "execution_count": 6,
   "id": "99b9af3b-ea33-43a6-b9a4-37a0c0f5f1de",
   "metadata": {
    "tags": []
   },
   "outputs": [
    {
     "data": {
      "text/latex": [
       "$\\displaystyle Q =x + y$"
      ],
      "text/plain": [
       "<IPython.core.display.Math object>"
      ]
     },
     "metadata": {},
     "output_type": "display_data"
    }
   ],
   "source": [
    "Q=MyEq(x+y,'Q')"
   ]
  },
  {
   "cell_type": "code",
   "execution_count": 7,
   "id": "b838bc1c-bc33-411d-855c-a773fef75558",
   "metadata": {
    "tags": []
   },
   "outputs": [
    {
     "data": {
      "text/latex": [
       "$\\displaystyle Q =\\left(x + y\\right)^{4}$"
      ],
      "text/plain": [
       "<IPython.core.display.Math object>"
      ]
     },
     "metadata": {},
     "output_type": "display_data"
    }
   ],
   "source": [
    "Q.Pow(4)"
   ]
  },
  {
   "cell_type": "code",
   "execution_count": 8,
   "id": "f55a0974-f343-47a1-90aa-f0db31228600",
   "metadata": {
    "tags": []
   },
   "outputs": [
    {
     "data": {
      "text/latex": [
       "$\\displaystyle x + y = x$"
      ],
      "text/plain": [
       "<IPython.core.display.Math object>"
      ]
     },
     "metadata": {},
     "output_type": "display_data"
    }
   ],
   "source": [
    "Q=MQ(x+y,x)"
   ]
  },
  {
   "cell_type": "code",
   "execution_count": 9,
   "id": "0fbb2b44-13b6-44b1-818c-cc5e09ebcb2f",
   "metadata": {
    "tags": []
   },
   "outputs": [
    {
     "data": {
      "text/latex": [
       "$\\displaystyle \\left(x + y\\right)^{3 a + b} = x^{3 a + b}$"
      ],
      "text/plain": [
       "<IPython.core.display.Math object>"
      ]
     },
     "metadata": {},
     "output_type": "display_data"
    }
   ],
   "source": [
    "Q.Pow(3*a+b)"
   ]
  },
  {
   "cell_type": "code",
   "execution_count": 10,
   "id": "95c91681-7f75-4ce9-b2c9-8a36234cfacd",
   "metadata": {
    "tags": []
   },
   "outputs": [
    {
     "data": {
      "text/latex": [
       "$\\displaystyle x + y = x$"
      ],
      "text/plain": [
       "<IPython.core.display.Math object>"
      ]
     },
     "metadata": {},
     "output_type": "display_data"
    }
   ],
   "source": [
    "Q=MQ(x+y,x)"
   ]
  },
  {
   "cell_type": "code",
   "execution_count": 11,
   "id": "e74fa622-bc29-49fb-b4e9-d906ced81ae2",
   "metadata": {
    "tags": []
   },
   "outputs": [
    {
     "data": {
      "text/latex": [
       "$\\displaystyle \\left(x + y\\right)^{3 a + b} = x$"
      ],
      "text/plain": [
       "<IPython.core.display.Math object>"
      ]
     },
     "metadata": {},
     "output_type": "display_data"
    }
   ],
   "source": [
    "Q.Pow(3*a+b,'L') #only left side"
   ]
  },
  {
   "cell_type": "code",
   "execution_count": 12,
   "id": "69323dad-f49b-419a-98d4-4d075b9bca2c",
   "metadata": {
    "tags": []
   },
   "outputs": [
    {
     "data": {
      "text/latex": [
       "$\\displaystyle \\left(x + y\\right)^{3 a + b} = x^{3 a + b}$"
      ],
      "text/plain": [
       "<IPython.core.display.Math object>"
      ]
     },
     "metadata": {},
     "output_type": "display_data"
    }
   ],
   "source": [
    "Q.Pow(3*a+b,'R') #only left side"
   ]
  },
  {
   "cell_type": "code",
   "execution_count": 13,
   "id": "9bfc67f6-79b3-4883-91e7-9dba4a857ecb",
   "metadata": {
    "tags": []
   },
   "outputs": [
    {
     "data": {
      "image/png": "[encoded data removed]",
      "text/latex": [
       "$\\displaystyle - x^{3 a + b} + \\left(x + y\\right)^{3 a + b}$"
      ],
      "text/plain": [
       "   3⋅a + b          3⋅a + b\n",
       "- x        + (x + y)       "
      ]
     },
     "execution_count": 13,
     "metadata": {},
     "output_type": "execute_result"
    }
   ],
   "source": [
    "Q() "
   ]
  },
  {
   "attachments": {
    "20e0cd2a-95b2-4f69-8c93-5299e944d921.png": {
     "image/png": "[encoded data removed]"
    }
   },
   "cell_type": "markdown",
   "id": "fa3caa6c-0e24-451e-a5f9-a6946993b5ee",
   "metadata": {},
   "source": [
    "![image.png](attachment:20e0cd2a-95b2-4f69-8c93-5299e944d921.png)"
   ]
  },
  {
   "attachments": {
    "b8208c58-c99e-4c64-9173-13cfb2d9bfb2.png": {
     "image/png": "[encoded data removed]"
    }
   },
   "cell_type": "markdown",
   "id": "5b8ba5cb-68bf-407c-8f74-7b38fcdbe257",
   "metadata": {},
   "source": [
    "![image.png](attachment:b8208c58-c99e-4c64-9173-13cfb2d9bfb2.png)"
   ]
  },
  {
   "cell_type": "code",
   "execution_count": 14,
   "id": "082253c6-4061-430b-8947-dcff3eaeacdb",
   "metadata": {
    "tags": []
   },
   "outputs": [
    {
     "data": {
      "image/png": "[encoded data removed]",
      "text/latex": [
       "$\\displaystyle \\sqrt{x}$"
      ],
      "text/plain": [
       "√x"
      ]
     },
     "execution_count": 14,
     "metadata": {},
     "output_type": "execute_result"
    }
   ],
   "source": [
    "rpow(x)"
   ]
  },
  {
   "cell_type": "code",
   "execution_count": 15,
   "id": "f986620b-4c15-4344-9da7-1a50c0ddcf05",
   "metadata": {
    "tags": []
   },
   "outputs": [
    {
     "data": {
      "image/png": "[encoded data removed]",
      "text/latex": [
       "$\\displaystyle \\sqrt[4]{x}$"
      ],
      "text/plain": [
       "4 ___\n",
       "╲╱ x "
      ]
     },
     "execution_count": 15,
     "metadata": {},
     "output_type": "execute_result"
    }
   ],
   "source": [
    "rpow(x,4)"
   ]
  },
  {
   "cell_type": "code",
   "execution_count": 16,
   "id": "4cb914a1-1b36-48f0-b60c-2d79cfc82f0d",
   "metadata": {
    "tags": []
   },
   "outputs": [
    {
     "data": {
      "image/png": "[encoded data removed]",
      "text/latex": [
       "$\\displaystyle x^{\\frac{1}{y}}$"
      ],
      "text/plain": [
       "y ___\n",
       "╲╱ x "
      ]
     },
     "execution_count": 16,
     "metadata": {},
     "output_type": "execute_result"
    }
   ],
   "source": [
    "rpow(x,y,z)"
   ]
  },
  {
   "cell_type": "code",
   "execution_count": 17,
   "id": "5373b6ad-21e7-4cbf-8986-2691c1a8c7dd",
   "metadata": {
    "tags": []
   },
   "outputs": [
    {
     "data": {
      "image/png": "[encoded data removed]",
      "text/latex": [
       "$\\displaystyle x^{\\frac{a}{7}}$"
      ],
      "text/plain": [
       " a\n",
       " ─\n",
       " 7\n",
       "x "
      ]
     },
     "execution_count": 17,
     "metadata": {},
     "output_type": "execute_result"
    }
   ],
   "source": [
    "(kpow(x,1,7))**a"
   ]
  },
  {
   "attachments": {
    "928ef224-915d-4c13-9d5d-7407e8df4042.png": {
     "image/png": "[encoded data removed]"
    }
   },
   "cell_type": "markdown",
   "id": "99d9d1a2-7f71-4384-ade6-4ebd3dccf982",
   "metadata": {},
   "source": [
    "![image.png](attachment:928ef224-915d-4c13-9d5d-7407e8df4042.png)"
   ]
  },
  {
   "cell_type": "code",
   "execution_count": 18,
   "id": "5fd670af-9e00-4a8d-b600-c7a34da6aa16",
   "metadata": {
    "tags": []
   },
   "outputs": [
    {
     "data": {
      "text/latex": [
       "$\\displaystyle Q =x + y$"
      ],
      "text/plain": [
       "<IPython.core.display.Math object>"
      ]
     },
     "metadata": {},
     "output_type": "display_data"
    }
   ],
   "source": [
    "Q=MyEq(x+y,'Q')"
   ]
  },
  {
   "cell_type": "code",
   "execution_count": 19,
   "id": "fca01c44-5b5c-402d-ab21-c23e35395fba",
   "metadata": {
    "tags": []
   },
   "outputs": [
    {
     "data": {
      "text/latex": [
       "$\\displaystyle Q =\\sqrt[4]{x + y}$"
      ],
      "text/plain": [
       "<IPython.core.display.Math object>"
      ]
     },
     "metadata": {},
     "output_type": "display_data"
    }
   ],
   "source": [
    "Q.Rpow(4)"
   ]
  },
  {
   "cell_type": "code",
   "execution_count": 20,
   "id": "e2853440-a879-4b71-af99-636291825298",
   "metadata": {
    "tags": []
   },
   "outputs": [
    {
     "data": {
      "text/latex": [
       "$\\displaystyle x + y = x$"
      ],
      "text/plain": [
       "<IPython.core.display.Math object>"
      ]
     },
     "metadata": {},
     "output_type": "display_data"
    }
   ],
   "source": [
    "Q=MQ(x+y,x)"
   ]
  },
  {
   "cell_type": "code",
   "execution_count": 21,
   "id": "b7a9c8d4-b793-473c-b669-4fcf538cff86",
   "metadata": {
    "tags": []
   },
   "outputs": [
    {
     "data": {
      "text/latex": [
       "$\\displaystyle \\left(x + y\\right)^{\\frac{1}{3 a + b}} = x^{\\frac{1}{3 a + b}}$"
      ],
      "text/plain": [
       "<IPython.core.display.Math object>"
      ]
     },
     "metadata": {},
     "output_type": "display_data"
    }
   ],
   "source": [
    "Q.Rpow(3*a+b)"
   ]
  },
  {
   "cell_type": "code",
   "execution_count": 22,
   "id": "5ec71feb-16fc-44ed-a381-c3d2089c6ea8",
   "metadata": {
    "tags": []
   },
   "outputs": [
    {
     "data": {
      "text/latex": [
       "$\\displaystyle x + y = x$"
      ],
      "text/plain": [
       "<IPython.core.display.Math object>"
      ]
     },
     "metadata": {},
     "output_type": "display_data"
    }
   ],
   "source": [
    "Q=MQ(x+y,x)"
   ]
  },
  {
   "cell_type": "code",
   "execution_count": 23,
   "id": "00e4f1ee-ea01-478a-b16c-758d5e29ed2c",
   "metadata": {
    "tags": []
   },
   "outputs": [
    {
     "data": {
      "text/latex": [
       "$\\displaystyle \\left(x + y\\right)^{\\frac{1}{3 a + b}} = x$"
      ],
      "text/plain": [
       "<IPython.core.display.Math object>"
      ]
     },
     "metadata": {},
     "output_type": "display_data"
    }
   ],
   "source": [
    "Q.Rpow(3*a+b,'L') #only left side"
   ]
  },
  {
   "cell_type": "code",
   "execution_count": 24,
   "id": "0b35e2cf-b1ab-4da9-acac-f83a5f8cda51",
   "metadata": {
    "tags": []
   },
   "outputs": [
    {
     "data": {
      "text/latex": [
       "$\\displaystyle \\left(x + y\\right)^{\\frac{1}{3 a + b}} = x^{\\frac{1}{3 a + b}}$"
      ],
      "text/plain": [
       "<IPython.core.display.Math object>"
      ]
     },
     "metadata": {},
     "output_type": "display_data"
    }
   ],
   "source": [
    "Q.Rpow(3*a+b,'R') #only left side"
   ]
  },
  {
   "cell_type": "code",
   "execution_count": 25,
   "id": "5250035f-e59a-41bf-8c3a-7ba3286cd098",
   "metadata": {
    "tags": []
   },
   "outputs": [
    {
     "data": {
      "image/png": "[encoded data removed]",
      "text/latex": [
       "$\\displaystyle - x^{\\frac{1}{3 a + b}} + \\left(x + y\\right)^{\\frac{1}{3 a + b}}$"
      ],
      "text/plain": [
       "      1                1   \n",
       "   ───────          ───────\n",
       "   3⋅a + b          3⋅a + b\n",
       "- x        + (x + y)       "
      ]
     },
     "execution_count": 25,
     "metadata": {},
     "output_type": "execute_result"
    }
   ],
   "source": [
    "Q() "
   ]
  },
  {
   "cell_type": "code",
   "execution_count": 26,
   "id": "30f123bb-f8a1-4867-9631-a5ec7f142576",
   "metadata": {
    "tags": []
   },
   "outputs": [
    {
     "data": {
      "application/vnd.jupyter.widget-view+json": {
       "model_id": "160838ee900b421c80e34e05ade07098",
       "version_major": 2,
       "version_minor": 0
      },
      "text/plain": [
       "Tab(children=(Tab(children=(VBox(children=(Image(value=b'\\x89PNG\\r\\n\\x1a\\n\\x00\\x00\\x00\\rIHDR\\x00\\x00\\x041\\x00\\…"
      ]
     },
     "execution_count": 26,
     "metadata": {},
     "output_type": "execute_result"
    }
   ],
   "source": [
    "helpgui"
   ]
  },
  {
   "cell_type": "code",
   "execution_count": 27,
   "id": "7abd9c26-b790-48ff-9337-a9f777d5883d",
   "metadata": {
    "tags": []
   },
   "outputs": [],
   "source": [
    "from   Libaldomath  import *\n",
    "# this cell will be initializing your variables"
   ]
  },
  {
   "attachments": {
    "20e0cd2a-95b2-4f69-8c93-5299e944d921.png": {
     "image/png": "[encoded data removed]"
    }
   },
   "cell_type": "markdown",
   "id": "b1e93d84-1280-4d60-abec-6c3a55b4ab64",
   "metadata": {},
   "source": [
    "![image.png](attachment:20e0cd2a-95b2-4f69-8c93-5299e944d921.png)"
   ]
  },
  {
   "attachments": {
    "9546bf35-6d24-4e04-ac6f-9cac811d5701.png": {
     "image/png": "[encoded data removed]"
    }
   },
   "cell_type": "markdown",
   "id": "e3df2c02-da2b-49e3-882d-6e1c238efea4",
   "metadata": {
    "tags": []
   },
   "source": [
    "![image.png](attachment:9546bf35-6d24-4e04-ac6f-9cac811d5701.png)"
   ]
  },
  {
   "attachments": {
    "87d0b398-90c6-48ef-b5c1-9e79c5e80ca8.png": {
     "image/png": "[encoded data removed]"
    }
   },
   "cell_type": "markdown",
   "id": "3ca84595-8de0-455e-82c9-4c67fec66237",
   "metadata": {},
   "source": [
    "![image.png](attachment:87d0b398-90c6-48ef-b5c1-9e79c5e80ca8.png)"
   ]
  },
  {
   "cell_type": "code",
   "execution_count": 29,
   "id": "543190a6-4969-4539-9491-cd71678b13d6",
   "metadata": {
    "tags": []
   },
   "outputs": [
    {
     "data": {
      "image/png": "[encoded data removed]",
      "text/latex": [
       "$\\displaystyle 2^{8 x}$"
      ],
      "text/plain": [
       " 8⋅x\n",
       "2   "
      ]
     },
     "execution_count": 29,
     "metadata": {},
     "output_type": "execute_result"
    }
   ],
   "source": [
    "primefactor(256**x)"
   ]
  },
  {
   "cell_type": "code",
   "execution_count": 30,
   "id": "0a70cecb-6559-4665-831f-bac854d0444a",
   "metadata": {
    "tags": []
   },
   "outputs": [
    {
     "data": {
      "image/png": "[encoded data removed]",
      "text/latex": [
       "$\\displaystyle \\frac{16^{2 x}}{400} + \\frac{7}{10000}$"
      ],
      "text/plain": [
       "  2⋅x        \n",
       "16        7  \n",
       "───── + ─────\n",
       " 400    10000"
      ]
     },
     "execution_count": 30,
     "metadata": {},
     "output_type": "execute_result"
    }
   ],
   "source": [
    "expr=(25*16**(2*x) +7)/(10000)\n",
    "expr"
   ]
  },
  {
   "cell_type": "code",
   "execution_count": 31,
   "id": "7a53b692-ee78-4dd7-807f-db8fbba6482d",
   "metadata": {
    "tags": []
   },
   "outputs": [
    {
     "data": {
      "image/png": "[encoded data removed]",
      "text/latex": [
       "$\\displaystyle \\frac{2^{4} \\cdot 2^{8 x}}{5^{2}} + \\frac{7 \\cdot 2^{4}}{5^{4}}$"
      ],
      "text/plain": [
       " 4  8⋅x      4\n",
       "2 ⋅2      7⋅2 \n",
       "─────── + ────\n",
       "    2       4 \n",
       "   5       5  "
      ]
     },
     "execution_count": 31,
     "metadata": {},
     "output_type": "execute_result"
    }
   ],
   "source": [
    " primefactor(expr)"
   ]
  },
  {
   "attachments": {
    "6ac97320-ccd8-4b85-b9b1-67193632e220.png": {
     "image/png": "[encoded data removed]"
    }
   },
   "cell_type": "markdown",
   "id": "2d672baa-79d7-4105-9012-d3e2e9225f65",
   "metadata": {},
   "source": [
    "![image.png](attachment:6ac97320-ccd8-4b85-b9b1-67193632e220.png)"
   ]
  },
  {
   "cell_type": "code",
   "execution_count": 32,
   "id": "eaed8bf5-66ac-4f75-b0aa-c26dc7e4b896",
   "metadata": {
    "tags": []
   },
   "outputs": [
    {
     "data": {
      "text/latex": [
       "$\\displaystyle 6912 y^{8} + 256 = 10000$"
      ],
      "text/plain": [
       "<IPython.core.display.Math object>"
      ]
     },
     "metadata": {},
     "output_type": "display_data"
    }
   ],
   "source": [
    "Q=MQ(256+6912*y**8,10000)"
   ]
  },
  {
   "cell_type": "code",
   "execution_count": 33,
   "id": "9da48cea-adf2-43d3-bcde-ed4a2a8ee9d6",
   "metadata": {
    "tags": []
   },
   "outputs": [
    {
     "data": {
      "text/latex": [
       "$\\displaystyle 2^{8} \\cdot 3^{3} y^{8} + 2^{8} = 2^{4} \\cdot 5^{4}$"
      ],
      "text/plain": [
       "<IPython.core.display.Math object>"
      ]
     },
     "metadata": {},
     "output_type": "display_data"
    }
   ],
   "source": [
    "Q.primefactor()"
   ]
  },
  {
   "cell_type": "code",
   "execution_count": 34,
   "id": "79c0e26b-dc62-48f8-8d52-4d07048cd35e",
   "metadata": {
    "tags": []
   },
   "outputs": [
    {
     "data": {
      "text/latex": [
       "$\\displaystyle 6912 y^{8} + 256 = 10000$"
      ],
      "text/plain": [
       "<IPython.core.display.Math object>"
      ]
     },
     "metadata": {},
     "output_type": "display_data"
    }
   ],
   "source": [
    "Q=MQ(256+6912*y**8,10000)"
   ]
  },
  {
   "cell_type": "code",
   "execution_count": 35,
   "id": "eeba5bed-0e0c-4e12-b31f-ec3093c42898",
   "metadata": {
    "tags": []
   },
   "outputs": [
    {
     "data": {
      "text/latex": [
       "$\\displaystyle 2^{8} \\cdot 3^{3} y^{8} + 2^{8} = 10000$"
      ],
      "text/plain": [
       "<IPython.core.display.Math object>"
      ]
     },
     "metadata": {},
     "output_type": "display_data"
    }
   ],
   "source": [
    "Q.primefactor('L')"
   ]
  },
  {
   "cell_type": "code",
   "execution_count": 36,
   "id": "3b746c5d-bafc-40a9-a028-ffce5b64fec9",
   "metadata": {
    "tags": []
   },
   "outputs": [
    {
     "data": {
      "image/png": "[encoded data removed]",
      "text/latex": [
       "$\\displaystyle 2^{8} \\cdot 3^{3} y^{8} - 9744$"
      ],
      "text/plain": [
       " 8  3  8       \n",
       "2 ⋅3 ⋅y  - 9744"
      ]
     },
     "execution_count": 36,
     "metadata": {},
     "output_type": "execute_result"
    }
   ],
   "source": [
    "Q()"
   ]
  },
  {
   "attachments": {
    "3d5e8c85-2eb7-4f44-93d3-6ae65540106f.png": {
     "image/png": "[encoded data removed]"
    }
   },
   "cell_type": "markdown",
   "id": "418d2cfd-aef3-4e41-8a77-54938d20b32e",
   "metadata": {},
   "source": [
    "![image.png](attachment:3d5e8c85-2eb7-4f44-93d3-6ae65540106f.png)"
   ]
  },
  {
   "cell_type": "code",
   "execution_count": 37,
   "id": "8c5f37a5-5905-4031-8adc-c5de9b11b262",
   "metadata": {
    "tags": []
   },
   "outputs": [],
   "source": [
    "m=x**y "
   ]
  },
  {
   "cell_type": "code",
   "execution_count": 38,
   "id": "9bf5bc3e-3e07-4aa5-b290-21af81b5177d",
   "metadata": {
    "tags": []
   },
   "outputs": [
    {
     "data": {
      "image/png": "[encoded data removed]",
      "text/latex": [
       "$\\displaystyle x$"
      ],
      "text/plain": [
       "x"
      ]
     },
     "execution_count": 38,
     "metadata": {},
     "output_type": "execute_result"
    }
   ],
   "source": [
    "getbase(m)"
   ]
  },
  {
   "cell_type": "code",
   "execution_count": 39,
   "id": "33017d1f-97a6-429c-9593-2b7b262a09b3",
   "metadata": {
    "tags": []
   },
   "outputs": [
    {
     "data": {
      "image/png": "[encoded data removed]",
      "text/latex": [
       "$\\displaystyle x^{y} + 5$"
      ],
      "text/plain": [
       " y    \n",
       "x  + 5"
      ]
     },
     "execution_count": 39,
     "metadata": {},
     "output_type": "execute_result"
    }
   ],
   "source": [
    "m=x**y +5\n",
    "m"
   ]
  },
  {
   "cell_type": "code",
   "execution_count": 40,
   "id": "65184487-ff56-4519-9948-20f1206e2dc4",
   "metadata": {
    "tags": []
   },
   "outputs": [
    {
     "data": {
      "image/png": "[encoded data removed]",
      "text/latex": [
       "$\\displaystyle x^{y} + 5$"
      ],
      "text/plain": [
       " y    \n",
       "x  + 5"
      ]
     },
     "execution_count": 40,
     "metadata": {},
     "output_type": "execute_result"
    }
   ],
   "source": [
    "getbase(m)"
   ]
  },
  {
   "cell_type": "code",
   "execution_count": 41,
   "id": "606567d5-ba07-46d4-99ec-d330588e580a",
   "metadata": {
    "tags": []
   },
   "outputs": [
    {
     "data": {
      "text/latex": [
       "$\\displaystyle Q =x^{y}$"
      ],
      "text/plain": [
       "<IPython.core.display.Math object>"
      ]
     },
     "metadata": {},
     "output_type": "display_data"
    }
   ],
   "source": [
    "Q=MyEq(x**y,'Q')"
   ]
  },
  {
   "cell_type": "code",
   "execution_count": 42,
   "id": "8193d864-88db-49ca-b8fe-1759a7293e03",
   "metadata": {
    "tags": []
   },
   "outputs": [
    {
     "data": {
      "image/png": "[encoded data removed]",
      "text/latex": [
       "$\\displaystyle x$"
      ],
      "text/plain": [
       "x"
      ]
     },
     "execution_count": 42,
     "metadata": {},
     "output_type": "execute_result"
    }
   ],
   "source": [
    "Q.getbase()"
   ]
  },
  {
   "cell_type": "code",
   "execution_count": 43,
   "id": "b93f4d25-ae75-4f71-a798-c26e7efa56c8",
   "metadata": {
    "tags": []
   },
   "outputs": [
    {
     "data": {
      "text/latex": [
       "$\\displaystyle Q =x^{y} + 6$"
      ],
      "text/plain": [
       "<IPython.core.display.Math object>"
      ]
     },
     "metadata": {},
     "output_type": "display_data"
    }
   ],
   "source": [
    "Q=MyEq(x**y+6,'Q')"
   ]
  },
  {
   "cell_type": "code",
   "execution_count": 44,
   "id": "8b6dca5f-1591-4141-a1f6-159d43f4f171",
   "metadata": {
    "tags": []
   },
   "outputs": [
    {
     "data": {
      "image/png": "[encoded data removed]",
      "text/latex": [
       "$\\displaystyle x^{y} + 6$"
      ],
      "text/plain": [
       " y    \n",
       "x  + 6"
      ]
     },
     "execution_count": 44,
     "metadata": {},
     "output_type": "execute_result"
    }
   ],
   "source": [
    "Q.getbase()"
   ]
  },
  {
   "attachments": {
    "dec8332b-befc-490c-be45-d3570762aa59.png": {
     "image/png": "[encoded data removed]"
    }
   },
   "cell_type": "markdown",
   "id": "d4bea041-cdf4-4165-b85c-8e5764d9f04a",
   "metadata": {},
   "source": [
    "![image.png](attachment:dec8332b-befc-490c-be45-d3570762aa59.png)"
   ]
  },
  {
   "cell_type": "code",
   "execution_count": 45,
   "id": "02edc64c-8000-4bbe-ac85-88ff6b408c20",
   "metadata": {
    "tags": []
   },
   "outputs": [],
   "source": [
    "m=x**y "
   ]
  },
  {
   "cell_type": "code",
   "execution_count": 46,
   "id": "3cd785aa-3e2f-4596-bdcc-2543247b6baa",
   "metadata": {
    "tags": []
   },
   "outputs": [
    {
     "data": {
      "image/png": "[encoded data removed]",
      "text/latex": [
       "$\\displaystyle y$"
      ],
      "text/plain": [
       "y"
      ]
     },
     "execution_count": 46,
     "metadata": {},
     "output_type": "execute_result"
    }
   ],
   "source": [
    "getexpo(m)"
   ]
  },
  {
   "cell_type": "code",
   "execution_count": 47,
   "id": "0b868f96-d1c6-409c-8e5b-79bd89edd56f",
   "metadata": {
    "tags": []
   },
   "outputs": [
    {
     "data": {
      "image/png": "[encoded data removed]",
      "text/latex": [
       "$\\displaystyle x^{y} + 5$"
      ],
      "text/plain": [
       " y    \n",
       "x  + 5"
      ]
     },
     "execution_count": 47,
     "metadata": {},
     "output_type": "execute_result"
    }
   ],
   "source": [
    "m=x**y +5\n",
    "m"
   ]
  },
  {
   "cell_type": "code",
   "execution_count": 48,
   "id": "5a7dcffe-bdae-481b-b222-930cd6b38016",
   "metadata": {
    "tags": []
   },
   "outputs": [
    {
     "data": {
      "image/png": "[encoded data removed]",
      "text/latex": [
       "$\\displaystyle 1$"
      ],
      "text/plain": [
       "1"
      ]
     },
     "execution_count": 48,
     "metadata": {},
     "output_type": "execute_result"
    }
   ],
   "source": [
    "getexpo(m)"
   ]
  },
  {
   "cell_type": "code",
   "execution_count": 49,
   "id": "21bad7c8-f0ef-40a0-a2be-58184d860d58",
   "metadata": {
    "tags": []
   },
   "outputs": [
    {
     "data": {
      "text/latex": [
       "$\\displaystyle Q =x^{y}$"
      ],
      "text/plain": [
       "<IPython.core.display.Math object>"
      ]
     },
     "metadata": {},
     "output_type": "display_data"
    }
   ],
   "source": [
    "Q=MyEq(x**y,'Q')"
   ]
  },
  {
   "cell_type": "code",
   "execution_count": 50,
   "id": "17611af0-08cc-48b1-91ae-3614d4399e62",
   "metadata": {
    "tags": []
   },
   "outputs": [
    {
     "data": {
      "image/png": "[encoded data removed]",
      "text/latex": [
       "$\\displaystyle y$"
      ],
      "text/plain": [
       "y"
      ]
     },
     "execution_count": 50,
     "metadata": {},
     "output_type": "execute_result"
    }
   ],
   "source": [
    "Q.getexpo()"
   ]
  },
  {
   "cell_type": "code",
   "execution_count": 51,
   "id": "bd97d05c-9693-4401-83ec-bc4a5a1e87bc",
   "metadata": {
    "tags": []
   },
   "outputs": [
    {
     "data": {
      "text/latex": [
       "$\\displaystyle Q =x^{y} + 6$"
      ],
      "text/plain": [
       "<IPython.core.display.Math object>"
      ]
     },
     "metadata": {},
     "output_type": "display_data"
    }
   ],
   "source": [
    "Q=MyEq(x**y+6,'Q')"
   ]
  },
  {
   "cell_type": "code",
   "execution_count": 52,
   "id": "a171a3ee-3167-4d91-b66c-369a3bf456f2",
   "metadata": {
    "tags": []
   },
   "outputs": [
    {
     "data": {
      "image/png": "[encoded data removed]",
      "text/latex": [
       "$\\displaystyle 1$"
      ],
      "text/plain": [
       "1"
      ]
     },
     "execution_count": 52,
     "metadata": {},
     "output_type": "execute_result"
    }
   ],
   "source": [
    "Q.getexpo()"
   ]
  },
  {
   "attachments": {
    "67ebce0f-91f1-4248-9e6e-f9b8e52706fe.png": {
     "image/png": "[encoded data removed]"
    }
   },
   "cell_type": "markdown",
   "id": "7c30d030-9f34-4d46-9e77-e088b12a7865",
   "metadata": {},
   "source": [
    "![image.png](attachment:67ebce0f-91f1-4248-9e6e-f9b8e52706fe.png)"
   ]
  },
  {
   "cell_type": "code",
   "execution_count": 53,
   "id": "c6cdbd0e-3aea-4366-a334-8e7154596d01",
   "metadata": {
    "tags": []
   },
   "outputs": [],
   "source": [
    "m=x**y "
   ]
  },
  {
   "cell_type": "code",
   "execution_count": 54,
   "id": "03fec722-0af8-44eb-9d75-e69d1b1b334c",
   "metadata": {
    "tags": []
   },
   "outputs": [
    {
     "data": {
      "image/png": "[encoded data removed]",
      "text/latex": [
       "$\\displaystyle \\left( x, \\  y\\right)$"
      ],
      "text/plain": [
       "(x, y)"
      ]
     },
     "execution_count": 54,
     "metadata": {},
     "output_type": "execute_result"
    }
   ],
   "source": [
    "partpow(m)"
   ]
  },
  {
   "cell_type": "code",
   "execution_count": 55,
   "id": "a43c8c34-91d5-4214-a485-4b65bdd0b7fe",
   "metadata": {
    "tags": []
   },
   "outputs": [],
   "source": [
    "m=x**(y/z) "
   ]
  },
  {
   "cell_type": "code",
   "execution_count": 56,
   "id": "1b9a2857-4c94-4872-8f1f-67854751c5d2",
   "metadata": {
    "tags": []
   },
   "outputs": [
    {
     "data": {
      "image/png": "[encoded data removed]",
      "text/latex": [
       "$\\displaystyle \\left( x, \\  \\frac{y}{z}\\right)$"
      ],
      "text/plain": [
       "⎛   y⎞\n",
       "⎜x, ─⎟\n",
       "⎝   z⎠"
      ]
     },
     "execution_count": 56,
     "metadata": {},
     "output_type": "execute_result"
    }
   ],
   "source": [
    "partpow(m)"
   ]
  },
  {
   "cell_type": "code",
   "execution_count": 57,
   "id": "eb8417b0-2467-4f60-abac-818c89919d4f",
   "metadata": {
    "tags": []
   },
   "outputs": [
    {
     "data": {
      "image/png": "[encoded data removed]",
      "text/latex": [
       "$\\displaystyle \\left( x, \\  y, \\  z\\right)$"
      ],
      "text/plain": [
       "(x, y, z)"
      ]
     },
     "execution_count": 57,
     "metadata": {},
     "output_type": "execute_result"
    }
   ],
   "source": [
    "partPow(m)"
   ]
  },
  {
   "attachments": {
    "f3e57c3d-9cc9-419d-8041-2f78978fd749.png": {
     "image/png": "[encoded data removed]"
    }
   },
   "cell_type": "markdown",
   "id": "26812737-e689-4dc8-979d-bf2a8efbbed6",
   "metadata": {},
   "source": [
    "![image.png](attachment:f3e57c3d-9cc9-419d-8041-2f78978fd749.png)"
   ]
  },
  {
   "cell_type": "code",
   "execution_count": 58,
   "id": "86a1fc6c-8909-425a-9f0c-ae8d5bd24d89",
   "metadata": {
    "tags": []
   },
   "outputs": [
    {
     "data": {
      "image/png": "[encoded data removed]",
      "text/latex": [
       "$\\displaystyle z \\left(x - 1\\right)^{2} \\left(x^{2} + 2 x + 1\\right)^{2}$"
      ],
      "text/plain": [
       "                         2\n",
       "         2 ⎛ 2          ⎞ \n",
       "z⋅(x - 1) ⋅⎝x  + 2⋅x + 1⎠ "
      ]
     },
     "execution_count": 58,
     "metadata": {},
     "output_type": "execute_result"
    }
   ],
   "source": [
    "m=((x*x+2*x+1)*(x-1))**2*z\n",
    "m"
   ]
  },
  {
   "cell_type": "code",
   "execution_count": 59,
   "id": "4f302ef0-ec2e-4272-9bb7-4c5c8d65e9b3",
   "metadata": {
    "tags": []
   },
   "outputs": [
    {
     "data": {
      "image/png": "[encoded data removed]",
      "text/latex": [
       "$\\displaystyle z \\left(x - 1\\right)^{2} \\left(x + 1\\right)^{4}$"
      ],
      "text/plain": [
       "         2        4\n",
       "z⋅(x - 1) ⋅(x + 1) "
      ]
     },
     "execution_count": 59,
     "metadata": {},
     "output_type": "execute_result"
    }
   ],
   "source": [
    "factorbase(m)"
   ]
  },
  {
   "cell_type": "code",
   "execution_count": 60,
   "id": "76e5bc84-d6ea-4fcf-89b0-4e473f530cec",
   "metadata": {
    "tags": []
   },
   "outputs": [
    {
     "data": {
      "image/png": "[encoded data removed]",
      "text/latex": [
       "$\\displaystyle \\left(x + 1\\right)^{2}$"
      ],
      "text/plain": [
       "       2\n",
       "(x + 1) "
      ]
     },
     "execution_count": 60,
     "metadata": {},
     "output_type": "execute_result"
    }
   ],
   "source": [
    "factor(x*x+2*x+1)"
   ]
  },
  {
   "cell_type": "code",
   "execution_count": 61,
   "id": "86df94c5-493b-4112-a460-691d2444ffb4",
   "metadata": {
    "tags": []
   },
   "outputs": [
    {
     "data": {
      "image/png": "[encoded data removed]",
      "text/latex": [
       "$\\displaystyle \\left(\\left(x + 1\\right)^{2}\\right)^{z}$"
      ],
      "text/plain": [
       "          z\n",
       "⎛       2⎞ \n",
       "⎝(x + 1) ⎠ "
      ]
     },
     "execution_count": 61,
     "metadata": {},
     "output_type": "execute_result"
    }
   ],
   "source": [
    "m=((x+1)**2)**z\n",
    "m"
   ]
  },
  {
   "cell_type": "code",
   "execution_count": 62,
   "id": "19bda225-9935-4004-86ee-4400e224b6ff",
   "metadata": {
    "tags": []
   },
   "outputs": [
    {
     "data": {
      "image/png": "[encoded data removed]",
      "text/latex": [
       "$\\displaystyle \\left(x^{2} + 2 x + 1\\right)^{z}$"
      ],
      "text/plain": [
       "              z\n",
       "⎛ 2          ⎞ \n",
       "⎝x  + 2⋅x + 1⎠ "
      ]
     },
     "execution_count": 62,
     "metadata": {},
     "output_type": "execute_result"
    }
   ],
   "source": [
    "expandbase(m)"
   ]
  },
  {
   "cell_type": "code",
   "execution_count": 63,
   "id": "ad8ae493-546c-4979-b6b5-f9b687ede712",
   "metadata": {
    "tags": []
   },
   "outputs": [
    {
     "data": {
      "image/png": "[encoded data removed]",
      "text/latex": [
       "$\\displaystyle \\left(x^{2} + x \\left(x + 1\\right) + 2 x + 1\\right)^{z}$"
      ],
      "text/plain": [
       "                          z\n",
       "⎛ 2                      ⎞ \n",
       "⎝x  + x⋅(x + 1) + 2⋅x + 1⎠ "
      ]
     },
     "execution_count": 63,
     "metadata": {},
     "output_type": "execute_result"
    }
   ],
   "source": [
    "m=(x*x+2*x+1+x*(x+1))**z\n",
    "m"
   ]
  },
  {
   "cell_type": "code",
   "execution_count": 64,
   "id": "21772a33-d12a-4947-be95-3bfa129257f7",
   "metadata": {
    "tags": []
   },
   "outputs": [
    {
     "data": {
      "image/png": "[encoded data removed]",
      "text/latex": [
       "$\\displaystyle \\left(x^{2} + x \\left(x + 1\\right) + 2 x + 1\\right)^{z}$"
      ],
      "text/plain": [
       "                          z\n",
       "⎛ 2                      ⎞ \n",
       "⎝x  + x⋅(x + 1) + 2⋅x + 1⎠ "
      ]
     },
     "execution_count": 64,
     "metadata": {},
     "output_type": "execute_result"
    }
   ],
   "source": [
    "simplifybase(m)"
   ]
  },
  {
   "attachments": {
    "cac9024e-35f1-433e-9852-8e931e05f8b5.png": {
     "image/png": "[encoded data removed]"
    }
   },
   "cell_type": "markdown",
   "id": "75290238-a118-40ad-8ffe-ac78ffc81e1d",
   "metadata": {},
   "source": [
    "![image.png](attachment:cac9024e-35f1-433e-9852-8e931e05f8b5.png)"
   ]
  },
  {
   "cell_type": "code",
   "execution_count": 65,
   "id": "31572557-22f1-4d88-84d8-46abf9fc40cf",
   "metadata": {
    "tags": []
   },
   "outputs": [
    {
     "data": {
      "image/png": "[encoded data removed]",
      "text/latex": [
       "$\\displaystyle x^{x^{2} + 2 x + 1}$"
      ],
      "text/plain": [
       "  2          \n",
       " x  + 2⋅x + 1\n",
       "x            "
      ]
     },
     "execution_count": 65,
     "metadata": {},
     "output_type": "execute_result"
    }
   ],
   "source": [
    "m=(x)**(x*x+2*x+1)\n",
    "m"
   ]
  },
  {
   "cell_type": "code",
   "execution_count": 66,
   "id": "14f54f3a-07ca-4403-9672-7f22a802e23a",
   "metadata": {
    "tags": []
   },
   "outputs": [
    {
     "data": {
      "image/png": "[encoded data removed]",
      "text/latex": [
       "$\\displaystyle x^{\\left(x + 1\\right)^{2}}$"
      ],
      "text/plain": [
       " ⎛       2⎞\n",
       " ⎝(x + 1) ⎠\n",
       "x          "
      ]
     },
     "execution_count": 66,
     "metadata": {},
     "output_type": "execute_result"
    }
   ],
   "source": [
    "factorexpo(m)"
   ]
  },
  {
   "cell_type": "code",
   "execution_count": 67,
   "id": "c8e8449a-2959-420f-a335-26dae1c47ff2",
   "metadata": {
    "tags": []
   },
   "outputs": [
    {
     "data": {
      "image/png": "[encoded data removed]",
      "text/latex": [
       "$\\displaystyle x^{\\left(x + 1\\right)^{2}}$"
      ],
      "text/plain": [
       " ⎛       2⎞\n",
       " ⎝(x + 1) ⎠\n",
       "x          "
      ]
     },
     "execution_count": 67,
     "metadata": {},
     "output_type": "execute_result"
    }
   ],
   "source": [
    "m=factorexpo((x)**(x*x+2*x+1))\n",
    "m"
   ]
  },
  {
   "cell_type": "code",
   "execution_count": 68,
   "id": "b51d6c96-c81d-4c3c-bb95-71a8f2800c5b",
   "metadata": {
    "tags": []
   },
   "outputs": [
    {
     "data": {
      "image/png": "[encoded data removed]",
      "text/latex": [
       "$\\displaystyle x^{x^{2} + 2 x + 1}$"
      ],
      "text/plain": [
       "  2          \n",
       " x  + 2⋅x + 1\n",
       "x            "
      ]
     },
     "execution_count": 68,
     "metadata": {},
     "output_type": "execute_result"
    }
   ],
   "source": [
    "expandexpo(m)"
   ]
  },
  {
   "cell_type": "code",
   "execution_count": 69,
   "id": "e0ce420f-2a49-40c5-a5ef-6ccd253ef990",
   "metadata": {},
   "outputs": [
    {
     "data": {
      "image/png": "[encoded data removed]",
      "text/latex": [
       "$\\displaystyle x^{\\left(x + 1\\right)^{2}}$"
      ],
      "text/plain": [
       " ⎛       2⎞\n",
       " ⎝(x + 1) ⎠\n",
       "x          "
      ]
     },
     "execution_count": 69,
     "metadata": {},
     "output_type": "execute_result"
    }
   ],
   "source": [
    "simplifyexpo(m)"
   ]
  },
  {
   "attachments": {
    "0f1ee567-eef1-4e4b-833c-9aca4f1b4193.png": {
     "image/png": "[encoded data removed]"
    }
   },
   "cell_type": "markdown",
   "id": "1678520d-d958-4fb9-b447-21a59f0d2d70",
   "metadata": {},
   "source": [
    "![image.png](attachment:0f1ee567-eef1-4e4b-833c-9aca4f1b4193.png)"
   ]
  },
  {
   "cell_type": "code",
   "execution_count": 70,
   "id": "d0653ff4-084e-4a72-9e2a-c45120491710",
   "metadata": {
    "tags": []
   },
   "outputs": [
    {
     "data": {
      "image/png": "[encoded data removed]",
      "text/latex": [
       "$\\displaystyle \\left(x^{y}\\right)^{z}$"
      ],
      "text/plain": [
       "    z\n",
       "⎛ y⎞ \n",
       "⎝x ⎠ "
      ]
     },
     "execution_count": 70,
     "metadata": {},
     "output_type": "execute_result"
    }
   ],
   "source": [
    "m=(x**y)**z\n",
    "m"
   ]
  },
  {
   "cell_type": "code",
   "execution_count": 71,
   "id": "acca9029-6b88-44a0-b5c3-0e451f0a1a5b",
   "metadata": {
    "tags": []
   },
   "outputs": [
    {
     "data": {
      "image/png": "[encoded data removed]",
      "text/latex": [
       "$\\displaystyle x^{y z}$"
      ],
      "text/plain": [
       " y⋅z\n",
       "x   "
      ]
     },
     "execution_count": 71,
     "metadata": {},
     "output_type": "execute_result"
    }
   ],
   "source": [
    "mulexpo(m)"
   ]
  },
  {
   "cell_type": "code",
   "execution_count": 72,
   "id": "afabcb1c-6d74-474c-9253-3ab81f057d13",
   "metadata": {
    "tags": []
   },
   "outputs": [
    {
     "data": {
      "image/png": "[encoded data removed]",
      "text/latex": [
       "$\\displaystyle x^{y z}$"
      ],
      "text/plain": [
       " y⋅z\n",
       "x   "
      ]
     },
     "execution_count": 72,
     "metadata": {},
     "output_type": "execute_result"
    }
   ],
   "source": [
    "m=mulexpo(m)\n",
    "m"
   ]
  },
  {
   "cell_type": "code",
   "execution_count": 73,
   "id": "6bcc7a63-ce9c-4345-8127-1d49a4b68a0a",
   "metadata": {
    "tags": []
   },
   "outputs": [
    {
     "data": {
      "image/png": "[encoded data removed]",
      "text/latex": [
       "$\\displaystyle \\left(x^{y}\\right)^{z}$"
      ],
      "text/plain": [
       "    z\n",
       "⎛ y⎞ \n",
       "⎝x ⎠ "
      ]
     },
     "execution_count": 73,
     "metadata": {},
     "output_type": "execute_result"
    }
   ],
   "source": [
    "pow2powpow(m)"
   ]
  },
  {
   "cell_type": "code",
   "execution_count": 74,
   "id": "aebc683b-1b76-4cb3-85fe-3b7f9efa0baf",
   "metadata": {
    "tags": []
   },
   "outputs": [
    {
     "data": {
      "image/png": "[encoded data removed]",
      "text/latex": [
       "$\\displaystyle \\left(x^{z}\\right)^{y}$"
      ],
      "text/plain": [
       "    y\n",
       "⎛ z⎞ \n",
       "⎝x ⎠ "
      ]
     },
     "execution_count": 74,
     "metadata": {},
     "output_type": "execute_result"
    }
   ],
   "source": [
    "pow2powpow(m,z)"
   ]
  },
  {
   "attachments": {
    "188a7cef-c98d-48de-b6ba-108f00d898ab.png": {
     "image/png": "[encoded data removed]"
    }
   },
   "cell_type": "markdown",
   "id": "f68cdd6d-e5ad-4834-8eb1-74f4f477a5cd",
   "metadata": {},
   "source": [
    "![image.png](attachment:188a7cef-c98d-48de-b6ba-108f00d898ab.png)"
   ]
  },
  {
   "cell_type": "code",
   "execution_count": 83,
   "id": "d8f76c0c-9ddf-46d2-9289-cda7a4f0228d",
   "metadata": {
    "tags": []
   },
   "outputs": [],
   "source": [
    "from  Libaldomath  import *\n",
    "# this cell will be initializing your variables"
   ]
  },
  {
   "cell_type": "code",
   "execution_count": 84,
   "id": "1fcecdf5-8e8d-46ac-8d9f-0982d4a5bae2",
   "metadata": {
    "scrolled": true,
    "tags": []
   },
   "outputs": [
    {
     "data": {
      "image/png": "[encoded data removed]",
      "text/latex": [
       "$\\displaystyle x^{a} y^{b - 1}$"
      ],
      "text/plain": [
       " a  b - 1\n",
       "x ⋅y     "
      ]
     },
     "execution_count": 84,
     "metadata": {},
     "output_type": "execute_result"
    }
   ],
   "source": [
    "m=x**a*y**(b-1)\n",
    "m"
   ]
  },
  {
   "cell_type": "code",
   "execution_count": 86,
   "id": "a7487a61-bf03-46c9-9aa5-f5318c2c50d0",
   "metadata": {},
   "outputs": [
    {
     "data": {
      "image/png": "[encoded data removed]",
      "text/latex": [
       "$\\displaystyle \\frac{x^{a} y^{\\frac{1}{b}}}{y}$"
      ],
      "text/plain": [
       " a b ___\n",
       "x ⋅╲╱ y \n",
       "────────\n",
       "   y    "
      ]
     },
     "execution_count": 86,
     "metadata": {},
     "output_type": "execute_result"
    }
   ],
   "source": [
    "positivexpo(m)"
   ]
  },
  {
   "cell_type": "code",
   "execution_count": null,
   "id": "cf1afcb3-fe4c-4ff8-a894-ca636dca7900",
   "metadata": {},
   "outputs": [],
   "source": []
  }
 ],
 "metadata": {
  "kernelspec": {
   "display_name": "Python 3 (ipykernel)",
   "language": "python",
   "name": "python3"
  },
  "language_info": {
   "codemirror_mode": {
    "name": "ipython",
    "version": 3
   },
   "file_extension": ".py",
   "mimetype": "text/x-python",
   "name": "python",
   "nbconvert_exporter": "python",
   "pygments_lexer": "ipython3",
   "version": "3.9.0"
  }
 },
 "nbformat": 4,
 "nbformat_minor": 5
}
