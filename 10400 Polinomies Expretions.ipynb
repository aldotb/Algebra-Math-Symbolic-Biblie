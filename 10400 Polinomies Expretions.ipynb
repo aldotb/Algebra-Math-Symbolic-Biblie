{
 "cells": [
  {
   "cell_type": "code",
   "execution_count": 2,
   "id": "e1a23f0b-bb8b-4a72-9fa7-04d212231c78",
   "metadata": {
    "tags": []
   },
   "outputs": [],
   "source": [
    "from  Libaldomath  import *\n",
    "# this cell will be initializing your variables,get help run helplib"
   ]
  },
  {
   "attachments": {
    "62cbaf3a-82e8-4b70-a3ab-a010f40c8d9f.png": {
     "image/png": "[encoded data removed]"
    }
   },
   "cell_type": "markdown",
   "id": "f4acc456-3b02-4360-ae64-35bb187bf3c1",
   "metadata": {},
   "source": [
    "![image.png](attachment:62cbaf3a-82e8-4b70-a3ab-a010f40c8d9f.png)"
   ]
  },
  {
   "cell_type": "code",
   "execution_count": 3,
   "id": "6885447f-f31c-4e36-b150-aff41c8b5a2d",
   "metadata": {
    "tags": []
   },
   "outputs": [
    {
     "data": {
      "text/latex": [
       "$\\displaystyle P =x + 3 y + 4$"
      ],
      "text/plain": [
       "<IPython.core.display.Math object>"
      ]
     },
     "metadata": {},
     "output_type": "display_data"
    }
   ],
   "source": [
    "P=MyEq(x+4+3*y,'P')"
   ]
  },
  {
   "cell_type": "code",
   "execution_count": 4,
   "id": "e3771548-1b5b-4528-8191-dc653fdf762a",
   "metadata": {
    "tags": []
   },
   "outputs": [
    {
     "data": {
      "text/latex": [
       "$\\displaystyle P =x + 3 y + 4$"
      ],
      "text/plain": [
       "<IPython.core.display.Math object>"
      ]
     },
     "metadata": {},
     "output_type": "display_data"
    }
   ],
   "source": [
    "P.s()"
   ]
  },
  {
   "cell_type": "code",
   "execution_count": 5,
   "id": "59d19b04-028d-43bd-a7cd-5d98f08c6a93",
   "metadata": {
    "tags": []
   },
   "outputs": [
    {
     "data": {
      "image/png": "[encoded data removed]",
      "text/latex": [
       "$\\displaystyle 3 y + 9$"
      ],
      "text/plain": [
       "3⋅y + 9"
      ]
     },
     "execution_count": 5,
     "metadata": {},
     "output_type": "execute_result"
    }
   ],
   "source": [
    "P(5) # when () is empty refer to var main var declare"
   ]
  },
  {
   "cell_type": "code",
   "execution_count": 6,
   "id": "9c54076c-1b10-4317-b2d3-fc67f484f614",
   "metadata": {
    "tags": []
   },
   "outputs": [
    {
     "data": {
      "image/png": "[encoded data removed]",
      "text/latex": [
       "$\\displaystyle x + 19$"
      ],
      "text/plain": [
       "x + 19"
      ]
     },
     "execution_count": 6,
     "metadata": {},
     "output_type": "execute_result"
    }
   ],
   "source": [
    "P(y=5)"
   ]
  },
  {
   "cell_type": "code",
   "execution_count": 7,
   "id": "76e60a92-3917-4187-938a-0daddd72b93e",
   "metadata": {
    "tags": []
   },
   "outputs": [
    {
     "data": {
      "text/latex": [
       "$\\displaystyle Q =x + 3 y + 4$"
      ],
      "text/plain": [
       "<IPython.core.display.Math object>"
      ]
     },
     "metadata": {},
     "output_type": "display_data"
    }
   ],
   "source": [
    "Q=P.xcopy('Q') # clone whit "
   ]
  },
  {
   "cell_type": "code",
   "execution_count": 8,
   "id": "cd71b860-222a-42b4-a08a-98eb57fb35e2",
   "metadata": {
    "tags": []
   },
   "outputs": [
    {
     "data": {
      "text/latex": [
       "$\\displaystyle Q =4 x + 3 y + 4$"
      ],
      "text/plain": [
       "<IPython.core.display.Math object>"
      ]
     },
     "metadata": {},
     "output_type": "display_data"
    }
   ],
   "source": [
    "Q.Add(3*x)"
   ]
  },
  {
   "cell_type": "code",
   "execution_count": 9,
   "id": "6684d0fa-e0a3-4b48-a089-ca880c40eb30",
   "metadata": {
    "tags": []
   },
   "outputs": [
    {
     "data": {
      "text/latex": [
       "$\\displaystyle Q =x y \\left(4 x + 3 y + 4\\right)$"
      ],
      "text/plain": [
       "<IPython.core.display.Math object>"
      ]
     },
     "metadata": {},
     "output_type": "display_data"
    }
   ],
   "source": [
    "Q.Mul(x*y)"
   ]
  },
  {
   "cell_type": "code",
   "execution_count": 10,
   "id": "a36a2277-0071-4aeb-964a-214da18a4307",
   "metadata": {
    "tags": []
   },
   "outputs": [
    {
     "data": {
      "text/latex": [
       "$\\displaystyle Q =y \\left(4 x + 3 y + 4\\right)$"
      ],
      "text/plain": [
       "<IPython.core.display.Math object>"
      ]
     },
     "metadata": {},
     "output_type": "display_data"
    }
   ],
   "source": [
    "Q.Div(x)"
   ]
  },
  {
   "cell_type": "code",
   "execution_count": 11,
   "id": "b46150d8-8de3-4627-b423-d4935d31e938",
   "metadata": {
    "tags": []
   },
   "outputs": [
    {
     "data": {
      "text/latex": [
       "$\\displaystyle Q =y^{2} \\left(4 x + 3 y + 4\\right)^{2}$"
      ],
      "text/plain": [
       "<IPython.core.display.Math object>"
      ]
     },
     "metadata": {},
     "output_type": "display_data"
    }
   ],
   "source": [
    "Q.Pow(2)"
   ]
  },
  {
   "cell_type": "code",
   "execution_count": 12,
   "id": "62a5c5b3-c595-4794-ba12-c74093e24856",
   "metadata": {
    "tags": []
   },
   "outputs": [
    {
     "data": {
      "text/latex": [
       "$\\displaystyle Q =\\sqrt{y^{2} \\left(4 x + 3 y + 4\\right)^{2}}$"
      ],
      "text/plain": [
       "<IPython.core.display.Math object>"
      ]
     },
     "metadata": {},
     "output_type": "display_data"
    }
   ],
   "source": [
    "Q.Rpow(2)"
   ]
  },
  {
   "cell_type": "code",
   "execution_count": 13,
   "id": "b08955e8-7c89-43c7-9f02-88e8e9c8077f",
   "metadata": {
    "tags": []
   },
   "outputs": [
    {
     "data": {
      "text/latex": [
       "$\\displaystyle Q =y \\left(4 x + 3 y + 4\\right)$"
      ],
      "text/plain": [
       "<IPython.core.display.Math object>"
      ]
     },
     "metadata": {},
     "output_type": "display_data"
    }
   ],
   "source": [
    "Q.rsimplify()"
   ]
  },
  {
   "attachments": {
    "f604a6f6-5218-40f9-b526-696763e55607.png": {
     "image/png": "[encoded data removed]"
    }
   },
   "cell_type": "markdown",
   "id": "899f1e7a-b750-4f80-a442-0f9991ea6aab",
   "metadata": {},
   "source": [
    "![image.png](attachment:f604a6f6-5218-40f9-b526-696763e55607.png)"
   ]
  },
  {
   "cell_type": "code",
   "execution_count": 14,
   "id": "a12137e0-debf-481d-9d35-cfb8a220d0e6",
   "metadata": {
    "tags": []
   },
   "outputs": [],
   "source": [
    "from  Libaldomath  import *\n",
    "# this cell will be initializing your variables,get help run helplib"
   ]
  },
  {
   "attachments": {
    "5cdba332-20d4-417d-b947-9be92022f0fe.png": {
     "image/png": "[encoded data removed]"
    }
   },
   "cell_type": "markdown",
   "id": "af7e64a4-f0bf-49ca-94e0-766694ec82c0",
   "metadata": {},
   "source": [
    "![image.png](attachment:5cdba332-20d4-417d-b947-9be92022f0fe.png)"
   ]
  },
  {
   "attachments": {
    "38d56fa3-23ed-422b-a236-0786f0385b0a.png": {
     "image/png": "[encoded data removed]"
    }
   },
   "cell_type": "markdown",
   "id": "d3096c77-6067-47ea-aae7-fd8162d5159e",
   "metadata": {},
   "source": [
    "![image.png](attachment:38d56fa3-23ed-422b-a236-0786f0385b0a.png)"
   ]
  },
  {
   "attachments": {
    "8bd895b7-0cd2-4f0a-9639-485a2209d1b8.png": {
     "image/png": "[encoded data removed]"
    }
   },
   "cell_type": "markdown",
   "id": "db2b7539-767f-4a22-b86b-95bf32dcd431",
   "metadata": {},
   "source": [
    "![image.png](attachment:8bd895b7-0cd2-4f0a-9639-485a2209d1b8.png)"
   ]
  },
  {
   "cell_type": "code",
   "execution_count": 15,
   "id": "5a600271-2a44-43ce-b06d-b0559c5b384a",
   "metadata": {
    "tags": []
   },
   "outputs": [
    {
     "data": {
      "text/latex": [
       "$\\displaystyle A = 2 \\sqrt[4]{A}$"
      ],
      "text/plain": [
       "<IPython.core.display.Math object>"
      ]
     },
     "metadata": {},
     "output_type": "display_data"
    }
   ],
   "source": [
    "Q=MQ(A,rpow(2*rpow(4*A,2),2))"
   ]
  },
  {
   "cell_type": "code",
   "execution_count": 16,
   "id": "fa6b239b-3d55-4bde-9353-581026c89fb6",
   "metadata": {
    "tags": []
   },
   "outputs": [
    {
     "data": {
      "text/latex": [
       "$\\displaystyle A^{4} = 16 A$"
      ],
      "text/plain": [
       "<IPython.core.display.Math object>"
      ]
     },
     "metadata": {},
     "output_type": "display_data"
    }
   ],
   "source": [
    "Q.Pow(4)"
   ]
  },
  {
   "cell_type": "code",
   "execution_count": 17,
   "id": "21bd03db-1849-4bcc-90aa-f80a651e1f46",
   "metadata": {
    "tags": []
   },
   "outputs": [
    {
     "data": {
      "text/latex": [
       "$\\displaystyle A^{3} = 16$"
      ],
      "text/plain": [
       "<IPython.core.display.Math object>"
      ]
     },
     "metadata": {},
     "output_type": "display_data"
    }
   ],
   "source": [
    "Q.Div(A)"
   ]
  },
  {
   "cell_type": "code",
   "execution_count": 18,
   "id": "f8d10e32-574a-4068-9fe6-7b92bc71eccb",
   "metadata": {
    "tags": []
   },
   "outputs": [
    {
     "data": {
      "text/latex": [
       "$\\displaystyle A^{3} = 2^{4}$"
      ],
      "text/plain": [
       "<IPython.core.display.Math object>"
      ]
     },
     "metadata": {},
     "output_type": "display_data"
    }
   ],
   "source": [
    "Q.primefactor()"
   ]
  },
  {
   "cell_type": "code",
   "execution_count": 19,
   "id": "43f82ad5-1caf-47b6-9510-a17224e7441e",
   "metadata": {
    "tags": []
   },
   "outputs": [
    {
     "data": {
      "text/latex": [
       "$\\displaystyle \\sqrt[3]{A^{3}} = 2 \\cdot \\sqrt[3]{2}$"
      ],
      "text/plain": [
       "<IPython.core.display.Math object>"
      ]
     },
     "metadata": {},
     "output_type": "display_data"
    }
   ],
   "source": [
    "Q.Rpow(3)"
   ]
  },
  {
   "cell_type": "code",
   "execution_count": 20,
   "id": "43785b2e-7646-4c8d-ab7a-4219fc40ffb0",
   "metadata": {
    "tags": []
   },
   "outputs": [
    {
     "data": {
      "text/latex": [
       "$\\displaystyle A = 2 \\cdot \\sqrt[3]{2}$"
      ],
      "text/plain": [
       "<IPython.core.display.Math object>"
      ]
     },
     "metadata": {},
     "output_type": "display_data"
    }
   ],
   "source": [
    "Q.mulexpo()"
   ]
  },
  {
   "cell_type": "code",
   "execution_count": 21,
   "id": "ee6b2716-5523-4a6e-9add-47d28dbd4d91",
   "metadata": {},
   "outputs": [
    {
     "data": {
      "text/latex": [
       "$\\displaystyle A = 2 \\cdot \\sqrt[3]{2}$"
      ],
      "text/plain": [
       "<IPython.core.display.Math object>"
      ]
     },
     "metadata": {},
     "output_type": "display_data"
    }
   ],
   "source": [
    "Q.simplify()"
   ]
  },
  {
   "attachments": {
    "f604a6f6-5218-40f9-b526-696763e55607.png": {
     "image/png": "[encoded data removed]"
    }
   },
   "cell_type": "markdown",
   "id": "3be5efc1-7652-45e4-9477-d5c9dfcee76c",
   "metadata": {},
   "source": [
    "![image.png](attachment:f604a6f6-5218-40f9-b526-696763e55607.png)"
   ]
  },
  {
   "cell_type": "code",
   "execution_count": 22,
   "id": "21e3ab7c-58ca-4c10-bf5a-3b5e05922ad1",
   "metadata": {
    "tags": []
   },
   "outputs": [],
   "source": [
    "from  Libaldomath  import *\n",
    "# this cell will be initializing your variables,get help run helplib"
   ]
  },
  {
   "attachments": {
    "5cdba332-20d4-417d-b947-9be92022f0fe.png": {
     "image/png": "[encoded data removed]"
    }
   },
   "cell_type": "markdown",
   "id": "4d5fe3a3-151c-464e-8946-c4dadd4a89dd",
   "metadata": {},
   "source": [
    "![image.png](attachment:5cdba332-20d4-417d-b947-9be92022f0fe.png)"
   ]
  },
  {
   "attachments": {
    "9c45fd55-f23b-4b05-ba86-8da17250dff7.png": {
     "image/png": "[encoded data removed]"
    }
   },
   "cell_type": "markdown",
   "id": "94a3eb4e-f102-4746-92dd-32d7ebcca9ee",
   "metadata": {},
   "source": [
    "![image.png](attachment:9c45fd55-f23b-4b05-ba86-8da17250dff7.png)"
   ]
  },
  {
   "attachments": {
    "8bd895b7-0cd2-4f0a-9639-485a2209d1b8.png": {
     "image/png": "[encoded data removed]"
    }
   },
   "cell_type": "markdown",
   "id": "12acaf16-0c64-4c93-98b5-5fcab260448d",
   "metadata": {},
   "source": [
    "![image.png](attachment:8bd895b7-0cd2-4f0a-9639-485a2209d1b8.png)"
   ]
  },
  {
   "cell_type": "code",
   "execution_count": 23,
   "id": "06060309-a0fa-435e-a703-b43df67ac4e2",
   "metadata": {
    "tags": []
   },
   "outputs": [],
   "source": [
    "def fx(a,b,c):\n",
    "    m1=kpow(b,c)\n",
    "    return kpow(a,m1)"
   ]
  },
  {
   "cell_type": "code",
   "execution_count": 24,
   "id": "2b5eebe3-4fae-4460-ba72-912ff9798ee9",
   "metadata": {
    "tags": []
   },
   "outputs": [
    {
     "data": {
      "text/latex": [
       "$\\displaystyle e1 =a^{b^{1 - a}} + b^{a^{1 - b}}$"
      ],
      "text/plain": [
       "<IPython.core.display.Math object>"
      ]
     },
     "metadata": {},
     "output_type": "display_data"
    },
    {
     "data": {
      "text/latex": [
       "$\\displaystyle e2 =a^{b^{a + 1}} + b^{a^{b + 1}}$"
      ],
      "text/plain": [
       "<IPython.core.display.Math object>"
      ]
     },
     "metadata": {},
     "output_type": "display_data"
    },
    {
     "data": {
      "text/latex": [
       "$\\displaystyle e3 =a^{b} b^{a} + 1$"
      ],
      "text/plain": [
       "<IPython.core.display.Math object>"
      ]
     },
     "metadata": {},
     "output_type": "display_data"
    }
   ],
   "source": [
    "e1=MyEq(fx(a,b,1-a)+fx(b,a,1-b),'e1')\n",
    "e2=MyEq(fx(a,b,1+a)+fx(b,a,1+b),'e2')\n",
    "e3=MyEq(1+kpow(a,b)*kpow(b,a),'e3') "
   ]
  },
  {
   "cell_type": "code",
   "execution_count": 25,
   "id": "c3c8b5de-8e39-41f1-bf3a-33f1a9fb73ef",
   "metadata": {
    "tags": []
   },
   "outputs": [
    {
     "data": {
      "text/latex": [
       "$\\displaystyle e4 =\\left(\\frac{a^{b^{1 - a}} + b^{a^{1 - b}}}{a^{b^{a + 1}} + b^{a^{b + 1}}}\\right)^{a^{b} b^{a} + 1}$"
      ],
      "text/plain": [
       "<IPython.core.display.Math object>"
      ]
     },
     "metadata": {},
     "output_type": "display_data"
    }
   ],
   "source": [
    "e4=MyEq(kpow((e1/e2),e3*1),'e4')"
   ]
  },
  {
   "cell_type": "code",
   "execution_count": 26,
   "id": "8b0cc2f7-2bf4-4319-a908-43d1e0029cc6",
   "metadata": {
    "tags": []
   },
   "outputs": [
    {
     "data": {
      "text/latex": [
       "$\\displaystyle e4 =\\left(\\frac{a^{b^{1 - a}}}{a^{b^{a + 1}} + b^{a^{b + 1}}} + \\frac{b^{a^{1 - b}}}{a^{b^{a + 1}} + b^{a^{b + 1}}}\\right)^{a^{b} b^{a} + 1}$"
      ],
      "text/plain": [
       "<IPython.core.display.Math object>"
      ]
     },
     "metadata": {},
     "output_type": "display_data"
    }
   ],
   "source": [
    "e4.expand()"
   ]
  },
  {
   "cell_type": "code",
   "execution_count": 27,
   "id": "6f9510ad-1046-4507-ac73-9a76003491e6",
   "metadata": {
    "tags": []
   },
   "outputs": [
    {
     "data": {
      "text/latex": [
       "$\\displaystyle e4 =\\left(\\frac{a^{b^{1 - a}}}{a^{b^{a + 1}} + b^{2 a}} + \\frac{b^{\\frac{a}{2}}}{a^{b^{a + 1}} + b^{2 a}}\\right)^{2 b^{a} + 1}$"
      ],
      "text/plain": [
       "<IPython.core.display.Math object>"
      ]
     },
     "metadata": {},
     "output_type": "display_data"
    }
   ],
   "source": [
    "e4.subs(a**b,2)"
   ]
  },
  {
   "cell_type": "code",
   "execution_count": 28,
   "id": "9dd2d84c-301d-4e9a-9bb2-986bab5f5c3c",
   "metadata": {
    "tags": []
   },
   "outputs": [
    {
     "data": {
      "text/latex": [
       "$\\displaystyle e4 =\\left(\\frac{a^{2 b}}{a^{\\frac{b}{2}} + \\frac{1}{4}} + \\frac{b^{\\frac{a}{2}}}{a^{\\frac{b}{2}} + \\frac{1}{4}}\\right)^{2}$"
      ],
      "text/plain": [
       "<IPython.core.display.Math object>"
      ]
     },
     "metadata": {},
     "output_type": "display_data"
    }
   ],
   "source": [
    "e4.subs(b**-a,2)"
   ]
  },
  {
   "cell_type": "code",
   "execution_count": 29,
   "id": "ce0e755f-0121-4774-9f15-92a3d92c8243",
   "metadata": {
    "tags": []
   },
   "outputs": [
    {
     "data": {
      "text/latex": [
       "$\\displaystyle e4 =\\left(\\frac{b^{\\frac{a}{2}}}{a^{\\frac{b}{2}} + \\frac{1}{4}} + \\frac{4}{a^{\\frac{b}{2}} + \\frac{1}{4}}\\right)^{2}$"
      ],
      "text/plain": [
       "<IPython.core.display.Math object>"
      ]
     },
     "metadata": {},
     "output_type": "display_data"
    }
   ],
   "source": [
    "e4.subs(a**(2*b),4)"
   ]
  },
  {
   "cell_type": "code",
   "execution_count": 30,
   "id": "7f5d9188-1b36-4477-86e7-0dba11472786",
   "metadata": {
    "tags": []
   },
   "outputs": [
    {
     "data": {
      "text/latex": [
       "$\\displaystyle e4 =\\left(\\frac{b^{\\frac{a}{2}}}{\\frac{1}{4} + \\sqrt{2}} + \\frac{4}{\\frac{1}{4} + \\sqrt{2}}\\right)^{2}$"
      ],
      "text/plain": [
       "<IPython.core.display.Math object>"
      ]
     },
     "metadata": {},
     "output_type": "display_data"
    }
   ],
   "source": [
    "e4.subs(a**(b/2),sqrt(2))"
   ]
  },
  {
   "cell_type": "code",
   "execution_count": 31,
   "id": "f6f4f494-5214-4672-8008-2b5c4857a08d",
   "metadata": {
    "tags": []
   },
   "outputs": [
    {
     "data": {
      "text/latex": [
       "$\\displaystyle e4 =\\left(\\frac{\\sqrt{2}}{2 \\cdot \\left(\\frac{1}{4} + \\sqrt{2}\\right)} + \\frac{4}{\\frac{1}{4} + \\sqrt{2}}\\right)^{2}$"
      ],
      "text/plain": [
       "<IPython.core.display.Math object>"
      ]
     },
     "metadata": {},
     "output_type": "display_data"
    }
   ],
   "source": [
    "e4.subs(b**(a/2),cfrac(2)**cfrac(2))"
   ]
  },
  {
   "cell_type": "code",
   "execution_count": 32,
   "id": "7f6f5a30-407d-416c-9b65-b8f338ed4580",
   "metadata": {
    "tags": []
   },
   "outputs": [
    {
     "data": {
      "text/latex": [
       "$\\displaystyle e4 =8$"
      ],
      "text/plain": [
       "<IPython.core.display.Math object>"
      ]
     },
     "metadata": {},
     "output_type": "display_data"
    }
   ],
   "source": [
    "e4.simplify()"
   ]
  },
  {
   "attachments": {
    "f604a6f6-5218-40f9-b526-696763e55607.png": {
     "image/png": "[encoded data removed]"
    }
   },
   "cell_type": "markdown",
   "id": "5a685017-acb8-4f06-98b4-9b541faaebc9",
   "metadata": {},
   "source": [
    "![image.png](attachment:f604a6f6-5218-40f9-b526-696763e55607.png)"
   ]
  },
  {
   "cell_type": "code",
   "execution_count": 33,
   "id": "1666be24-1e72-4900-b89b-f512c52e2f77",
   "metadata": {
    "tags": []
   },
   "outputs": [],
   "source": [
    "from  Libaldomath  import *\n",
    "# this cell will be initializing your variables,get help run helplib"
   ]
  },
  {
   "attachments": {
    "5cdba332-20d4-417d-b947-9be92022f0fe.png": {
     "image/png": "[encoded data removed]"
    }
   },
   "cell_type": "markdown",
   "id": "90345386-1f55-4df2-b8b8-2da9db50f2a1",
   "metadata": {},
   "source": [
    "![image.png](attachment:5cdba332-20d4-417d-b947-9be92022f0fe.png)"
   ]
  },
  {
   "attachments": {
    "8a761dd8-b5c1-4ca5-9445-75cfbb95471f.png": {
     "image/png": "[encoded data removed]"
    }
   },
   "cell_type": "markdown",
   "id": "bd14fb2c-a992-47d8-b5b8-f3603e8c31bf",
   "metadata": {},
   "source": [
    "![image.png](attachment:8a761dd8-b5c1-4ca5-9445-75cfbb95471f.png)"
   ]
  },
  {
   "attachments": {
    "8bd895b7-0cd2-4f0a-9639-485a2209d1b8.png": {
     "image/png": "[encoded data removed]"
    }
   },
   "cell_type": "markdown",
   "id": "2bd53e3e-19c7-42f1-b245-2fa707e6599e",
   "metadata": {},
   "source": [
    "![image.png](attachment:8bd895b7-0cd2-4f0a-9639-485a2209d1b8.png)"
   ]
  },
  {
   "cell_type": "code",
   "execution_count": 34,
   "id": "80c4a5dc-df9c-4c36-a783-20ae8b8b4818",
   "metadata": {
    "tags": []
   },
   "outputs": [
    {
     "data": {
      "text/latex": [
       "$\\displaystyle P =x^{x^{2 x^{x + 1} + 1}}$"
      ],
      "text/plain": [
       "<IPython.core.display.Math object>"
      ]
     },
     "metadata": {},
     "output_type": "display_data"
    }
   ],
   "source": [
    "P=MyEq(x**(x**(1+2*x**(1+x))),'P')"
   ]
  },
  {
   "cell_type": "code",
   "execution_count": 35,
   "id": "c0123358-5e87-4d12-ad20-e5ecf99b75c7",
   "metadata": {
    "tags": []
   },
   "outputs": [
    {
     "data": {
      "text/latex": [
       "$\\displaystyle P =x^{16 x}$"
      ],
      "text/plain": [
       "<IPython.core.display.Math object>"
      ]
     },
     "metadata": {},
     "output_type": "display_data"
    }
   ],
   "source": [
    "P.subs(x**x,2)"
   ]
  },
  {
   "cell_type": "code",
   "execution_count": 36,
   "id": "a24dc422-5ea5-4eb6-88fa-3aa5e3bbd2ab",
   "metadata": {
    "tags": []
   },
   "outputs": [
    {
     "data": {
      "text/latex": [
       "$\\displaystyle P =x^{a x}$"
      ],
      "text/plain": [
       "<IPython.core.display.Math object>"
      ]
     },
     "metadata": {},
     "output_type": "display_data"
    }
   ],
   "source": [
    "# we will set a=16\n",
    "P.subs(16*x,a*x)"
   ]
  },
  {
   "cell_type": "code",
   "execution_count": 37,
   "id": "25eef93b-58bc-4908-a690-64c1801181c1",
   "metadata": {
    "tags": []
   },
   "outputs": [
    {
     "data": {
      "text/latex": [
       "$\\displaystyle P =\\left(x^{x}\\right)^{a}$"
      ],
      "text/plain": [
       "<IPython.core.display.Math object>"
      ]
     },
     "metadata": {},
     "output_type": "display_data"
    }
   ],
   "source": [
    "P.powexpand(x)"
   ]
  },
  {
   "cell_type": "code",
   "execution_count": 38,
   "id": "aeb7aa79-dfa3-4a20-bc2e-ca06853de5e0",
   "metadata": {
    "tags": []
   },
   "outputs": [
    {
     "data": {
      "text/latex": [
       "$\\displaystyle P =2^{a}$"
      ],
      "text/plain": [
       "<IPython.core.display.Math object>"
      ]
     },
     "metadata": {},
     "output_type": "display_data"
    }
   ],
   "source": [
    "P.subs(x**x,2)"
   ]
  },
  {
   "cell_type": "code",
   "execution_count": 39,
   "id": "64e777ff-7467-47c4-b648-43e1f1e69516",
   "metadata": {
    "tags": []
   },
   "outputs": [
    {
     "data": {
      "text/latex": [
       "$\\displaystyle P =65536$"
      ],
      "text/plain": [
       "<IPython.core.display.Math object>"
      ]
     },
     "metadata": {},
     "output_type": "display_data"
    }
   ],
   "source": [
    "P.subs(a,16)"
   ]
  },
  {
   "cell_type": "code",
   "execution_count": 40,
   "id": "ef1a6ccd-64be-47e6-8e7b-a2c93bb54bb4",
   "metadata": {
    "tags": []
   },
   "outputs": [
    {
     "data": {
      "text/latex": [
       "$\\displaystyle P =2^{16}$"
      ],
      "text/plain": [
       "<IPython.core.display.Math object>"
      ]
     },
     "metadata": {},
     "output_type": "display_data"
    }
   ],
   "source": [
    "P.primefactor()"
   ]
  },
  {
   "attachments": {
    "f604a6f6-5218-40f9-b526-696763e55607.png": {
     "image/png": "[encoded data removed]"
    }
   },
   "cell_type": "markdown",
   "id": "cc779c11-0766-4ea9-9697-e5ba65a0b4db",
   "metadata": {},
   "source": [
    "![image.png](attachment:f604a6f6-5218-40f9-b526-696763e55607.png)"
   ]
  },
  {
   "cell_type": "code",
   "execution_count": 41,
   "id": "c059d38d-6430-4596-97dd-9344b94c7cbb",
   "metadata": {
    "tags": []
   },
   "outputs": [],
   "source": [
    "from  Libaldomath  import *\n",
    "# this cell will be initializing your variables,get help run helplib"
   ]
  },
  {
   "attachments": {
    "5cdba332-20d4-417d-b947-9be92022f0fe.png": {
     "image/png": "[encoded data removed]"
    }
   },
   "cell_type": "markdown",
   "id": "df0295ab-a8f0-4de6-b7ab-787d7367ccc6",
   "metadata": {},
   "source": [
    "![image.png](attachment:5cdba332-20d4-417d-b947-9be92022f0fe.png)"
   ]
  },
  {
   "attachments": {
    "1494b4f6-8275-4f7c-915a-ea865f4e0e41.png": {
     "image/png": "[encoded data removed]"
    }
   },
   "cell_type": "markdown",
   "id": "516dced8-6fa9-4b99-a200-4b08298373c0",
   "metadata": {},
   "source": [
    "![image.png](attachment:1494b4f6-8275-4f7c-915a-ea865f4e0e41.png)"
   ]
  },
  {
   "attachments": {
    "8bd895b7-0cd2-4f0a-9639-485a2209d1b8.png": {
     "image/png": "[encoded data removed]"
    }
   },
   "cell_type": "markdown",
   "id": "756a6a6c-e5e3-4b0d-b3f0-7c8c5f84453c",
   "metadata": {},
   "source": [
    "![image.png](attachment:8bd895b7-0cd2-4f0a-9639-485a2209d1b8.png)"
   ]
  },
  {
   "attachments": {
    "2c53e251-0f4b-4dae-ab86-1c991b37ce47.png": {
     "image/png": "[encoded data removed]"
    }
   },
   "cell_type": "markdown",
   "id": "0a8e0b69-e8e4-4114-8dfb-f10baf1ccc62",
   "metadata": {},
   "source": [
    "![image.png](attachment:2c53e251-0f4b-4dae-ab86-1c991b37ce47.png)"
   ]
  },
  {
   "cell_type": "code",
   "execution_count": 42,
   "id": "7ba1d73e-fc6a-45ab-b384-041955d9362e",
   "metadata": {
    "tags": []
   },
   "outputs": [
    {
     "data": {
      "text/latex": [
       "$\\displaystyle e1 =x^{x + 1}$"
      ],
      "text/plain": [
       "<IPython.core.display.Math object>"
      ]
     },
     "metadata": {},
     "output_type": "display_data"
    }
   ],
   "source": [
    "e1=MyEq(kpow(x,1+x),'e1')"
   ]
  },
  {
   "cell_type": "code",
   "execution_count": 43,
   "id": "b5804aaf-4cdf-45a9-a919-ed16d380766e",
   "metadata": {
    "tags": []
   },
   "outputs": [
    {
     "data": {
      "text/latex": [
       "$\\displaystyle e1 =x^{x + 1}$"
      ],
      "text/plain": [
       "<IPython.core.display.Math object>"
      ]
     },
     "metadata": {},
     "output_type": "display_data"
    }
   ],
   "source": [
    "e1.set(kpow(x,x),2)"
   ]
  },
  {
   "attachments": {
    "b842f6e5-13e6-434e-beb8-bf050c6f37f0.png": {
     "image/png": "[encoded data removed]"
    }
   },
   "cell_type": "markdown",
   "id": "88ead5c7-2db6-4e99-b96e-9c0c962e6c4b",
   "metadata": {},
   "source": [
    "![image.png](attachment:b842f6e5-13e6-434e-beb8-bf050c6f37f0.png)"
   ]
  },
  {
   "cell_type": "code",
   "execution_count": 44,
   "id": "5486e8c2-16e8-45f5-90cf-423c5f96da78",
   "metadata": {
    "tags": []
   },
   "outputs": [
    {
     "data": {
      "text/latex": [
       "$\\displaystyle e2 =x^{2 x^{x + 1} + 1}$"
      ],
      "text/plain": [
       "<IPython.core.display.Math object>"
      ]
     },
     "metadata": {},
     "output_type": "display_data"
    }
   ],
   "source": [
    "e2=MyEq(kpow(x,1+2*e1),'e2')"
   ]
  },
  {
   "cell_type": "code",
   "execution_count": 45,
   "id": "e64d4531-40c8-4d46-8638-a3c527d55b4a",
   "metadata": {
    "tags": []
   },
   "outputs": [
    {
     "data": {
      "text/latex": [
       "$\\displaystyle e2 =x^{2 x^{x + 1} + 1}$"
      ],
      "text/plain": [
       "<IPython.core.display.Math object>"
      ]
     },
     "metadata": {},
     "output_type": "display_data"
    }
   ],
   "source": [
    "e2.set(kpow(x,x),2)"
   ]
  },
  {
   "attachments": {
    "a58b5768-a48f-4dc9-8fc8-bfc2b872b8cd.png": {
     "image/png": "[encoded data removed]"
    }
   },
   "cell_type": "markdown",
   "id": "8cdc0759-2f6c-4125-bdbc-13dbf7152b36",
   "metadata": {},
   "source": [
    "![image.png](attachment:a58b5768-a48f-4dc9-8fc8-bfc2b872b8cd.png)"
   ]
  },
  {
   "cell_type": "code",
   "execution_count": 46,
   "id": "ca3b5292-9980-4f92-b63a-a9c6a46c252a",
   "metadata": {
    "tags": []
   },
   "outputs": [
    {
     "data": {
      "text/latex": [
       "$\\displaystyle e3 =x^{x^{2 x^{x + 1} + 1}}$"
      ],
      "text/plain": [
       "<IPython.core.display.Math object>"
      ]
     },
     "metadata": {},
     "output_type": "display_data"
    }
   ],
   "source": [
    "e3=MyEq(kpow(x,e2*1),'e3')"
   ]
  },
  {
   "cell_type": "code",
   "execution_count": 47,
   "id": "ecd64cb0-792e-4d7a-9857-10824f5c277b",
   "metadata": {
    "tags": []
   },
   "outputs": [
    {
     "data": {
      "text/latex": [
       "$\\displaystyle e3 =65536$"
      ],
      "text/plain": [
       "<IPython.core.display.Math object>"
      ]
     },
     "metadata": {},
     "output_type": "display_data"
    }
   ],
   "source": [
    "e3.ksym=kpow(2,16)\n",
    "e3.s()"
   ]
  },
  {
   "attachments": {
    "f604a6f6-5218-40f9-b526-696763e55607.png": {
     "image/png": "[encoded data removed]"
    }
   },
   "cell_type": "markdown",
   "id": "40b81955-3086-446c-81bf-b999761dd2ad",
   "metadata": {},
   "source": [
    "![image.png](attachment:f604a6f6-5218-40f9-b526-696763e55607.png)"
   ]
  },
  {
   "cell_type": "code",
   "execution_count": 48,
   "id": "f4e01b39-4bd3-461c-aa8e-0ac36e7758a5",
   "metadata": {
    "tags": []
   },
   "outputs": [],
   "source": [
    "from  Libaldomath  import *\n",
    "# this cell will be initializing your variables,get help run helplib"
   ]
  },
  {
   "attachments": {
    "5cdba332-20d4-417d-b947-9be92022f0fe.png": {
     "image/png": "[encoded data removed]"
    }
   },
   "cell_type": "markdown",
   "id": "9fe2f7f1-c738-4017-bd6f-795a9d2aa8e2",
   "metadata": {},
   "source": [
    "![image.png](attachment:5cdba332-20d4-417d-b947-9be92022f0fe.png)"
   ]
  },
  {
   "attachments": {
    "fc99cb5e-1a01-4fbe-a0ea-3ed4e59b647e.png": {
     "image/png": "[encoded data removed]"
    }
   },
   "cell_type": "markdown",
   "id": "cce54d86-e481-4463-8aa0-71e1143f2934",
   "metadata": {},
   "source": [
    "![image.png](attachment:fc99cb5e-1a01-4fbe-a0ea-3ed4e59b647e.png)"
   ]
  },
  {
   "attachments": {
    "8bd895b7-0cd2-4f0a-9639-485a2209d1b8.png": {
     "image/png": "[encoded data removed]"
    }
   },
   "cell_type": "markdown",
   "id": "ffb12574-0977-4962-80ab-1290c3c1aad8",
   "metadata": {},
   "source": [
    "![image.png](attachment:8bd895b7-0cd2-4f0a-9639-485a2209d1b8.png)"
   ]
  },
  {
   "cell_type": "code",
   "execution_count": 49,
   "id": "3f1c1882-acb6-42b0-8b08-0c28ce11ffcc",
   "metadata": {
    "tags": []
   },
   "outputs": [],
   "source": [
    "def testx(x):\n",
    "    return (5**x+4**x)"
   ]
  },
  {
   "cell_type": "code",
   "execution_count": 50,
   "id": "a395f7ee-1780-410e-a7c9-d1936917cc79",
   "metadata": {
    "tags": []
   },
   "outputs": [
    {
     "data": {
      "image/png": "[encoded data removed]",
      "text/latex": [
       "$\\displaystyle 41$"
      ],
      "text/plain": [
       "41"
      ]
     },
     "execution_count": 50,
     "metadata": {},
     "output_type": "execute_result"
    }
   ],
   "source": [
    "testx(2)"
   ]
  },
  {
   "cell_type": "code",
   "execution_count": 51,
   "id": "d365a46d-489b-48d5-bedf-aeac0b6f8833",
   "metadata": {
    "tags": []
   },
   "outputs": [
    {
     "data": {
      "text/latex": [
       "$\\displaystyle x^{x} = 2$"
      ],
      "text/plain": [
       "<IPython.core.display.Math object>"
      ]
     },
     "metadata": {},
     "output_type": "display_data"
    }
   ],
   "source": [
    "P=MQ(x**x,2)"
   ]
  },
  {
   "cell_type": "code",
   "execution_count": 52,
   "id": "d13dca5a-cb25-44db-b9d7-f451467dae27",
   "metadata": {
    "tags": []
   },
   "outputs": [
    {
     "data": {
      "text/latex": [
       "$\\displaystyle P1 =x^{x - 1}$"
      ],
      "text/plain": [
       "<IPython.core.display.Math object>"
      ]
     },
     "metadata": {},
     "output_type": "display_data"
    }
   ],
   "source": [
    "P1=MyEq(x**(x-1),'P1')"
   ]
  },
  {
   "cell_type": "code",
   "execution_count": 53,
   "id": "1adf5419-c95a-4010-b597-8bbec9f77389",
   "metadata": {
    "tags": []
   },
   "outputs": [
    {
     "data": {
      "text/latex": [
       "$\\displaystyle P1 =\\frac{x^{x}}{x}$"
      ],
      "text/plain": [
       "<IPython.core.display.Math object>"
      ]
     },
     "metadata": {},
     "output_type": "display_data"
    }
   ],
   "source": [
    "P1.disjoinbase()"
   ]
  },
  {
   "cell_type": "code",
   "execution_count": 54,
   "id": "5449eddd-3070-41be-b30b-bb8a6c742a11",
   "metadata": {
    "tags": []
   },
   "outputs": [
    {
     "data": {
      "text/latex": [
       "$\\displaystyle P1 =\\frac{x^{x}}{x}$"
      ],
      "text/plain": [
       "<IPython.core.display.Math object>"
      ]
     },
     "metadata": {},
     "output_type": "display_data"
    }
   ],
   "source": [
    "P1.set(x**x,2)"
   ]
  },
  {
   "cell_type": "code",
   "execution_count": 55,
   "id": "47c16b25-128d-4eae-8663-8178b7942fbc",
   "metadata": {
    "tags": []
   },
   "outputs": [
    {
     "data": {
      "text/latex": [
       "$\\displaystyle P2 =\\left(x^{\\frac{5}{k}} + x^{\\frac{1}{k}}\\right)^{2}$"
      ],
      "text/plain": [
       "<IPython.core.display.Math object>"
      ]
     },
     "metadata": {},
     "output_type": "display_data"
    }
   ],
   "source": [
    "P2=MyEq((x**cfrac(5,k)+x**cfrac(1,k))**2,'P2')"
   ]
  },
  {
   "cell_type": "code",
   "execution_count": 56,
   "id": "c4c3cae8-d521-4ed4-8b47-890a5679d3be",
   "metadata": {
    "tags": []
   },
   "outputs": [
    {
     "data": {
      "text/latex": [
       "$\\displaystyle P2 =x^{\\frac{10}{k}} + 2 x^{\\frac{6}{k}} + x^{\\frac{2}{k}}$"
      ],
      "text/plain": [
       "<IPython.core.display.Math object>"
      ]
     },
     "metadata": {},
     "output_type": "display_data"
    }
   ],
   "source": [
    "P2.expand()"
   ]
  },
  {
   "cell_type": "code",
   "execution_count": 57,
   "id": "032f208e-19ec-407b-ac3c-91e9fb54fa0c",
   "metadata": {
    "tags": []
   },
   "outputs": [
    {
     "data": {
      "text/latex": [
       "$\\displaystyle P2 =x^{\\frac{10}{k}} + 2 x^{\\frac{6}{k}} + x^{\\frac{2}{k}}$"
      ],
      "text/plain": [
       "<IPython.core.display.Math object>"
      ]
     },
     "metadata": {},
     "output_type": "display_data"
    }
   ],
   "source": [
    "P2.simplify()"
   ]
  },
  {
   "cell_type": "code",
   "execution_count": 58,
   "id": "68b64038-cc7d-4a8d-8ea6-cf2f793da390",
   "metadata": {
    "tags": []
   },
   "outputs": [
    {
     "data": {
      "text/latex": [
       "$\\displaystyle P2 =x^{\\frac{10}{k}} + 2 x^{\\frac{6}{k}} + x^{\\frac{2}{k}}$"
      ],
      "text/plain": [
       "<IPython.core.display.Math object>"
      ]
     },
     "metadata": {},
     "output_type": "display_data"
    }
   ],
   "source": [
    "P2.set(k,P1)"
   ]
  },
  {
   "cell_type": "code",
   "execution_count": 59,
   "id": "73472d31-0560-404c-900b-cb81e535e837",
   "metadata": {
    "tags": []
   },
   "outputs": [
    {
     "data": {
      "text/latex": [
       "$\\displaystyle P2 =x^{10} x^{\\frac{1}{k}} + 2 x^{6} x^{\\frac{1}{k}} + x^{2} x^{\\frac{1}{k}}$"
      ],
      "text/plain": [
       "<IPython.core.display.Math object>"
      ]
     },
     "metadata": {},
     "output_type": "display_data"
    }
   ],
   "source": [
    "P2.disjoinbase()"
   ]
  },
  {
   "cell_type": "code",
   "execution_count": 60,
   "id": "91b9b006-c6e0-4f71-885a-854bcb07306e",
   "metadata": {
    "tags": []
   },
   "outputs": [
    {
     "data": {
      "text/latex": [
       "$\\displaystyle P2 =x^{10} x^{\\frac{1}{k}} + 2 x^{6} x^{\\frac{1}{k}} + x^{2} x^{\\frac{1}{k}}$"
      ],
      "text/plain": [
       "<IPython.core.display.Math object>"
      ]
     },
     "metadata": {},
     "output_type": "display_data"
    }
   ],
   "source": [
    "P2.set(x**x,2)"
   ]
  },
  {
   "attachments": {
    "f604a6f6-5218-40f9-b526-696763e55607.png": {
     "image/png": "[encoded data removed]"
    }
   },
   "cell_type": "markdown",
   "id": "d2e37cb5-9faf-45ff-852a-bbcd4a49b003",
   "metadata": {},
   "source": [
    "![image.png](attachment:f604a6f6-5218-40f9-b526-696763e55607.png)"
   ]
  },
  {
   "cell_type": "code",
   "execution_count": 61,
   "id": "fd8e7fe6-2501-4182-a1ed-cbbdc5d4009d",
   "metadata": {
    "tags": []
   },
   "outputs": [],
   "source": [
    "from  Libaldomath  import *\n",
    "# this cell will be initializing your variables,get help run helplib"
   ]
  },
  {
   "attachments": {
    "5cdba332-20d4-417d-b947-9be92022f0fe.png": {
     "image/png": "[encoded data removed]"
    }
   },
   "cell_type": "markdown",
   "id": "a56abb9c-e55c-43cd-9d3d-39a292c16989",
   "metadata": {},
   "source": [
    "![image.png](attachment:5cdba332-20d4-417d-b947-9be92022f0fe.png)"
   ]
  },
  {
   "attachments": {
    "c94224e5-7bb0-4d18-a02c-f0de5cfe1640.png": {
     "image/png": "[encoded data removed]"
    }
   },
   "cell_type": "markdown",
   "id": "8f87acc9-08b3-4ae9-9b25-75cb400dd2f7",
   "metadata": {},
   "source": [
    "![image.png](attachment:c94224e5-7bb0-4d18-a02c-f0de5cfe1640.png)"
   ]
  },
  {
   "attachments": {
    "8bd895b7-0cd2-4f0a-9639-485a2209d1b8.png": {
     "image/png": "[encoded data removed]"
    }
   },
   "cell_type": "markdown",
   "id": "7c4c4ae4-938c-4147-9e99-97c55b5af6e0",
   "metadata": {},
   "source": [
    "![image.png](attachment:8bd895b7-0cd2-4f0a-9639-485a2209d1b8.png)"
   ]
  },
  {
   "cell_type": "code",
   "execution_count": 62,
   "id": "4a71514f-e2af-40d1-89a6-2415e1d6cbfd",
   "metadata": {
    "tags": []
   },
   "outputs": [
    {
     "data": {
      "text/latex": [
       "$\\displaystyle x^{\\frac{1}{m + 3}} = \\left(2^{m + 2}\\right)^{m + 5}$"
      ],
      "text/plain": [
       "<IPython.core.display.Math object>"
      ]
     },
     "metadata": {},
     "output_type": "display_data"
    }
   ],
   "source": [
    "X=MQ(sqrs(x,(m+3)),ppow(ppow(2,m+2),(m+5)))"
   ]
  },
  {
   "cell_type": "code",
   "execution_count": 63,
   "id": "6edfd4ac-17c3-44ad-847e-8e62e3caaac9",
   "metadata": {
    "tags": []
   },
   "outputs": [
    {
     "data": {
      "text/latex": [
       "$\\displaystyle \\left(x^{\\frac{1}{m + 3}}\\right)^{m + 3} = \\left(\\left(2^{m + 2}\\right)^{m + 5}\\right)^{m + 3}$"
      ],
      "text/plain": [
       "<IPython.core.display.Math object>"
      ]
     },
     "metadata": {},
     "output_type": "display_data"
    }
   ],
   "source": [
    "X.Pow(m+3)"
   ]
  },
  {
   "cell_type": "code",
   "execution_count": 64,
   "id": "ab875c72-76ec-482a-b6e2-3a2924b75331",
   "metadata": {
    "tags": []
   },
   "outputs": [
    {
     "data": {
      "text/latex": [
       "$\\displaystyle x = \\left(2^{m + 2}\\right)^{\\left(m + 3\\right) \\left(m + 5\\right)}$"
      ],
      "text/plain": [
       "<IPython.core.display.Math object>"
      ]
     },
     "metadata": {},
     "output_type": "display_data"
    }
   ],
   "source": [
    "X.mulexpo()"
   ]
  },
  {
   "cell_type": "code",
   "execution_count": 65,
   "id": "3b0a3e6d-a635-4338-aad2-bfe9d52b84a3",
   "metadata": {
    "tags": []
   },
   "outputs": [
    {
     "data": {
      "text/latex": [
       "$\\displaystyle x = 2^{\\left(m + 2\\right) \\left(m + 3\\right) \\left(m + 5\\right)}$"
      ],
      "text/plain": [
       "<IPython.core.display.Math object>"
      ]
     },
     "metadata": {},
     "output_type": "display_data"
    }
   ],
   "source": [
    "X.mulexpo()"
   ]
  },
  {
   "cell_type": "code",
   "execution_count": 66,
   "id": "d516b25e-554d-48c4-8891-53c899440790",
   "metadata": {
    "tags": []
   },
   "outputs": [
    {
     "data": {
      "text/latex": [
       "$\\displaystyle x=2^{m \\left(m^{2} + 10 m + 31\\right) + 30}$"
      ],
      "text/plain": [
       "<IPython.core.display.Math object>"
      ]
     },
     "metadata": {},
     "output_type": "display_data"
    }
   ],
   "source": [
    "x=X.solve(x)"
   ]
  },
  {
   "cell_type": "code",
   "execution_count": 67,
   "id": "adc466a8-ef29-4963-8a5f-c21769b39177",
   "metadata": {
    "tags": []
   },
   "outputs": [
    {
     "data": {
      "text/latex": [
       "$\\displaystyle \\left(\\frac{1}{y}\\right)^{\\frac{1}{m + 7}} = 2^{m \\left(m + 3\\right)}$"
      ],
      "text/plain": [
       "<IPython.core.display.Math object>"
      ]
     },
     "metadata": {},
     "output_type": "display_data"
    }
   ],
   "source": [
    "Y=MQ(sqrs(frs(1,y),(m+7)),ppow(2,m*(m+3)))"
   ]
  },
  {
   "cell_type": "code",
   "execution_count": 68,
   "id": "a4fa247c-21c5-4e42-9727-74055354baed",
   "metadata": {
    "tags": []
   },
   "outputs": [
    {
     "data": {
      "text/latex": [
       "$\\displaystyle y^{- \\frac{1}{m + 7}} = 2^{m \\left(m + 3\\right)}$"
      ],
      "text/plain": [
       "<IPython.core.display.Math object>"
      ]
     },
     "metadata": {},
     "output_type": "display_data"
    }
   ],
   "source": [
    "Y.mulexpo()"
   ]
  },
  {
   "cell_type": "code",
   "execution_count": 69,
   "id": "3fc2a67e-b36d-432a-9a55-49eb6408deb9",
   "metadata": {
    "tags": []
   },
   "outputs": [
    {
     "data": {
      "text/latex": [
       "$\\displaystyle \\left(y^{- \\frac{1}{m + 7}}\\right)^{- m - 7} = \\left(2^{m \\left(m + 3\\right)}\\right)^{- m - 7}$"
      ],
      "text/plain": [
       "<IPython.core.display.Math object>"
      ]
     },
     "metadata": {},
     "output_type": "display_data"
    }
   ],
   "source": [
    "Y.Pow(-(m+7))"
   ]
  },
  {
   "cell_type": "code",
   "execution_count": 70,
   "id": "46d96132-41f1-4ba1-83d9-053bc6f39ee5",
   "metadata": {
    "tags": []
   },
   "outputs": [
    {
     "data": {
      "text/latex": [
       "$\\displaystyle y^{- \\frac{- m - 7}{m + 7}} = 2^{m \\left(- m - 7\\right) \\left(m + 3\\right)}$"
      ],
      "text/plain": [
       "<IPython.core.display.Math object>"
      ]
     },
     "metadata": {},
     "output_type": "display_data"
    }
   ],
   "source": [
    "Y.mulexpo()"
   ]
  },
  {
   "cell_type": "code",
   "execution_count": 71,
   "id": "7ed58010-5d92-49c4-9660-b47982603dc9",
   "metadata": {
    "tags": []
   },
   "outputs": [
    {
     "data": {
      "text/latex": [
       "$\\displaystyle y = 2^{m \\left(- m - 7\\right) \\left(m + 3\\right)}$"
      ],
      "text/plain": [
       "<IPython.core.display.Math object>"
      ]
     },
     "metadata": {},
     "output_type": "display_data"
    }
   ],
   "source": [
    "Y.mulexpo()"
   ]
  },
  {
   "cell_type": "code",
   "execution_count": 72,
   "id": "a69d866f-5f53-4303-b209-5a2f15fae650",
   "metadata": {
    "tags": []
   },
   "outputs": [
    {
     "data": {
      "text/latex": [
       "$\\displaystyle y = 2^{- m \\left(m + 3\\right) \\left(m + 7\\right)}$"
      ],
      "text/plain": [
       "<IPython.core.display.Math object>"
      ]
     },
     "metadata": {},
     "output_type": "display_data"
    }
   ],
   "source": [
    "Y.simplify()"
   ]
  },
  {
   "cell_type": "code",
   "execution_count": 73,
   "id": "43c6b8a4-40c0-425c-8332-418bbe41c1be",
   "metadata": {
    "tags": []
   },
   "outputs": [
    {
     "data": {
      "text/latex": [
       "$\\displaystyle y=2^{- m \\left(m^{2} + 10 m + 21\\right)}$"
      ],
      "text/plain": [
       "<IPython.core.display.Math object>"
      ]
     },
     "metadata": {},
     "output_type": "display_data"
    }
   ],
   "source": [
    "y=Y.solve(y)"
   ]
  },
  {
   "cell_type": "code",
   "execution_count": 74,
   "id": "4b94a06e-66c1-458f-9fac-db7d191cbfb2",
   "metadata": {
    "tags": []
   },
   "outputs": [
    {
     "data": {
      "text/latex": [
       "$\\displaystyle z =2^{- 10 m - 35}$"
      ],
      "text/plain": [
       "<IPython.core.display.Math object>"
      ]
     },
     "metadata": {},
     "output_type": "display_data"
    }
   ],
   "source": [
    "z=MyEq(ppow(2,-5*(2*m+7)),'z')"
   ]
  },
  {
   "cell_type": "code",
   "execution_count": 75,
   "id": "f405daa9-b286-45a6-8b29-82b00ad2ab3a",
   "metadata": {
    "tags": []
   },
   "outputs": [
    {
     "data": {
      "text/latex": [
       "$\\displaystyle Q =2^{- m \\left(m^{2} + 10 m + 21\\right)} 2^{- 10 m - 35} \\cdot 2^{m \\left(m^{2} + 10 m + 31\\right) + 30}$"
      ],
      "text/plain": [
       "<IPython.core.display.Math object>"
      ]
     },
     "metadata": {},
     "output_type": "display_data"
    }
   ],
   "source": [
    "Q=MyEq(x*y*z,'Q')"
   ]
  },
  {
   "cell_type": "code",
   "execution_count": 76,
   "id": "2bb689d5-3cf9-4afe-a745-818a7f2ec83c",
   "metadata": {
    "tags": []
   },
   "outputs": [
    {
     "data": {
      "text/latex": [
       "$\\displaystyle Q =\\frac{1}{32}$"
      ],
      "text/plain": [
       "<IPython.core.display.Math object>"
      ]
     },
     "metadata": {},
     "output_type": "display_data"
    }
   ],
   "source": [
    "Q.simplify()"
   ]
  },
  {
   "attachments": {
    "f604a6f6-5218-40f9-b526-696763e55607.png": {
     "image/png": "[encoded data removed]"
    }
   },
   "cell_type": "markdown",
   "id": "e9819473-565f-4246-83e9-35b0654bb5ab",
   "metadata": {},
   "source": [
    "![image.png](attachment:f604a6f6-5218-40f9-b526-696763e55607.png)"
   ]
  },
  {
   "cell_type": "code",
   "execution_count": 77,
   "id": "5e3a7dd4-1ec7-4c01-830b-e15cd06d1e8c",
   "metadata": {
    "tags": []
   },
   "outputs": [],
   "source": [
    "from  Libaldomath  import *\n",
    "# this cell will be initializing your variables,get help run helplib"
   ]
  },
  {
   "attachments": {
    "5cdba332-20d4-417d-b947-9be92022f0fe.png": {
     "image/png": "[encoded data removed]"
    }
   },
   "cell_type": "markdown",
   "id": "6e454911-5f71-4eba-b87b-00ec053a53f5",
   "metadata": {},
   "source": [
    "![image.png](attachment:5cdba332-20d4-417d-b947-9be92022f0fe.png)"
   ]
  },
  {
   "attachments": {
    "41b957b7-470e-497e-9ce2-48b15f3c5549.png": {
     "image/png": "[encoded data removed]"
    }
   },
   "cell_type": "markdown",
   "id": "e7a7b703-bf92-4f5b-ae8b-8a79cbb679f8",
   "metadata": {},
   "source": [
    "![image.png](attachment:41b957b7-470e-497e-9ce2-48b15f3c5549.png)"
   ]
  },
  {
   "attachments": {
    "8bd895b7-0cd2-4f0a-9639-485a2209d1b8.png": {
     "image/png": "[encoded data removed]"
    }
   },
   "cell_type": "markdown",
   "id": "80b57a5b-ca85-40f5-a54e-7ca9ac1f16c2",
   "metadata": {},
   "source": [
    "![image.png](attachment:8bd895b7-0cd2-4f0a-9639-485a2209d1b8.png)"
   ]
  },
  {
   "cell_type": "code",
   "execution_count": 78,
   "id": "c69a5d05-110e-4b18-88f9-3ba7583de1b0",
   "metadata": {
    "tags": []
   },
   "outputs": [
    {
     "data": {
      "text/latex": [
       "$\\displaystyle e1 =- x^{2} + x + 13$"
      ],
      "text/plain": [
       "<IPython.core.display.Math object>"
      ]
     },
     "metadata": {},
     "output_type": "display_data"
    }
   ],
   "source": [
    "e1=MyEq(x-x*x+13,'e1')"
   ]
  },
  {
   "cell_type": "code",
   "execution_count": 79,
   "id": "3035eb5f-9e50-4893-94a2-8d41464a4c45",
   "metadata": {
    "tags": []
   },
   "outputs": [
    {
     "data": {
      "text/latex": [
       "$\\displaystyle e1 =- x^{2} + x + 13$"
      ],
      "text/plain": [
       "<IPython.core.display.Math object>"
      ]
     },
     "metadata": {},
     "output_type": "display_data"
    }
   ],
   "source": [
    "e1.factor()"
   ]
  },
  {
   "cell_type": "code",
   "execution_count": 80,
   "id": "62ec3358-ebc9-4460-aec8-d7d4879241db",
   "metadata": {
    "tags": []
   },
   "outputs": [
    {
     "data": {
      "text/latex": [
       "$\\displaystyle x^{- x^{2} + x + 13} = x^{2} - 12$"
      ],
      "text/plain": [
       "<IPython.core.display.Math object>"
      ]
     },
     "metadata": {},
     "output_type": "display_data"
    }
   ],
   "source": [
    "P=MyEqEq(ppow(x,x-x*x+13),x*x-12)"
   ]
  },
  {
   "cell_type": "code",
   "execution_count": 81,
   "id": "ba834d8b-d93e-4b1e-808c-a8de93175a06",
   "metadata": {
    "tags": []
   },
   "outputs": [
    {
     "data": {
      "text/latex": [
       "$\\displaystyle x^{- x} x^{- x^{2} + x + 13} = x^{- x} \\left(x^{2} - 12\\right)$"
      ],
      "text/plain": [
       "<IPython.core.display.Math object>"
      ]
     },
     "metadata": {},
     "output_type": "display_data"
    }
   ],
   "source": [
    "P.Div(x**x)"
   ]
  },
  {
   "cell_type": "code",
   "execution_count": 82,
   "id": "8c56f122-93da-476a-8ac1-a97974361674",
   "metadata": {
    "tags": []
   },
   "outputs": [
    {
     "data": {
      "text/latex": [
       "$\\displaystyle x^{- x} x^{- x^{2} + x + 13} = x^{- x} \\left(x^{2} - 12\\right)$"
      ],
      "text/plain": [
       "<IPython.core.display.Math object>"
      ]
     },
     "metadata": {},
     "output_type": "display_data"
    }
   ],
   "source": [
    "P.mulexpo()"
   ]
  },
  {
   "cell_type": "code",
   "execution_count": 83,
   "id": "70a1b5d7-e073-472f-ad49-99205f624f09",
   "metadata": {
    "tags": []
   },
   "outputs": [
    {
     "data": {
      "text/latex": [
       "$\\displaystyle \\frac{x^{- x} x^{- x^{2} + x + 13}}{x} = \\frac{x^{- x} \\left(x^{2} - 12\\right)}{x}$"
      ],
      "text/plain": [
       "<IPython.core.display.Math object>"
      ]
     },
     "metadata": {},
     "output_type": "display_data"
    }
   ],
   "source": [
    "P.Div(x)"
   ]
  },
  {
   "cell_type": "code",
   "execution_count": 84,
   "id": "7266b3e0-05aa-4021-a9cf-febad99acb71",
   "metadata": {
    "tags": []
   },
   "outputs": [
    {
     "data": {
      "text/latex": [
       "$\\displaystyle x^{12 - x^{2}} = x^{- x - 1} \\left(x^{2} - 12\\right)$"
      ],
      "text/plain": [
       "<IPython.core.display.Math object>"
      ]
     },
     "metadata": {},
     "output_type": "display_data"
    }
   ],
   "source": [
    "P.simplify()"
   ]
  },
  {
   "cell_type": "code",
   "execution_count": 85,
   "id": "0b2932d2-3812-4e16-86ed-eb6516b36542",
   "metadata": {
    "tags": []
   },
   "outputs": [
    {
     "data": {
      "text/latex": [
       "$\\displaystyle \\frac{x^{12 - x^{2}}}{x^{2} - 12} = x^{- x - 1}$"
      ],
      "text/plain": [
       "<IPython.core.display.Math object>"
      ]
     },
     "metadata": {},
     "output_type": "display_data"
    }
   ],
   "source": [
    "P.Div(x*x-12)"
   ]
  },
  {
   "cell_type": "code",
   "execution_count": 86,
   "id": "e71a6d61-6832-474e-a988-29a84f7cb25c",
   "metadata": {
    "tags": []
   },
   "outputs": [
    {
     "data": {
      "text/latex": [
       "$\\displaystyle x^{2} - 12 = x$"
      ],
      "text/plain": [
       "<IPython.core.display.Math object>"
      ]
     },
     "metadata": {},
     "output_type": "display_data"
    }
   ],
   "source": [
    "#  then x**x-12=x\n",
    "Q=MQ(x*x-12,x)"
   ]
  },
  {
   "cell_type": "code",
   "execution_count": 87,
   "id": "188c04b5-fad6-4b02-b2e0-bebb27f78016",
   "metadata": {
    "tags": []
   },
   "outputs": [
    {
     "data": {
      "text/latex": [
       "$\\displaystyle x^{2} - x - 12 = 0$"
      ],
      "text/plain": [
       "<IPython.core.display.Math object>"
      ]
     },
     "metadata": {},
     "output_type": "display_data"
    }
   ],
   "source": [
    "Q.Substrac(x)"
   ]
  },
  {
   "cell_type": "code",
   "execution_count": 88,
   "id": "308499bd-82aa-4cab-a924-ba3c22c7ab61",
   "metadata": {
    "tags": []
   },
   "outputs": [
    {
     "data": {
      "text/latex": [
       "$\\displaystyle \\left(x - 4\\right) \\left(x + 3\\right) = 0$"
      ],
      "text/plain": [
       "<IPython.core.display.Math object>"
      ]
     },
     "metadata": {},
     "output_type": "display_data"
    }
   ],
   "source": [
    "Q.factor()"
   ]
  },
  {
   "cell_type": "code",
   "execution_count": 89,
   "id": "328d5009-9931-4d9b-912a-27e004f0cfb9",
   "metadata": {
    "tags": []
   },
   "outputs": [
    {
     "data": {
      "image/png": "[encoded data removed]",
      "text/latex": [
       "$\\displaystyle \\left[ -3, \\  4\\right]$"
      ],
      "text/plain": [
       "[-3, 4]"
      ]
     },
     "execution_count": 89,
     "metadata": {},
     "output_type": "execute_result"
    }
   ],
   "source": [
    "solve(Q.L,x) "
   ]
  },
  {
   "cell_type": "code",
   "execution_count": null,
   "id": "74bfd500-7d93-405d-89ef-3511586be1ce",
   "metadata": {},
   "outputs": [],
   "source": []
  }
 ],
 "metadata": {
  "kernelspec": {
   "display_name": "Python 3 (ipykernel)",
   "language": "python",
   "name": "python3"
  },
  "language_info": {
   "codemirror_mode": {
    "name": "ipython",
    "version": 3
   },
   "file_extension": ".py",
   "mimetype": "text/x-python",
   "name": "python",
   "nbconvert_exporter": "python",
   "pygments_lexer": "ipython3",
   "version": "3.9.0"
  }
 },
 "nbformat": 4,
 "nbformat_minor": 5
}
